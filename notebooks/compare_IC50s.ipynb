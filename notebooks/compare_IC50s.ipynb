{
 "cells": [
  {
   "cell_type": "markdown",
   "id": "a1d0b0d2-8dd1-4f2a-81f8-d130a6089854",
   "metadata": {},
   "source": [
    "# Compare antibody neutralization values\n",
    "Compare neutralization values for COV2-2130 and 2130-1-0114-112 antibodies\n",
    "\n",
    "Import Python modules:"
   ]
  },
  {
   "cell_type": "code",
   "execution_count": 1,
   "id": "49915887-e758-42d5-9de3-f1993d5549aa",
   "metadata": {
    "tags": []
   },
   "outputs": [],
   "source": [
    "import os\n",
    "import pickle\n",
    "\n",
    "import altair as alt\n",
    "\n",
    "import pandas as pd\n",
    "from functools import reduce\n",
    "\n",
    "import yaml"
   ]
  },
  {
   "cell_type": "markdown",
   "id": "bde31c10-cd4b-46fb-b954-43029300c9b7",
   "metadata": {},
   "source": [
    "Read configuration:"
   ]
  },
  {
   "cell_type": "code",
   "execution_count": 7,
   "id": "1ce28e92-f53e-47e1-81a8-f7894cfc3036",
   "metadata": {
    "tags": []
   },
   "outputs": [],
   "source": [
    "with open(\"config.yaml\") as f:\n",
    "    config = yaml.safe_load(f)"
   ]
  },
  {
   "cell_type": "code",
   "execution_count": 8,
   "id": "3bb9e012-1b1c-4477-a9f3-87a2495a718e",
   "metadata": {
    "tags": []
   },
   "outputs": [],
   "source": [
    "antibodies = ['COV2-2130','2130-1-0114-112']"
   ]
  },
  {
   "cell_type": "markdown",
   "id": "b17a6dc4-095c-437f-8482-af3189efa8b0",
   "metadata": {},
   "source": [
    "Now get the averaged `polyclonal` model fits:"
   ]
  },
  {
   "cell_type": "code",
   "execution_count": 17,
   "id": "1141ea22-c57d-420a-b81d-f3626ae70193",
   "metadata": {
    "tags": []
   },
   "outputs": [],
   "source": [
    "neutralization = []\n",
    "for antibody in antibodies: \n",
    "    with open(os.path.join(config[\"escape_dir\"], f\"{antibody}.pickle\"), \"rb\") as f:\n",
    "        model = pickle.load(f)\n",
    "    with open(os.path.join(config[\"escape_dir\"], f\"{antibody}_avg.csv\"), \"rb\") as h:\n",
    "        variants_df = pd.read_csv(h)\n",
    "        variants_df['aa_substitutions'] = variants_df['mutation']\n",
    "        variants_df = variants_df.filter(['aa_substitutions', 'times_seen'], axis=1)\n",
    "        variants_df['antibody'] = antibody\n",
    "        model.icXX(variants_df)\n",
    "    neutralization.append(model.icXX(variants_df))"
   ]
  },
  {
   "cell_type": "code",
   "execution_count": 18,
   "id": "99db7879-9992-40ad-98fb-fa2a29438182",
   "metadata": {
    "tags": []
   },
   "outputs": [],
   "source": [
    "neutralization = reduce(lambda x, y: pd.merge(x, y, on = 'aa_substitutions',\n",
    "                                             suffixes=('_COV2-2130', '_2130-1-0114-112')), neutralization)\n",
    "neutralization = neutralization.loc[(neutralization['n_models_COV2-2130'] >= 2) & (neutralization['n_models_2130-1-0114-112'] >= 2)]\n",
    "neutralization = neutralization.loc[(neutralization['times_seen_COV2-2130'] >= 3) & (neutralization['times_seen_2130-1-0114-112'] >= 3)]\n"
   ]
  },
  {
   "cell_type": "code",
   "execution_count": 19,
   "id": "5d108532-bc99-4ed8-88b3-a7145b792c74",
   "metadata": {
    "tags": []
   },
   "outputs": [],
   "source": [
    "#remove some excess columns\n",
    "neutralization.drop(['antibody_COV2-2130', 'antibody_2130-1-0114-112',\n",
    "                     'n_models_COV2-2130', 'frac_models_COV2-2130',\n",
    "                     'n_models_2130-1-0114-112', 'frac_models_2130-1-0114-112' ], axis=1, inplace=True)"
   ]
  },
  {
   "cell_type": "markdown",
   "id": "d58fc803-bbc6-4d0e-9033-a70f2534d8a9",
   "metadata": {
    "execution": {
     "iopub.execute_input": "2022-08-18T21:39:12.549294Z",
     "iopub.status.busy": "2022-08-18T21:39:12.549006Z",
     "iopub.status.idle": "2022-08-18T21:39:12.563996Z",
     "shell.execute_reply": "2022-08-18T21:39:12.563039Z",
     "shell.execute_reply.started": "2022-08-18T21:39:12.549268Z"
    },
    "tags": []
   },
   "source": [
    "Now plot the results.\n",
    "We will plot the **median** IC50s across the replicate `polyclonal` fits for each antibody.\n",
    "This is an interactive plot that you can mouse over for details:"
   ]
  },
  {
   "cell_type": "code",
   "execution_count": null,
   "id": "63e00942-3f78-47ce-959d-4e5cf5ca0e4b",
   "metadata": {
    "tags": []
   },
   "outputs": [],
   "source": [
    "corr_chart = (\n",
    "    alt.Chart(neutralization)\n",
    "    .encode(\n",
    "        x=alt.X(\n",
    "            \"median_IC50_COV2-2130\",\n",
    "            title=\"COV2-2130 IC50 (arbitrary units)\",\n",
    "            scale=alt.Scale(type=\"log\", domainMax=1000, domainMin = 0.003),\n",
    "        ),\n",
    "        y=alt.Y(\n",
    "            \"median_IC50_2130-1-0114-112\",\n",
    "            title=\"2130-1-0114-112 IC50 (arbitrary units)\",\n",
    "            scale=alt.Scale(type=\"log\", domainMax=1000, domainMin = 0.003),\n",
    "        ),\n",
    "        tooltip=[\n",
    "            alt.Tooltip(c, format=\".3g\") if neutralization[c].dtype == float\n",
    "            else c\n",
    "            for c in neutralization.columns.tolist()\n",
    "        ],\n",
    "    )\n",
    "    .mark_circle(filled=True, size=60, opacity=0.3)\n",
    "    .configure_axis(grid=False)\n",
    "    .resolve_scale(y=\"independent\", x=\"independent\")\n",
    "    .properties(width=300, height=300)\n",
    ")\n",
    "\n",
    "corr_chart"
   ]
  },
  {
   "cell_type": "code",
   "execution_count": null,
   "id": "923d4ccb-49f0-4842-8bca-76429cb89c4d",
   "metadata": {},
   "outputs": [],
   "source": []
  }
 ],
 "metadata": {
  "kernelspec": {
   "display_name": "Python 3 (ipykernel)",
   "language": "python",
   "name": "python3"
  },
  "language_info": {
   "codemirror_mode": {
    "name": "ipython",
    "version": 3
   },
   "file_extension": ".py",
   "mimetype": "text/x-python",
   "name": "python",
   "nbconvert_exporter": "python",
   "pygments_lexer": "ipython3",
   "version": "3.11.0"
  }
 },
 "nbformat": 4,
 "nbformat_minor": 5
}
