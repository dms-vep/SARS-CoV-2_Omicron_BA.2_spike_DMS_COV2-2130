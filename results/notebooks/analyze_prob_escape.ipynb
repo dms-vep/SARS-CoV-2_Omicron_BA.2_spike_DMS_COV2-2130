{
 "cells": [
  {
   "cell_type": "markdown",
   "id": "8be48d35-1acb-4b7d-b5d1-0b8e699a004a",
   "metadata": {
    "papermill": {
     "duration": 0.016179,
     "end_time": "2023-02-15T21:15:07.451608",
     "exception": false,
     "start_time": "2023-02-15T21:15:07.435429",
     "status": "completed"
    },
    "tags": []
   },
   "source": [
    "# Probabilities of escape and neutralization in antibody selections\n",
    "\n",
    "This notebook analyzes the probabilities of escape and neutralization in antibody selections.\n",
    "\n",
    "Import Python modules:"
   ]
  },
  {
   "cell_type": "code",
   "execution_count": 1,
   "id": "2c53379e-3ca3-4a36-b09a-b3cd00ac8064",
   "metadata": {
    "execution": {
     "iopub.execute_input": "2023-02-15T21:15:07.471849Z",
     "iopub.status.busy": "2023-02-15T21:15:07.470818Z",
     "iopub.status.idle": "2023-02-15T21:15:10.154584Z",
     "shell.execute_reply": "2023-02-15T21:15:10.153751Z"
    },
    "papermill": {
     "duration": 2.697069,
     "end_time": "2023-02-15T21:15:10.157112",
     "exception": false,
     "start_time": "2023-02-15T21:15:07.460043",
     "status": "completed"
    },
    "tags": []
   },
   "outputs": [],
   "source": [
    "import os\n",
    "\n",
    "import altair as alt\n",
    "\n",
    "import dms_variants.codonvarianttable\n",
    "\n",
    "import pandas as pd\n",
    "\n",
    "import yaml"
   ]
  },
  {
   "cell_type": "code",
   "execution_count": 2,
   "id": "ecbee837-6b04-409b-ad81-28a40c371e81",
   "metadata": {
    "execution": {
     "iopub.execute_input": "2023-02-15T21:15:10.178986Z",
     "iopub.status.busy": "2023-02-15T21:15:10.177978Z",
     "iopub.status.idle": "2023-02-15T21:15:10.183578Z",
     "shell.execute_reply": "2023-02-15T21:15:10.183031Z"
    },
    "papermill": {
     "duration": 0.016421,
     "end_time": "2023-02-15T21:15:10.185099",
     "exception": false,
     "start_time": "2023-02-15T21:15:10.168678",
     "status": "completed"
    },
    "tags": []
   },
   "outputs": [],
   "source": [
    "# allow more rows for Altair\n",
    "_ = alt.data_transformers.disable_max_rows()"
   ]
  },
  {
   "cell_type": "markdown",
   "id": "52047cd7-1f3e-4bcc-89e3-53ae3695b841",
   "metadata": {
    "papermill": {
     "duration": 0.007497,
     "end_time": "2023-02-15T21:15:10.199996",
     "exception": false,
     "start_time": "2023-02-15T21:15:10.192499",
     "status": "completed"
    },
    "tags": []
   },
   "source": [
    "Get configuration information:"
   ]
  },
  {
   "cell_type": "code",
   "execution_count": 3,
   "id": "425806e5-dc2f-4900-ba8f-33c13908bac4",
   "metadata": {
    "execution": {
     "iopub.execute_input": "2023-02-15T21:15:10.218739Z",
     "iopub.status.busy": "2023-02-15T21:15:10.217943Z",
     "iopub.status.idle": "2023-02-15T21:15:10.232084Z",
     "shell.execute_reply": "2023-02-15T21:15:10.231501Z"
    },
    "papermill": {
     "duration": 0.026361,
     "end_time": "2023-02-15T21:15:10.234173",
     "exception": false,
     "start_time": "2023-02-15T21:15:10.207812",
     "status": "completed"
    },
    "tags": []
   },
   "outputs": [],
   "source": [
    "# If you are running notebook interactively rather than in pipeline that handles\n",
    "# working directories, you may have to first `os.chdir` to appropriate directory.\n",
    "\n",
    "with open(\"config.yaml\") as f:\n",
    "    config = yaml.safe_load(f)"
   ]
  },
  {
   "cell_type": "markdown",
   "id": "66bd1c96-d334-495e-bf6d-3ec4b5d740a6",
   "metadata": {
    "papermill": {
     "duration": 0.007518,
     "end_time": "2023-02-15T21:15:10.252444",
     "exception": false,
     "start_time": "2023-02-15T21:15:10.244926",
     "status": "completed"
    },
    "tags": []
   },
   "source": [
    "## Read the escape probabilities and neutralization information\n",
    "Get the antibody selections data frame:"
   ]
  },
  {
   "cell_type": "code",
   "execution_count": 4,
   "id": "42b7ddc5-3acb-4770-bd2a-3996568154e8",
   "metadata": {
    "execution": {
     "iopub.execute_input": "2023-02-15T21:15:10.269433Z",
     "iopub.status.busy": "2023-02-15T21:15:10.268600Z",
     "iopub.status.idle": "2023-02-15T21:15:10.280206Z",
     "shell.execute_reply": "2023-02-15T21:15:10.279553Z"
    },
    "papermill": {
     "duration": 0.021893,
     "end_time": "2023-02-15T21:15:10.281746",
     "exception": false,
     "start_time": "2023-02-15T21:15:10.259853",
     "status": "completed"
    },
    "tags": []
   },
   "outputs": [],
   "source": [
    "antibody_selections = pd.read_csv(\n",
    "    config[\"antibody_selections\"],\n",
    "    dtype={\"antibody\": str},\n",
    ")"
   ]
  },
  {
   "cell_type": "markdown",
   "id": "bc0bd67d-56b0-4318-8e03-18597c4d9eb8",
   "metadata": {
    "papermill": {
     "duration": 0.008492,
     "end_time": "2023-02-15T21:15:10.302294",
     "exception": false,
     "start_time": "2023-02-15T21:15:10.293802",
     "status": "completed"
    },
    "tags": []
   },
   "source": [
    "Read in the probabilities of escape and neutralization information:"
   ]
  },
  {
   "cell_type": "code",
   "execution_count": 5,
   "id": "c3306468-0cbb-4b57-91f3-0dc88ceee339",
   "metadata": {
    "execution": {
     "iopub.execute_input": "2023-02-15T21:15:10.324540Z",
     "iopub.status.busy": "2023-02-15T21:15:10.323936Z",
     "iopub.status.idle": "2023-02-15T21:15:13.208046Z",
     "shell.execute_reply": "2023-02-15T21:15:13.207309Z"
    },
    "papermill": {
     "duration": 2.897659,
     "end_time": "2023-02-15T21:15:13.210443",
     "exception": false,
     "start_time": "2023-02-15T21:15:10.312784",
     "status": "completed"
    },
    "tags": []
   },
   "outputs": [],
   "source": [
    "selection_groups = antibody_selections[\"selection_group\"].unique()\n",
    "\n",
    "prob_escape = pd.concat(\n",
    "    [\n",
    "        pd.read_csv(\n",
    "            os.path.join(\n",
    "                config[\"prob_escape_dir\"], f\"{selection_group}_prob_escape.csv\"\n",
    "            ),\n",
    "            keep_default_na=False,\n",
    "            na_values=\"nan\",\n",
    "        )\n",
    "        for selection_group in selection_groups\n",
    "    ],\n",
    "    ignore_index=True,\n",
    ")\n",
    "\n",
    "neut_standard_fracs = pd.concat(\n",
    "    [\n",
    "        pd.read_csv(\n",
    "            os.path.join(\n",
    "                config[\"prob_escape_dir\"], f\"{selection_group}_neut_standard_fracs.csv\"\n",
    "            ),\n",
    "            na_filter=None,\n",
    "            dtype={\"antibody\": str},\n",
    "        )\n",
    "        for selection_group in selection_groups\n",
    "    ],\n",
    "    ignore_index=True,\n",
    ").merge(\n",
    "    antibody_selections.drop(columns=\"antibody_concentration\"),  # can be rounding\n",
    "    how=\"left\",\n",
    "    validate=\"one_to_one\",\n",
    ")\n",
    "assert neut_standard_fracs.notnull().all().all()\n",
    "\n",
    "neutralization = pd.concat(\n",
    "    [\n",
    "        pd.read_csv(\n",
    "            os.path.join(\n",
    "                config[\"prob_escape_dir\"], f\"{selection_group}_neutralization.csv\"\n",
    "            ),\n",
    "            na_filter=None,\n",
    "        )\n",
    "        for selection_group in selection_groups\n",
    "    ],\n",
    "    ignore_index=True,\n",
    ")\n",
    "\n",
    "# sample order for plotting\n",
    "sample_order = antibody_selections.sort_values(\n",
    "    [\n",
    "        \"library\",\n",
    "        \"date\",\n",
    "        \"virus_batch\",\n",
    "        \"antibody\",\n",
    "        \"replicate\",\n",
    "        \"antibody_concentration\",\n",
    "    ],\n",
    ")[\"antibody_library_sample\"].tolist()"
   ]
  },
  {
   "cell_type": "markdown",
   "id": "53ab73ec-e6d0-4139-a1ec-056cea01f727",
   "metadata": {
    "papermill": {
     "duration": 0.008972,
     "end_time": "2023-02-15T21:15:13.228046",
     "exception": false,
     "start_time": "2023-02-15T21:15:13.219074",
     "status": "completed"
    },
    "tags": []
   },
   "source": [
    "## Fraction of barcode counts for neutralization standard"
   ]
  },
  {
   "cell_type": "markdown",
   "id": "70dd09b9-3ce6-41d9-8528-23c9201bbc10",
   "metadata": {
    "papermill": {
     "duration": 0.009813,
     "end_time": "2023-02-15T21:15:13.247102",
     "exception": false,
     "start_time": "2023-02-15T21:15:13.237289",
     "status": "completed"
    },
    "tags": []
   },
   "source": [
    "Make an interactive plot showing this fraction of counts that are neutralization standard for each antibody sample and its no-antibody control.\n",
    "Note the fractions are plotted on a symlog scale:"
   ]
  },
  {
   "cell_type": "code",
   "execution_count": 6,
   "id": "fd1930b5-6d2c-481a-ac61-70888815647e",
   "metadata": {
    "execution": {
     "iopub.execute_input": "2023-02-15T21:15:13.268751Z",
     "iopub.status.busy": "2023-02-15T21:15:13.268029Z",
     "iopub.status.idle": "2023-02-15T21:15:13.433910Z",
     "shell.execute_reply": "2023-02-15T21:15:13.432982Z"
    },
    "papermill": {
     "duration": 0.178975,
     "end_time": "2023-02-15T21:15:13.436226",
     "exception": false,
     "start_time": "2023-02-15T21:15:13.257251",
     "status": "completed"
    },
    "tags": []
   },
   "outputs": [
    {
     "data": {
      "text/html": [
       "\n",
       "<div id=\"altair-viz-07ebb3f6a10248ee9c1c442bed05cef6\"></div>\n",
       "<script type=\"text/javascript\">\n",
       "  var VEGA_DEBUG = (typeof VEGA_DEBUG == \"undefined\") ? {} : VEGA_DEBUG;\n",
       "  (function(spec, embedOpt){\n",
       "    let outputDiv = document.currentScript.previousElementSibling;\n",
       "    if (outputDiv.id !== \"altair-viz-07ebb3f6a10248ee9c1c442bed05cef6\") {\n",
       "      outputDiv = document.getElementById(\"altair-viz-07ebb3f6a10248ee9c1c442bed05cef6\");\n",
       "    }\n",
       "    const paths = {\n",
       "      \"vega\": \"https://cdn.jsdelivr.net/npm/vega@5?noext\",\n",
       "      \"vega-lib\": \"https://cdn.jsdelivr.net/npm/vega-lib?noext\",\n",
       "      \"vega-lite\": \"https://cdn.jsdelivr.net/npm/vega-lite@5.2.0?noext\",\n",
       "      \"vega-embed\": \"https://cdn.jsdelivr.net/npm/vega-embed@6?noext\",\n",
       "    };\n",
       "\n",
       "    function maybeLoadScript(lib, version) {\n",
       "      var key = `${lib.replace(\"-\", \"\")}_version`;\n",
       "      return (VEGA_DEBUG[key] == version) ?\n",
       "        Promise.resolve(paths[lib]) :\n",
       "        new Promise(function(resolve, reject) {\n",
       "          var s = document.createElement('script');\n",
       "          document.getElementsByTagName(\"head\")[0].appendChild(s);\n",
       "          s.async = true;\n",
       "          s.onload = () => {\n",
       "            VEGA_DEBUG[key] = version;\n",
       "            return resolve(paths[lib]);\n",
       "          };\n",
       "          s.onerror = () => reject(`Error loading script: ${paths[lib]}`);\n",
       "          s.src = paths[lib];\n",
       "        });\n",
       "    }\n",
       "\n",
       "    function showError(err) {\n",
       "      outputDiv.innerHTML = `<div class=\"error\" style=\"color:red;\">${err}</div>`;\n",
       "      throw err;\n",
       "    }\n",
       "\n",
       "    function displayChart(vegaEmbed) {\n",
       "      vegaEmbed(outputDiv, spec, embedOpt)\n",
       "        .catch(err => showError(`Javascript Error: ${err.message}<br>This usually means there's a typo in your chart specification. See the javascript console for the full traceback.`));\n",
       "    }\n",
       "\n",
       "    if(typeof define === \"function\" && define.amd) {\n",
       "      requirejs.config({paths});\n",
       "      require([\"vega-embed\"], displayChart, err => showError(`Error loading script: ${err.message}`));\n",
       "    } else {\n",
       "      maybeLoadScript(\"vega\", \"5\")\n",
       "        .then(() => maybeLoadScript(\"vega-lite\", \"5.2.0\"))\n",
       "        .then(() => maybeLoadScript(\"vega-embed\", \"6\"))\n",
       "        .catch(showError)\n",
       "        .then(() => displayChart(vegaEmbed));\n",
       "    }\n",
       "  })({\"config\": {\"view\": {\"continuousWidth\": 300, \"continuousHeight\": 300}, \"axis\": {\"labelLimit\": 500}}, \"data\": {\"name\": \"data-98af996df41ec9117146095757137692\"}, \"mark\": \"point\", \"encoding\": {\"color\": {\"field\": \"sample_type\", \"type\": \"nominal\"}, \"shape\": {\"field\": \"sample_type\", \"type\": \"nominal\"}, \"tooltip\": [{\"field\": \"library\", \"type\": \"nominal\"}, {\"field\": \"antibody_sample\", \"type\": \"nominal\"}, {\"field\": \"no-antibody_sample\", \"type\": \"nominal\"}, {\"field\": \"antibody\", \"type\": \"nominal\"}, {\"field\": \"antibody_concentration\", \"type\": \"quantitative\"}, {\"field\": \"antibody_count\", \"type\": \"quantitative\"}, {\"field\": \"no-antibody_count\", \"type\": \"quantitative\"}, {\"field\": \"virus_batch\", \"type\": \"nominal\"}, {\"field\": \"date\", \"type\": \"nominal\"}, {\"field\": \"replicate\", \"type\": \"quantitative\"}, {\"field\": \"selection_group\", \"type\": \"nominal\"}, {\"field\": \"sample_type\", \"type\": \"nominal\"}, {\"field\": \"neut_standard_frac\", \"format\": \".2g\", \"type\": \"quantitative\"}], \"x\": {\"field\": \"neut_standard_frac\", \"scale\": {\"constant\": 0.02, \"domainMax\": 1, \"type\": \"symlog\"}, \"title\": \"neutralization standard fraction\", \"type\": \"quantitative\"}, \"y\": {\"field\": \"library_sample\", \"sort\": [\"Lib-1_2022-03-14_thaw-3_antibody_2130-1-0114-112_1.76_1\", \"Lib-1_2022-03-14_thaw-3_antibody_2130-1-0114-112_8.79_1\", \"Lib-1_2022-03-14_thaw-3_antibody_2130-1-0114-112_43.94_1\", \"Lib-1_2022-03-14_thaw-3_antibody_COV2-2130_0.8_1\", \"Lib-1_2022-03-14_thaw-3_antibody_COV2-2130_3.99_1\", \"Lib-1_2022-03-14_thaw-3_antibody_COV2-2130_19.95_1\", \"Lib-2_2022-03-14_thaw-3_antibody_2130-1-0114-112_1.76_1\", \"Lib-2_2022-03-14_thaw-3_antibody_2130-1-0114-112_8.79_1\", \"Lib-2_2022-03-14_thaw-3_antibody_2130-1-0114-112_43.94_1\", \"Lib-2_2022-03-14_thaw-3_antibody_COV2-2130_0.8_1\", \"Lib-2_2022-03-14_thaw-3_antibody_COV2-2130_3.99_1\", \"Lib-2_2022-03-14_thaw-3_antibody_COV2-2130_19.95_1\"], \"title\": null, \"type\": \"nominal\"}}, \"height\": {\"step\": 14}, \"params\": [{\"name\": \"param_1\", \"select\": {\"type\": \"point\", \"fields\": [\"library\"]}, \"bind\": {\"input\": \"select\", \"options\": [null, \"Lib-1\", \"Lib-2\"], \"labels\": [\"all\", \"Lib-1\", \"Lib-2\"], \"name\": \"library\"}}, {\"name\": \"param_2\", \"select\": {\"type\": \"point\", \"fields\": [\"date\"]}, \"bind\": {\"input\": \"select\", \"options\": [null, \"2022-03-14\"], \"labels\": [\"all\", \"2022-03-14\"], \"name\": \"date\"}}, {\"name\": \"param_3\", \"select\": {\"type\": \"point\", \"fields\": [\"antibody\"]}, \"bind\": {\"input\": \"select\", \"options\": [null, \"COV2-2130\", \"2130-1-0114-112\"], \"labels\": [\"all\", \"COV2-2130\", \"2130-1-0114-112\"], \"name\": \"antibody\"}}, {\"name\": \"param_4\", \"select\": {\"type\": \"point\", \"fields\": [\"virus_batch\"]}, \"bind\": {\"input\": \"select\", \"options\": [null, \"thaw-3\"], \"labels\": [\"all\", \"thaw-3\"], \"name\": \"virus_batch\"}}], \"transform\": [{\"filter\": {\"param\": \"param_1\"}}, {\"filter\": {\"param\": \"param_2\"}}, {\"filter\": {\"param\": \"param_3\"}}, {\"filter\": {\"param\": \"param_4\"}}], \"width\": 275, \"$schema\": \"https://vega.github.io/schema/vega-lite/v5.2.0.json\", \"datasets\": {\"data-98af996df41ec9117146095757137692\": [{\"library\": \"Lib-1\", \"antibody_sample\": \"2022-03-14_thaw-3_antibody_COV2-2130_0.8_1\", \"no-antibody_sample\": \"2022-03-14_thaw-3_no-antibody_control_1\", \"antibody\": \"COV2-2130\", \"antibody_concentration\": 0.8, \"antibody_count\": 2183898, \"no-antibody_count\": 231982, \"virus_batch\": \"thaw-3\", \"date\": \"2022-03-14\", \"replicate\": 1, \"antibody_library_sample\": \"Lib-1_2022-03-14_thaw-3_antibody_COV2-2130_0.8_1\", \"no-antibody_library_sample\": \"Lib-1_2022-03-14_thaw-3_no-antibody_control_1\", \"selection_group\": \"Lib-1_2022-03-14_thaw-3_COV2-2130_1\", \"sample_type\": \"antibody\", \"neut_standard_frac\": 0.1537, \"library_sample\": \"Lib-1_2022-03-14_thaw-3_antibody_COV2-2130_0.8_1\"}, {\"library\": \"Lib-1\", \"antibody_sample\": \"2022-03-14_thaw-3_antibody_COV2-2130_3.99_1\", \"no-antibody_sample\": \"2022-03-14_thaw-3_no-antibody_control_1\", \"antibody\": \"COV2-2130\", \"antibody_concentration\": 3.99, \"antibody_count\": 5998353, \"no-antibody_count\": 231982, \"virus_batch\": \"thaw-3\", \"date\": \"2022-03-14\", \"replicate\": 1, \"antibody_library_sample\": \"Lib-1_2022-03-14_thaw-3_antibody_COV2-2130_3.99_1\", \"no-antibody_library_sample\": \"Lib-1_2022-03-14_thaw-3_no-antibody_control_1\", \"selection_group\": \"Lib-1_2022-03-14_thaw-3_COV2-2130_1\", \"sample_type\": \"antibody\", \"neut_standard_frac\": 0.3671, \"library_sample\": \"Lib-1_2022-03-14_thaw-3_antibody_COV2-2130_3.99_1\"}, {\"library\": \"Lib-1\", \"antibody_sample\": \"2022-03-14_thaw-3_antibody_COV2-2130_19.95_1\", \"no-antibody_sample\": \"2022-03-14_thaw-3_no-antibody_control_1\", \"antibody\": \"COV2-2130\", \"antibody_concentration\": 19.95, \"antibody_count\": 7392512, \"no-antibody_count\": 231982, \"virus_batch\": \"thaw-3\", \"date\": \"2022-03-14\", \"replicate\": 1, \"antibody_library_sample\": \"Lib-1_2022-03-14_thaw-3_antibody_COV2-2130_19.95_1\", \"no-antibody_library_sample\": \"Lib-1_2022-03-14_thaw-3_no-antibody_control_1\", \"selection_group\": \"Lib-1_2022-03-14_thaw-3_COV2-2130_1\", \"sample_type\": \"antibody\", \"neut_standard_frac\": 0.4335, \"library_sample\": \"Lib-1_2022-03-14_thaw-3_antibody_COV2-2130_19.95_1\"}, {\"library\": \"Lib-1\", \"antibody_sample\": \"2022-03-14_thaw-3_antibody_2130-1-0114-112_1.76_1\", \"no-antibody_sample\": \"2022-03-14_thaw-3_no-antibody_control_1\", \"antibody\": \"2130-1-0114-112\", \"antibody_concentration\": 1.76, \"antibody_count\": 283962, \"no-antibody_count\": 231982, \"virus_batch\": \"thaw-3\", \"date\": \"2022-03-14\", \"replicate\": 1, \"antibody_library_sample\": \"Lib-1_2022-03-14_thaw-3_antibody_2130-1-0114-112_1.76_1\", \"no-antibody_library_sample\": \"Lib-1_2022-03-14_thaw-3_no-antibody_control_1\", \"selection_group\": \"Lib-1_2022-03-14_thaw-3_2130-1-0114-112_1\", \"sample_type\": \"antibody\", \"neut_standard_frac\": 0.0164, \"library_sample\": \"Lib-1_2022-03-14_thaw-3_antibody_2130-1-0114-112_1.76_1\"}, {\"library\": \"Lib-1\", \"antibody_sample\": \"2022-03-14_thaw-3_antibody_2130-1-0114-112_8.79_1\", \"no-antibody_sample\": \"2022-03-14_thaw-3_no-antibody_control_1\", \"antibody\": \"2130-1-0114-112\", \"antibody_concentration\": 8.79, \"antibody_count\": 4535977, \"no-antibody_count\": 231982, \"virus_batch\": \"thaw-3\", \"date\": \"2022-03-14\", \"replicate\": 1, \"antibody_library_sample\": \"Lib-1_2022-03-14_thaw-3_antibody_2130-1-0114-112_8.79_1\", \"no-antibody_library_sample\": \"Lib-1_2022-03-14_thaw-3_no-antibody_control_1\", \"selection_group\": \"Lib-1_2022-03-14_thaw-3_2130-1-0114-112_1\", \"sample_type\": \"antibody\", \"neut_standard_frac\": 0.2767, \"library_sample\": \"Lib-1_2022-03-14_thaw-3_antibody_2130-1-0114-112_8.79_1\"}, {\"library\": \"Lib-1\", \"antibody_sample\": \"2022-03-14_thaw-3_antibody_2130-1-0114-112_43.94_1\", \"no-antibody_sample\": \"2022-03-14_thaw-3_no-antibody_control_1\", \"antibody\": \"2130-1-0114-112\", \"antibody_concentration\": 43.94, \"antibody_count\": 6285313, \"no-antibody_count\": 231982, \"virus_batch\": \"thaw-3\", \"date\": \"2022-03-14\", \"replicate\": 1, \"antibody_library_sample\": \"Lib-1_2022-03-14_thaw-3_antibody_2130-1-0114-112_43.94_1\", \"no-antibody_library_sample\": \"Lib-1_2022-03-14_thaw-3_no-antibody_control_1\", \"selection_group\": \"Lib-1_2022-03-14_thaw-3_2130-1-0114-112_1\", \"sample_type\": \"antibody\", \"neut_standard_frac\": 0.4762, \"library_sample\": \"Lib-1_2022-03-14_thaw-3_antibody_2130-1-0114-112_43.94_1\"}, {\"library\": \"Lib-2\", \"antibody_sample\": \"2022-03-14_thaw-3_antibody_COV2-2130_0.8_1\", \"no-antibody_sample\": \"2022-03-14_thaw-3_no-antibody_control_1\", \"antibody\": \"COV2-2130\", \"antibody_concentration\": 0.8, \"antibody_count\": 3388034, \"no-antibody_count\": 260450, \"virus_batch\": \"thaw-3\", \"date\": \"2022-03-14\", \"replicate\": 1, \"antibody_library_sample\": \"Lib-2_2022-03-14_thaw-3_antibody_COV2-2130_0.8_1\", \"no-antibody_library_sample\": \"Lib-2_2022-03-14_thaw-3_no-antibody_control_1\", \"selection_group\": \"Lib-2_2022-03-14_thaw-3_COV2-2130_1\", \"sample_type\": \"antibody\", \"neut_standard_frac\": 0.1873, \"library_sample\": \"Lib-2_2022-03-14_thaw-3_antibody_COV2-2130_0.8_1\"}, {\"library\": \"Lib-2\", \"antibody_sample\": \"2022-03-14_thaw-3_antibody_COV2-2130_3.99_1\", \"no-antibody_sample\": \"2022-03-14_thaw-3_no-antibody_control_1\", \"antibody\": \"COV2-2130\", \"antibody_concentration\": 3.99, \"antibody_count\": 6100442, \"no-antibody_count\": 260450, \"virus_batch\": \"thaw-3\", \"date\": \"2022-03-14\", \"replicate\": 1, \"antibody_library_sample\": \"Lib-2_2022-03-14_thaw-3_antibody_COV2-2130_3.99_1\", \"no-antibody_library_sample\": \"Lib-2_2022-03-14_thaw-3_no-antibody_control_1\", \"selection_group\": \"Lib-2_2022-03-14_thaw-3_COV2-2130_1\", \"sample_type\": \"antibody\", \"neut_standard_frac\": 0.3646, \"library_sample\": \"Lib-2_2022-03-14_thaw-3_antibody_COV2-2130_3.99_1\"}, {\"library\": \"Lib-2\", \"antibody_sample\": \"2022-03-14_thaw-3_antibody_COV2-2130_19.95_1\", \"no-antibody_sample\": \"2022-03-14_thaw-3_no-antibody_control_1\", \"antibody\": \"COV2-2130\", \"antibody_concentration\": 19.95, \"antibody_count\": 7188763, \"no-antibody_count\": 260450, \"virus_batch\": \"thaw-3\", \"date\": \"2022-03-14\", \"replicate\": 1, \"antibody_library_sample\": \"Lib-2_2022-03-14_thaw-3_antibody_COV2-2130_19.95_1\", \"no-antibody_library_sample\": \"Lib-2_2022-03-14_thaw-3_no-antibody_control_1\", \"selection_group\": \"Lib-2_2022-03-14_thaw-3_COV2-2130_1\", \"sample_type\": \"antibody\", \"neut_standard_frac\": 0.4164, \"library_sample\": \"Lib-2_2022-03-14_thaw-3_antibody_COV2-2130_19.95_1\"}, {\"library\": \"Lib-2\", \"antibody_sample\": \"2022-03-14_thaw-3_antibody_2130-1-0114-112_1.76_1\", \"no-antibody_sample\": \"2022-03-14_thaw-3_no-antibody_control_1\", \"antibody\": \"2130-1-0114-112\", \"antibody_concentration\": 1.76, \"antibody_count\": 329697, \"no-antibody_count\": 260450, \"virus_batch\": \"thaw-3\", \"date\": \"2022-03-14\", \"replicate\": 1, \"antibody_library_sample\": \"Lib-2_2022-03-14_thaw-3_antibody_2130-1-0114-112_1.76_1\", \"no-antibody_library_sample\": \"Lib-2_2022-03-14_thaw-3_no-antibody_control_1\", \"selection_group\": \"Lib-2_2022-03-14_thaw-3_2130-1-0114-112_1\", \"sample_type\": \"antibody\", \"neut_standard_frac\": 0.01895, \"library_sample\": \"Lib-2_2022-03-14_thaw-3_antibody_2130-1-0114-112_1.76_1\"}, {\"library\": \"Lib-2\", \"antibody_sample\": \"2022-03-14_thaw-3_antibody_2130-1-0114-112_8.79_1\", \"no-antibody_sample\": \"2022-03-14_thaw-3_no-antibody_control_1\", \"antibody\": \"2130-1-0114-112\", \"antibody_concentration\": 8.79, \"antibody_count\": 7232593, \"no-antibody_count\": 260450, \"virus_batch\": \"thaw-3\", \"date\": \"2022-03-14\", \"replicate\": 1, \"antibody_library_sample\": \"Lib-2_2022-03-14_thaw-3_antibody_2130-1-0114-112_8.79_1\", \"no-antibody_library_sample\": \"Lib-2_2022-03-14_thaw-3_no-antibody_control_1\", \"selection_group\": \"Lib-2_2022-03-14_thaw-3_2130-1-0114-112_1\", \"sample_type\": \"antibody\", \"neut_standard_frac\": 0.4346, \"library_sample\": \"Lib-2_2022-03-14_thaw-3_antibody_2130-1-0114-112_8.79_1\"}, {\"library\": \"Lib-2\", \"antibody_sample\": \"2022-03-14_thaw-3_antibody_2130-1-0114-112_43.94_1\", \"no-antibody_sample\": \"2022-03-14_thaw-3_no-antibody_control_1\", \"antibody\": \"2130-1-0114-112\", \"antibody_concentration\": 43.94, \"antibody_count\": 7821989, \"no-antibody_count\": 260450, \"virus_batch\": \"thaw-3\", \"date\": \"2022-03-14\", \"replicate\": 1, \"antibody_library_sample\": \"Lib-2_2022-03-14_thaw-3_antibody_2130-1-0114-112_43.94_1\", \"no-antibody_library_sample\": \"Lib-2_2022-03-14_thaw-3_no-antibody_control_1\", \"selection_group\": \"Lib-2_2022-03-14_thaw-3_2130-1-0114-112_1\", \"sample_type\": \"antibody\", \"neut_standard_frac\": 0.4768, \"library_sample\": \"Lib-2_2022-03-14_thaw-3_antibody_2130-1-0114-112_43.94_1\"}, {\"library\": \"Lib-1\", \"antibody_sample\": \"2022-03-14_thaw-3_antibody_COV2-2130_0.8_1\", \"no-antibody_sample\": \"2022-03-14_thaw-3_no-antibody_control_1\", \"antibody\": \"COV2-2130\", \"antibody_concentration\": 0.8, \"antibody_count\": 2183898, \"no-antibody_count\": 231982, \"virus_batch\": \"thaw-3\", \"date\": \"2022-03-14\", \"replicate\": 1, \"antibody_library_sample\": \"Lib-1_2022-03-14_thaw-3_antibody_COV2-2130_0.8_1\", \"no-antibody_library_sample\": \"Lib-1_2022-03-14_thaw-3_no-antibody_control_1\", \"selection_group\": \"Lib-1_2022-03-14_thaw-3_COV2-2130_1\", \"sample_type\": \"no-antibody\", \"neut_standard_frac\": 0.01543, \"library_sample\": \"Lib-1_2022-03-14_thaw-3_antibody_COV2-2130_0.8_1\"}, {\"library\": \"Lib-1\", \"antibody_sample\": \"2022-03-14_thaw-3_antibody_COV2-2130_3.99_1\", \"no-antibody_sample\": \"2022-03-14_thaw-3_no-antibody_control_1\", \"antibody\": \"COV2-2130\", \"antibody_concentration\": 3.99, \"antibody_count\": 5998353, \"no-antibody_count\": 231982, \"virus_batch\": \"thaw-3\", \"date\": \"2022-03-14\", \"replicate\": 1, \"antibody_library_sample\": \"Lib-1_2022-03-14_thaw-3_antibody_COV2-2130_3.99_1\", \"no-antibody_library_sample\": \"Lib-1_2022-03-14_thaw-3_no-antibody_control_1\", \"selection_group\": \"Lib-1_2022-03-14_thaw-3_COV2-2130_1\", \"sample_type\": \"no-antibody\", \"neut_standard_frac\": 0.01543, \"library_sample\": \"Lib-1_2022-03-14_thaw-3_antibody_COV2-2130_3.99_1\"}, {\"library\": \"Lib-1\", \"antibody_sample\": \"2022-03-14_thaw-3_antibody_COV2-2130_19.95_1\", \"no-antibody_sample\": \"2022-03-14_thaw-3_no-antibody_control_1\", \"antibody\": \"COV2-2130\", \"antibody_concentration\": 19.95, \"antibody_count\": 7392512, \"no-antibody_count\": 231982, \"virus_batch\": \"thaw-3\", \"date\": \"2022-03-14\", \"replicate\": 1, \"antibody_library_sample\": \"Lib-1_2022-03-14_thaw-3_antibody_COV2-2130_19.95_1\", \"no-antibody_library_sample\": \"Lib-1_2022-03-14_thaw-3_no-antibody_control_1\", \"selection_group\": \"Lib-1_2022-03-14_thaw-3_COV2-2130_1\", \"sample_type\": \"no-antibody\", \"neut_standard_frac\": 0.01543, \"library_sample\": \"Lib-1_2022-03-14_thaw-3_antibody_COV2-2130_19.95_1\"}, {\"library\": \"Lib-1\", \"antibody_sample\": \"2022-03-14_thaw-3_antibody_2130-1-0114-112_1.76_1\", \"no-antibody_sample\": \"2022-03-14_thaw-3_no-antibody_control_1\", \"antibody\": \"2130-1-0114-112\", \"antibody_concentration\": 1.76, \"antibody_count\": 283962, \"no-antibody_count\": 231982, \"virus_batch\": \"thaw-3\", \"date\": \"2022-03-14\", \"replicate\": 1, \"antibody_library_sample\": \"Lib-1_2022-03-14_thaw-3_antibody_2130-1-0114-112_1.76_1\", \"no-antibody_library_sample\": \"Lib-1_2022-03-14_thaw-3_no-antibody_control_1\", \"selection_group\": \"Lib-1_2022-03-14_thaw-3_2130-1-0114-112_1\", \"sample_type\": \"no-antibody\", \"neut_standard_frac\": 0.01543, \"library_sample\": \"Lib-1_2022-03-14_thaw-3_antibody_2130-1-0114-112_1.76_1\"}, {\"library\": \"Lib-1\", \"antibody_sample\": \"2022-03-14_thaw-3_antibody_2130-1-0114-112_8.79_1\", \"no-antibody_sample\": \"2022-03-14_thaw-3_no-antibody_control_1\", \"antibody\": \"2130-1-0114-112\", \"antibody_concentration\": 8.79, \"antibody_count\": 4535977, \"no-antibody_count\": 231982, \"virus_batch\": \"thaw-3\", \"date\": \"2022-03-14\", \"replicate\": 1, \"antibody_library_sample\": \"Lib-1_2022-03-14_thaw-3_antibody_2130-1-0114-112_8.79_1\", \"no-antibody_library_sample\": \"Lib-1_2022-03-14_thaw-3_no-antibody_control_1\", \"selection_group\": \"Lib-1_2022-03-14_thaw-3_2130-1-0114-112_1\", \"sample_type\": \"no-antibody\", \"neut_standard_frac\": 0.01543, \"library_sample\": \"Lib-1_2022-03-14_thaw-3_antibody_2130-1-0114-112_8.79_1\"}, {\"library\": \"Lib-1\", \"antibody_sample\": \"2022-03-14_thaw-3_antibody_2130-1-0114-112_43.94_1\", \"no-antibody_sample\": \"2022-03-14_thaw-3_no-antibody_control_1\", \"antibody\": \"2130-1-0114-112\", \"antibody_concentration\": 43.94, \"antibody_count\": 6285313, \"no-antibody_count\": 231982, \"virus_batch\": \"thaw-3\", \"date\": \"2022-03-14\", \"replicate\": 1, \"antibody_library_sample\": \"Lib-1_2022-03-14_thaw-3_antibody_2130-1-0114-112_43.94_1\", \"no-antibody_library_sample\": \"Lib-1_2022-03-14_thaw-3_no-antibody_control_1\", \"selection_group\": \"Lib-1_2022-03-14_thaw-3_2130-1-0114-112_1\", \"sample_type\": \"no-antibody\", \"neut_standard_frac\": 0.01543, \"library_sample\": \"Lib-1_2022-03-14_thaw-3_antibody_2130-1-0114-112_43.94_1\"}, {\"library\": \"Lib-2\", \"antibody_sample\": \"2022-03-14_thaw-3_antibody_COV2-2130_0.8_1\", \"no-antibody_sample\": \"2022-03-14_thaw-3_no-antibody_control_1\", \"antibody\": \"COV2-2130\", \"antibody_concentration\": 0.8, \"antibody_count\": 3388034, \"no-antibody_count\": 260450, \"virus_batch\": \"thaw-3\", \"date\": \"2022-03-14\", \"replicate\": 1, \"antibody_library_sample\": \"Lib-2_2022-03-14_thaw-3_antibody_COV2-2130_0.8_1\", \"no-antibody_library_sample\": \"Lib-2_2022-03-14_thaw-3_no-antibody_control_1\", \"selection_group\": \"Lib-2_2022-03-14_thaw-3_COV2-2130_1\", \"sample_type\": \"no-antibody\", \"neut_standard_frac\": 0.01493, \"library_sample\": \"Lib-2_2022-03-14_thaw-3_antibody_COV2-2130_0.8_1\"}, {\"library\": \"Lib-2\", \"antibody_sample\": \"2022-03-14_thaw-3_antibody_COV2-2130_3.99_1\", \"no-antibody_sample\": \"2022-03-14_thaw-3_no-antibody_control_1\", \"antibody\": \"COV2-2130\", \"antibody_concentration\": 3.99, \"antibody_count\": 6100442, \"no-antibody_count\": 260450, \"virus_batch\": \"thaw-3\", \"date\": \"2022-03-14\", \"replicate\": 1, \"antibody_library_sample\": \"Lib-2_2022-03-14_thaw-3_antibody_COV2-2130_3.99_1\", \"no-antibody_library_sample\": \"Lib-2_2022-03-14_thaw-3_no-antibody_control_1\", \"selection_group\": \"Lib-2_2022-03-14_thaw-3_COV2-2130_1\", \"sample_type\": \"no-antibody\", \"neut_standard_frac\": 0.01493, \"library_sample\": \"Lib-2_2022-03-14_thaw-3_antibody_COV2-2130_3.99_1\"}, {\"library\": \"Lib-2\", \"antibody_sample\": \"2022-03-14_thaw-3_antibody_COV2-2130_19.95_1\", \"no-antibody_sample\": \"2022-03-14_thaw-3_no-antibody_control_1\", \"antibody\": \"COV2-2130\", \"antibody_concentration\": 19.95, \"antibody_count\": 7188763, \"no-antibody_count\": 260450, \"virus_batch\": \"thaw-3\", \"date\": \"2022-03-14\", \"replicate\": 1, \"antibody_library_sample\": \"Lib-2_2022-03-14_thaw-3_antibody_COV2-2130_19.95_1\", \"no-antibody_library_sample\": \"Lib-2_2022-03-14_thaw-3_no-antibody_control_1\", \"selection_group\": \"Lib-2_2022-03-14_thaw-3_COV2-2130_1\", \"sample_type\": \"no-antibody\", \"neut_standard_frac\": 0.01493, \"library_sample\": \"Lib-2_2022-03-14_thaw-3_antibody_COV2-2130_19.95_1\"}, {\"library\": \"Lib-2\", \"antibody_sample\": \"2022-03-14_thaw-3_antibody_2130-1-0114-112_1.76_1\", \"no-antibody_sample\": \"2022-03-14_thaw-3_no-antibody_control_1\", \"antibody\": \"2130-1-0114-112\", \"antibody_concentration\": 1.76, \"antibody_count\": 329697, \"no-antibody_count\": 260450, \"virus_batch\": \"thaw-3\", \"date\": \"2022-03-14\", \"replicate\": 1, \"antibody_library_sample\": \"Lib-2_2022-03-14_thaw-3_antibody_2130-1-0114-112_1.76_1\", \"no-antibody_library_sample\": \"Lib-2_2022-03-14_thaw-3_no-antibody_control_1\", \"selection_group\": \"Lib-2_2022-03-14_thaw-3_2130-1-0114-112_1\", \"sample_type\": \"no-antibody\", \"neut_standard_frac\": 0.01493, \"library_sample\": \"Lib-2_2022-03-14_thaw-3_antibody_2130-1-0114-112_1.76_1\"}, {\"library\": \"Lib-2\", \"antibody_sample\": \"2022-03-14_thaw-3_antibody_2130-1-0114-112_8.79_1\", \"no-antibody_sample\": \"2022-03-14_thaw-3_no-antibody_control_1\", \"antibody\": \"2130-1-0114-112\", \"antibody_concentration\": 8.79, \"antibody_count\": 7232593, \"no-antibody_count\": 260450, \"virus_batch\": \"thaw-3\", \"date\": \"2022-03-14\", \"replicate\": 1, \"antibody_library_sample\": \"Lib-2_2022-03-14_thaw-3_antibody_2130-1-0114-112_8.79_1\", \"no-antibody_library_sample\": \"Lib-2_2022-03-14_thaw-3_no-antibody_control_1\", \"selection_group\": \"Lib-2_2022-03-14_thaw-3_2130-1-0114-112_1\", \"sample_type\": \"no-antibody\", \"neut_standard_frac\": 0.01493, \"library_sample\": \"Lib-2_2022-03-14_thaw-3_antibody_2130-1-0114-112_8.79_1\"}, {\"library\": \"Lib-2\", \"antibody_sample\": \"2022-03-14_thaw-3_antibody_2130-1-0114-112_43.94_1\", \"no-antibody_sample\": \"2022-03-14_thaw-3_no-antibody_control_1\", \"antibody\": \"2130-1-0114-112\", \"antibody_concentration\": 43.94, \"antibody_count\": 7821989, \"no-antibody_count\": 260450, \"virus_batch\": \"thaw-3\", \"date\": \"2022-03-14\", \"replicate\": 1, \"antibody_library_sample\": \"Lib-2_2022-03-14_thaw-3_antibody_2130-1-0114-112_43.94_1\", \"no-antibody_library_sample\": \"Lib-2_2022-03-14_thaw-3_no-antibody_control_1\", \"selection_group\": \"Lib-2_2022-03-14_thaw-3_2130-1-0114-112_1\", \"sample_type\": \"no-antibody\", \"neut_standard_frac\": 0.01493, \"library_sample\": \"Lib-2_2022-03-14_thaw-3_antibody_2130-1-0114-112_43.94_1\"}]}}, {\"mode\": \"vega-lite\"});\n",
       "</script>"
      ],
      "text/plain": [
       "alt.Chart(...)"
      ]
     },
     "execution_count": 6,
     "metadata": {},
     "output_type": "execute_result"
    }
   ],
   "source": [
    "# make tidy version of neut_standard_fracs\n",
    "melt_cols = [\"antibody_frac\", \"no-antibody_frac\"]\n",
    "neut_standard_fracs_tidy = neut_standard_fracs.melt(\n",
    "    id_vars=[c for c in neut_standard_fracs.columns if c not in melt_cols],\n",
    "    value_vars=melt_cols,\n",
    "    value_name=\"neut_standard_frac\",\n",
    "    var_name=\"sample_type\",\n",
    ").assign(\n",
    "    sample_type=lambda x: x[\"sample_type\"].str.replace(\"_frac\", \"\"),\n",
    "    library_sample=lambda x: x[\"library\"] + \"_\" + x[\"antibody_sample\"],\n",
    ")\n",
    "\n",
    "# set up selections over other columns of interest\n",
    "selection_names = [\"library\", \"date\", \"antibody\", \"virus_batch\"]\n",
    "selections = [\n",
    "    alt.selection_point(\n",
    "        fields=[col],\n",
    "        bind=alt.binding_select(\n",
    "            options=[None] + neut_standard_fracs_tidy[col].unique().tolist(),\n",
    "            labels=[\"all\"] + [str(x) for x in neut_standard_fracs_tidy[col].unique()],\n",
    "            name=col,\n",
    "        ),\n",
    "    )\n",
    "    for col in selection_names\n",
    "]\n",
    "\n",
    "neut_standard_fracs_chart = (\n",
    "    alt.Chart(neut_standard_fracs_tidy)\n",
    "    .encode(\n",
    "        x=alt.X(\n",
    "            \"neut_standard_frac\",\n",
    "            title=\"neutralization standard fraction\",\n",
    "            scale=alt.Scale(type=\"symlog\", constant=0.02, domainMax=1),\n",
    "        ),\n",
    "        y=alt.Y(\"library_sample\", title=None, sort=sample_order),\n",
    "        color=\"sample_type\",\n",
    "        shape=\"sample_type\",\n",
    "        tooltip=[\n",
    "            alt.Tooltip(c, format=\".2g\") if c == \"neut_standard_frac\" else c\n",
    "            for c in neut_standard_fracs_tidy.columns\n",
    "            if \"library_sample\" not in c\n",
    "        ],\n",
    "    )\n",
    "    .mark_point()\n",
    "    .properties(width=275, height=alt.Step(14))\n",
    "    .add_params(*selections)\n",
    "    .configure_axis(labelLimit=500)\n",
    ")\n",
    "for selection in selections:\n",
    "    neut_standard_fracs_chart = neut_standard_fracs_chart.transform_filter(selection)\n",
    "\n",
    "neut_standard_fracs_chart"
   ]
  },
  {
   "cell_type": "markdown",
   "id": "1d38d984-475b-436e-a5a9-804f8711f005",
   "metadata": {
    "papermill": {
     "duration": 0.0109,
     "end_time": "2023-02-15T21:15:13.461584",
     "exception": false,
     "start_time": "2023-02-15T21:15:13.450684",
     "status": "completed"
    },
    "tags": []
   },
   "source": [
    "## Overall fraction neutralization by number of mutations\n",
    "Plot neutralization (1 - probability of escape) averaged over all variants with a given number of mutations) for just the primary target.\n",
    "First, get the neutralization data ready to plot by just getting data for primary target, melting, and doing a few other transformations:"
   ]
  },
  {
   "cell_type": "code",
   "execution_count": 7,
   "id": "e7951eff-b18b-40bb-8351-20df1858daf2",
   "metadata": {
    "execution": {
     "iopub.execute_input": "2023-02-15T21:15:13.484759Z",
     "iopub.status.busy": "2023-02-15T21:15:13.484321Z",
     "iopub.status.idle": "2023-02-15T21:15:13.502446Z",
     "shell.execute_reply": "2023-02-15T21:15:13.501929Z"
    },
    "papermill": {
     "duration": 0.032275,
     "end_time": "2023-02-15T21:15:13.504191",
     "exception": false,
     "start_time": "2023-02-15T21:15:13.471916",
     "status": "completed"
    },
    "tags": []
   },
   "outputs": [],
   "source": [
    "cols_to_melt = [\"prob_escape\", \"prob_escape_uncensored\"]\n",
    "assert \"target\" not in neutralization.columns, \"only implemented for primary target\"\n",
    "neut_to_plot = (\n",
    "    neutralization.melt(\n",
    "        id_vars=[c for c in neutralization.columns if c not in cols_to_melt],\n",
    "        var_name=\"censored\",\n",
    "        value_name=\"fraction not neutralized\",\n",
    "    )\n",
    "    .assign(\n",
    "        library_sample=lambda x: x[\"library\"] + \"_\" + x[\"antibody_sample\"],\n",
    "        censored=lambda x: (x[\"censored\"] == \"prob_escape\").map(\n",
    "            {True: \"yes\", False: \"no\"}\n",
    "        ),\n",
    "        n_aa_substitutions=lambda x: (\n",
    "            x[\"n_aa_substitutions\"].map(\n",
    "                lambda n: f\">{n - 1}\" if n == x[\"n_aa_substitutions\"].max() else str(n)\n",
    "            )\n",
    "        ),\n",
    "    )\n",
    "    .rename(\n",
    "        columns={\n",
    "            c: c.replace(\"_\", \" \")\n",
    "            for c in neutralization.columns\n",
    "            if c.endswith(\"count\")\n",
    "        }\n",
    "    )\n",
    "    .merge(antibody_selections, validate=\"many_to_one\", how=\"left\")\n",
    ")"
   ]
  },
  {
   "cell_type": "markdown",
   "id": "b8c133f8-1bad-4514-93b7-6904551c835c",
   "metadata": {
    "papermill": {
     "duration": 0.010251,
     "end_time": "2023-02-15T21:15:13.526197",
     "exception": false,
     "start_time": "2023-02-15T21:15:13.515946",
     "status": "completed"
    },
    "tags": []
   },
   "source": [
    "Now make the plot. \n",
    "You can mouseover points for details, use the dropdown to subset samples, click on the legend to show only specific number of amino-acid substitutions or only censored (to [0, 1]) values or raw values.\n",
    "You should get worried if the censored and uncensored values look dramatically different:"
   ]
  },
  {
   "cell_type": "code",
   "execution_count": 8,
   "id": "1b6e4f9f-8bb5-4850-aff2-585ae7c58f1e",
   "metadata": {
    "execution": {
     "iopub.execute_input": "2023-02-15T21:15:13.546259Z",
     "iopub.status.busy": "2023-02-15T21:15:13.546066Z",
     "iopub.status.idle": "2023-02-15T21:15:13.666507Z",
     "shell.execute_reply": "2023-02-15T21:15:13.664763Z"
    },
    "papermill": {
     "duration": 0.132604,
     "end_time": "2023-02-15T21:15:13.668090",
     "exception": false,
     "start_time": "2023-02-15T21:15:13.535486",
     "status": "completed"
    },
    "tags": []
   },
   "outputs": [
    {
     "data": {
      "text/html": [
       "\n",
       "<div id=\"altair-viz-93a2c3689367436a97563c25b702d54a\"></div>\n",
       "<script type=\"text/javascript\">\n",
       "  var VEGA_DEBUG = (typeof VEGA_DEBUG == \"undefined\") ? {} : VEGA_DEBUG;\n",
       "  (function(spec, embedOpt){\n",
       "    let outputDiv = document.currentScript.previousElementSibling;\n",
       "    if (outputDiv.id !== \"altair-viz-93a2c3689367436a97563c25b702d54a\") {\n",
       "      outputDiv = document.getElementById(\"altair-viz-93a2c3689367436a97563c25b702d54a\");\n",
       "    }\n",
       "    const paths = {\n",
       "      \"vega\": \"https://cdn.jsdelivr.net/npm/vega@5?noext\",\n",
       "      \"vega-lib\": \"https://cdn.jsdelivr.net/npm/vega-lib?noext\",\n",
       "      \"vega-lite\": \"https://cdn.jsdelivr.net/npm/vega-lite@5.2.0?noext\",\n",
       "      \"vega-embed\": \"https://cdn.jsdelivr.net/npm/vega-embed@6?noext\",\n",
       "    };\n",
       "\n",
       "    function maybeLoadScript(lib, version) {\n",
       "      var key = `${lib.replace(\"-\", \"\")}_version`;\n",
       "      return (VEGA_DEBUG[key] == version) ?\n",
       "        Promise.resolve(paths[lib]) :\n",
       "        new Promise(function(resolve, reject) {\n",
       "          var s = document.createElement('script');\n",
       "          document.getElementsByTagName(\"head\")[0].appendChild(s);\n",
       "          s.async = true;\n",
       "          s.onload = () => {\n",
       "            VEGA_DEBUG[key] = version;\n",
       "            return resolve(paths[lib]);\n",
       "          };\n",
       "          s.onerror = () => reject(`Error loading script: ${paths[lib]}`);\n",
       "          s.src = paths[lib];\n",
       "        });\n",
       "    }\n",
       "\n",
       "    function showError(err) {\n",
       "      outputDiv.innerHTML = `<div class=\"error\" style=\"color:red;\">${err}</div>`;\n",
       "      throw err;\n",
       "    }\n",
       "\n",
       "    function displayChart(vegaEmbed) {\n",
       "      vegaEmbed(outputDiv, spec, embedOpt)\n",
       "        .catch(err => showError(`Javascript Error: ${err.message}<br>This usually means there's a typo in your chart specification. See the javascript console for the full traceback.`));\n",
       "    }\n",
       "\n",
       "    if(typeof define === \"function\" && define.amd) {\n",
       "      requirejs.config({paths});\n",
       "      require([\"vega-embed\"], displayChart, err => showError(`Error loading script: ${err.message}`));\n",
       "    } else {\n",
       "      maybeLoadScript(\"vega\", \"5\")\n",
       "        .then(() => maybeLoadScript(\"vega-lite\", \"5.2.0\"))\n",
       "        .then(() => maybeLoadScript(\"vega-embed\", \"6\"))\n",
       "        .catch(showError)\n",
       "        .then(() => displayChart(vegaEmbed));\n",
       "    }\n",
       "  })({\"config\": {\"view\": {\"continuousWidth\": 300, \"continuousHeight\": 300}, \"axis\": {\"labelLimit\": 500}}, \"data\": {\"name\": \"data-12a5941eb8199644624c0bf19814b139\"}, \"mark\": {\"type\": \"point\", \"filled\": true, \"opacity\": 0.7, \"size\": 50}, \"encoding\": {\"color\": {\"field\": \"n_aa_substitutions\", \"scale\": {\"domain\": [\"0\", \"1\", \"2\", \"3\", \">3\"]}, \"title\": \"amino-acid mutations\", \"type\": \"nominal\"}, \"shape\": {\"field\": \"censored\", \"scale\": {\"domain\": [\"no\", \"yes\"], \"range\": [\"triangle-up\", \"triangle-down\"]}, \"title\": \"censored between 0 & 1\", \"type\": \"nominal\"}, \"tooltip\": [{\"field\": \"library\", \"type\": \"nominal\"}, {\"field\": \"antibody_sample\", \"type\": \"nominal\"}, {\"field\": \"no-antibody_sample\", \"type\": \"nominal\"}, {\"field\": \"n_aa_substitutions\", \"type\": \"nominal\"}, {\"field\": \"antibody neut standard count\", \"type\": \"quantitative\"}, {\"field\": \"no-antibody neut standard count\", \"type\": \"quantitative\"}, {\"field\": \"antibody count\", \"type\": \"quantitative\"}, {\"field\": \"no-antibody count\", \"type\": \"quantitative\"}, {\"field\": \"censored\", \"type\": \"nominal\"}, {\"field\": \"fraction not neutralized\", \"format\": \".3g\", \"type\": \"quantitative\"}, {\"field\": \"antibody\", \"type\": \"nominal\"}, {\"field\": \"antibody_concentration\", \"format\": \".3g\", \"type\": \"quantitative\"}, {\"field\": \"virus_batch\", \"type\": \"nominal\"}, {\"field\": \"date\", \"type\": \"nominal\"}, {\"field\": \"replicate\", \"type\": \"quantitative\"}, {\"field\": \"selection_group\", \"type\": \"nominal\"}], \"x\": {\"field\": \"fraction not neutralized\", \"type\": \"quantitative\"}, \"y\": {\"field\": \"library_sample\", \"title\": null, \"type\": \"nominal\"}}, \"height\": {\"step\": 14}, \"params\": [{\"name\": \"param_5\", \"select\": {\"type\": \"point\", \"fields\": [\"censored\"]}, \"bind\": \"legend\"}, {\"name\": \"param_6\", \"select\": {\"type\": \"point\", \"fields\": [\"n_aa_substitutions\"]}, \"bind\": \"legend\"}, {\"name\": \"param_1\", \"select\": {\"type\": \"point\", \"fields\": [\"library\"]}, \"bind\": {\"input\": \"select\", \"options\": [null, \"Lib-1\", \"Lib-2\"], \"labels\": [\"all\", \"Lib-1\", \"Lib-2\"], \"name\": \"library\"}}, {\"name\": \"param_2\", \"select\": {\"type\": \"point\", \"fields\": [\"date\"]}, \"bind\": {\"input\": \"select\", \"options\": [null, \"2022-03-14\"], \"labels\": [\"all\", \"2022-03-14\"], \"name\": \"date\"}}, {\"name\": \"param_3\", \"select\": {\"type\": \"point\", \"fields\": [\"antibody\"]}, \"bind\": {\"input\": \"select\", \"options\": [null, \"COV2-2130\", \"2130-1-0114-112\"], \"labels\": [\"all\", \"COV2-2130\", \"2130-1-0114-112\"], \"name\": \"antibody\"}}, {\"name\": \"param_4\", \"select\": {\"type\": \"point\", \"fields\": [\"virus_batch\"]}, \"bind\": {\"input\": \"select\", \"options\": [null, \"thaw-3\"], \"labels\": [\"all\", \"thaw-3\"], \"name\": \"virus_batch\"}}], \"transform\": [{\"filter\": {\"param\": \"param_5\"}}, {\"filter\": {\"param\": \"param_6\"}}, {\"filter\": {\"param\": \"param_1\"}}, {\"filter\": {\"param\": \"param_2\"}}, {\"filter\": {\"param\": \"param_3\"}}, {\"filter\": {\"param\": \"param_4\"}}], \"width\": 300, \"$schema\": \"https://vega.github.io/schema/vega-lite/v5.2.0.json\", \"datasets\": {\"data-12a5941eb8199644624c0bf19814b139\": [{\"library\": \"Lib-1\", \"antibody_sample\": \"2022-03-14_thaw-3_antibody_COV2-2130_0.8_1\", \"no-antibody_sample\": \"2022-03-14_thaw-3_no-antibody_control_1\", \"n_aa_substitutions\": \"0\", \"antibody neut standard count\": 2183898, \"no-antibody neut standard count\": 231982, \"antibody count\": 2007124, \"no-antibody count\": 3253675, \"censored\": \"no\", \"fraction not neutralized\": 0.06553, \"library_sample\": \"Lib-1_2022-03-14_thaw-3_antibody_COV2-2130_0.8_1\", \"antibody\": \"COV2-2130\", \"antibody_concentration\": 0.8, \"virus_batch\": \"thaw-3\", \"date\": \"2022-03-14\", \"replicate\": 1, \"antibody_library_sample\": \"Lib-1_2022-03-14_thaw-3_antibody_COV2-2130_0.8_1\", \"no-antibody_library_sample\": \"Lib-1_2022-03-14_thaw-3_no-antibody_control_1\", \"selection_group\": \"Lib-1_2022-03-14_thaw-3_COV2-2130_1\"}, {\"library\": \"Lib-1\", \"antibody_sample\": \"2022-03-14_thaw-3_antibody_COV2-2130_0.8_1\", \"no-antibody_sample\": \"2022-03-14_thaw-3_no-antibody_control_1\", \"n_aa_substitutions\": \"1\", \"antibody neut standard count\": 2183898, \"no-antibody neut standard count\": 231982, \"antibody count\": 3410793, \"no-antibody count\": 4711908, \"censored\": \"no\", \"fraction not neutralized\": 0.07689, \"library_sample\": \"Lib-1_2022-03-14_thaw-3_antibody_COV2-2130_0.8_1\", \"antibody\": \"COV2-2130\", \"antibody_concentration\": 0.8, \"virus_batch\": \"thaw-3\", \"date\": \"2022-03-14\", \"replicate\": 1, \"antibody_library_sample\": \"Lib-1_2022-03-14_thaw-3_antibody_COV2-2130_0.8_1\", \"no-antibody_library_sample\": \"Lib-1_2022-03-14_thaw-3_no-antibody_control_1\", \"selection_group\": \"Lib-1_2022-03-14_thaw-3_COV2-2130_1\"}, {\"library\": \"Lib-1\", \"antibody_sample\": \"2022-03-14_thaw-3_antibody_COV2-2130_0.8_1\", \"no-antibody_sample\": \"2022-03-14_thaw-3_no-antibody_control_1\", \"n_aa_substitutions\": \"2\", \"antibody neut standard count\": 2183898, \"no-antibody neut standard count\": 231982, \"antibody count\": 2997411, \"no-antibody count\": 3593369, \"censored\": \"no\", \"fraction not neutralized\": 0.08861, \"library_sample\": \"Lib-1_2022-03-14_thaw-3_antibody_COV2-2130_0.8_1\", \"antibody\": \"COV2-2130\", \"antibody_concentration\": 0.8, \"virus_batch\": \"thaw-3\", \"date\": \"2022-03-14\", \"replicate\": 1, \"antibody_library_sample\": \"Lib-1_2022-03-14_thaw-3_antibody_COV2-2130_0.8_1\", \"no-antibody_library_sample\": \"Lib-1_2022-03-14_thaw-3_no-antibody_control_1\", \"selection_group\": \"Lib-1_2022-03-14_thaw-3_COV2-2130_1\"}, {\"library\": \"Lib-1\", \"antibody_sample\": \"2022-03-14_thaw-3_antibody_COV2-2130_0.8_1\", \"no-antibody_sample\": \"2022-03-14_thaw-3_no-antibody_control_1\", \"n_aa_substitutions\": \"3\", \"antibody neut standard count\": 2183898, \"no-antibody neut standard count\": 231982, \"antibody count\": 1974206, \"no-antibody count\": 1970147, \"censored\": \"no\", \"fraction not neutralized\": 0.1064, \"library_sample\": \"Lib-1_2022-03-14_thaw-3_antibody_COV2-2130_0.8_1\", \"antibody\": \"COV2-2130\", \"antibody_concentration\": 0.8, \"virus_batch\": \"thaw-3\", \"date\": \"2022-03-14\", \"replicate\": 1, \"antibody_library_sample\": \"Lib-1_2022-03-14_thaw-3_antibody_COV2-2130_0.8_1\", \"no-antibody_library_sample\": \"Lib-1_2022-03-14_thaw-3_no-antibody_control_1\", \"selection_group\": \"Lib-1_2022-03-14_thaw-3_COV2-2130_1\"}, {\"library\": \"Lib-1\", \"antibody_sample\": \"2022-03-14_thaw-3_antibody_COV2-2130_0.8_1\", \"no-antibody_sample\": \"2022-03-14_thaw-3_no-antibody_control_1\", \"n_aa_substitutions\": \">3\", \"antibody neut standard count\": 2183898, \"no-antibody neut standard count\": 231982, \"antibody count\": 1634004, \"no-antibody count\": 1274858, \"censored\": \"no\", \"fraction not neutralized\": 0.1361, \"library_sample\": \"Lib-1_2022-03-14_thaw-3_antibody_COV2-2130_0.8_1\", \"antibody\": \"COV2-2130\", \"antibody_concentration\": 0.8, \"virus_batch\": \"thaw-3\", \"date\": \"2022-03-14\", \"replicate\": 1, \"antibody_library_sample\": \"Lib-1_2022-03-14_thaw-3_antibody_COV2-2130_0.8_1\", \"no-antibody_library_sample\": \"Lib-1_2022-03-14_thaw-3_no-antibody_control_1\", \"selection_group\": \"Lib-1_2022-03-14_thaw-3_COV2-2130_1\"}, {\"library\": \"Lib-1\", \"antibody_sample\": \"2022-03-14_thaw-3_antibody_COV2-2130_19.95_1\", \"no-antibody_sample\": \"2022-03-14_thaw-3_no-antibody_control_1\", \"n_aa_substitutions\": \"0\", \"antibody neut standard count\": 7392512, \"no-antibody neut standard count\": 231982, \"antibody count\": 643299, \"no-antibody count\": 3253675, \"censored\": \"no\", \"fraction not neutralized\": 0.006204, \"library_sample\": \"Lib-1_2022-03-14_thaw-3_antibody_COV2-2130_19.95_1\", \"antibody\": \"COV2-2130\", \"antibody_concentration\": 19.95, \"virus_batch\": \"thaw-3\", \"date\": \"2022-03-14\", \"replicate\": 1, \"antibody_library_sample\": \"Lib-1_2022-03-14_thaw-3_antibody_COV2-2130_19.95_1\", \"no-antibody_library_sample\": \"Lib-1_2022-03-14_thaw-3_no-antibody_control_1\", \"selection_group\": \"Lib-1_2022-03-14_thaw-3_COV2-2130_1\"}, {\"library\": \"Lib-1\", \"antibody_sample\": \"2022-03-14_thaw-3_antibody_COV2-2130_19.95_1\", \"no-antibody_sample\": \"2022-03-14_thaw-3_no-antibody_control_1\", \"n_aa_substitutions\": \"1\", \"antibody neut standard count\": 7392512, \"no-antibody neut standard count\": 231982, \"antibody count\": 2040686, \"no-antibody count\": 4711908, \"censored\": \"no\", \"fraction not neutralized\": 0.01359, \"library_sample\": \"Lib-1_2022-03-14_thaw-3_antibody_COV2-2130_19.95_1\", \"antibody\": \"COV2-2130\", \"antibody_concentration\": 19.95, \"virus_batch\": \"thaw-3\", \"date\": \"2022-03-14\", \"replicate\": 1, \"antibody_library_sample\": \"Lib-1_2022-03-14_thaw-3_antibody_COV2-2130_19.95_1\", \"no-antibody_library_sample\": \"Lib-1_2022-03-14_thaw-3_no-antibody_control_1\", \"selection_group\": \"Lib-1_2022-03-14_thaw-3_COV2-2130_1\"}, {\"library\": \"Lib-1\", \"antibody_sample\": \"2022-03-14_thaw-3_antibody_COV2-2130_19.95_1\", \"no-antibody_sample\": \"2022-03-14_thaw-3_no-antibody_control_1\", \"n_aa_substitutions\": \"2\", \"antibody neut standard count\": 7392512, \"no-antibody neut standard count\": 231982, \"antibody count\": 2511724, \"no-antibody count\": 3593369, \"censored\": \"no\", \"fraction not neutralized\": 0.02193, \"library_sample\": \"Lib-1_2022-03-14_thaw-3_antibody_COV2-2130_19.95_1\", \"antibody\": \"COV2-2130\", \"antibody_concentration\": 19.95, \"virus_batch\": \"thaw-3\", \"date\": \"2022-03-14\", \"replicate\": 1, \"antibody_library_sample\": \"Lib-1_2022-03-14_thaw-3_antibody_COV2-2130_19.95_1\", \"no-antibody_library_sample\": \"Lib-1_2022-03-14_thaw-3_no-antibody_control_1\", \"selection_group\": \"Lib-1_2022-03-14_thaw-3_COV2-2130_1\"}, {\"library\": \"Lib-1\", \"antibody_sample\": \"2022-03-14_thaw-3_antibody_COV2-2130_19.95_1\", \"no-antibody_sample\": \"2022-03-14_thaw-3_no-antibody_control_1\", \"n_aa_substitutions\": \"3\", \"antibody neut standard count\": 7392512, \"no-antibody neut standard count\": 231982, \"antibody count\": 2048773, \"no-antibody count\": 1970147, \"censored\": \"no\", \"fraction not neutralized\": 0.03263, \"library_sample\": \"Lib-1_2022-03-14_thaw-3_antibody_COV2-2130_19.95_1\", \"antibody\": \"COV2-2130\", \"antibody_concentration\": 19.95, \"virus_batch\": \"thaw-3\", \"date\": \"2022-03-14\", \"replicate\": 1, \"antibody_library_sample\": \"Lib-1_2022-03-14_thaw-3_antibody_COV2-2130_19.95_1\", \"no-antibody_library_sample\": \"Lib-1_2022-03-14_thaw-3_no-antibody_control_1\", \"selection_group\": \"Lib-1_2022-03-14_thaw-3_COV2-2130_1\"}, {\"library\": \"Lib-1\", \"antibody_sample\": \"2022-03-14_thaw-3_antibody_COV2-2130_19.95_1\", \"no-antibody_sample\": \"2022-03-14_thaw-3_no-antibody_control_1\", \"n_aa_substitutions\": \">3\", \"antibody neut standard count\": 7392512, \"no-antibody neut standard count\": 231982, \"antibody count\": 2416042, \"no-antibody count\": 1274858, \"censored\": \"no\", \"fraction not neutralized\": 0.05947, \"library_sample\": \"Lib-1_2022-03-14_thaw-3_antibody_COV2-2130_19.95_1\", \"antibody\": \"COV2-2130\", \"antibody_concentration\": 19.95, \"virus_batch\": \"thaw-3\", \"date\": \"2022-03-14\", \"replicate\": 1, \"antibody_library_sample\": \"Lib-1_2022-03-14_thaw-3_antibody_COV2-2130_19.95_1\", \"no-antibody_library_sample\": \"Lib-1_2022-03-14_thaw-3_no-antibody_control_1\", \"selection_group\": \"Lib-1_2022-03-14_thaw-3_COV2-2130_1\"}, {\"library\": \"Lib-1\", \"antibody_sample\": \"2022-03-14_thaw-3_antibody_COV2-2130_3.99_1\", \"no-antibody_sample\": \"2022-03-14_thaw-3_no-antibody_control_1\", \"n_aa_substitutions\": \"0\", \"antibody neut standard count\": 5998353, \"no-antibody neut standard count\": 231982, \"antibody count\": 620383, \"no-antibody count\": 3253675, \"censored\": \"no\", \"fraction not neutralized\": 0.007374, \"library_sample\": \"Lib-1_2022-03-14_thaw-3_antibody_COV2-2130_3.99_1\", \"antibody\": \"COV2-2130\", \"antibody_concentration\": 3.99, \"virus_batch\": \"thaw-3\", \"date\": \"2022-03-14\", \"replicate\": 1, \"antibody_library_sample\": \"Lib-1_2022-03-14_thaw-3_antibody_COV2-2130_3.99_1\", \"no-antibody_library_sample\": \"Lib-1_2022-03-14_thaw-3_no-antibody_control_1\", \"selection_group\": \"Lib-1_2022-03-14_thaw-3_COV2-2130_1\"}, {\"library\": \"Lib-1\", \"antibody_sample\": \"2022-03-14_thaw-3_antibody_COV2-2130_3.99_1\", \"no-antibody_sample\": \"2022-03-14_thaw-3_no-antibody_control_1\", \"n_aa_substitutions\": \"1\", \"antibody neut standard count\": 5998353, \"no-antibody neut standard count\": 231982, \"antibody count\": 2151995, \"no-antibody count\": 4711908, \"censored\": \"no\", \"fraction not neutralized\": 0.01766, \"library_sample\": \"Lib-1_2022-03-14_thaw-3_antibody_COV2-2130_3.99_1\", \"antibody\": \"COV2-2130\", \"antibody_concentration\": 3.99, \"virus_batch\": \"thaw-3\", \"date\": \"2022-03-14\", \"replicate\": 1, \"antibody_library_sample\": \"Lib-1_2022-03-14_thaw-3_antibody_COV2-2130_3.99_1\", \"no-antibody_library_sample\": \"Lib-1_2022-03-14_thaw-3_no-antibody_control_1\", \"selection_group\": \"Lib-1_2022-03-14_thaw-3_COV2-2130_1\"}, {\"library\": \"Lib-1\", \"antibody_sample\": \"2022-03-14_thaw-3_antibody_COV2-2130_3.99_1\", \"no-antibody_sample\": \"2022-03-14_thaw-3_no-antibody_control_1\", \"n_aa_substitutions\": \"2\", \"antibody neut standard count\": 5998353, \"no-antibody neut standard count\": 231982, \"antibody count\": 2686922, \"no-antibody count\": 3593369, \"censored\": \"no\", \"fraction not neutralized\": 0.02892, \"library_sample\": \"Lib-1_2022-03-14_thaw-3_antibody_COV2-2130_3.99_1\", \"antibody\": \"COV2-2130\", \"antibody_concentration\": 3.99, \"virus_batch\": \"thaw-3\", \"date\": \"2022-03-14\", \"replicate\": 1, \"antibody_library_sample\": \"Lib-1_2022-03-14_thaw-3_antibody_COV2-2130_3.99_1\", \"no-antibody_library_sample\": \"Lib-1_2022-03-14_thaw-3_no-antibody_control_1\", \"selection_group\": \"Lib-1_2022-03-14_thaw-3_COV2-2130_1\"}, {\"library\": \"Lib-1\", \"antibody_sample\": \"2022-03-14_thaw-3_antibody_COV2-2130_3.99_1\", \"no-antibody_sample\": \"2022-03-14_thaw-3_no-antibody_control_1\", \"n_aa_substitutions\": \"3\", \"antibody neut standard count\": 5998353, \"no-antibody neut standard count\": 231982, \"antibody count\": 2334184, \"no-antibody count\": 1970147, \"censored\": \"no\", \"fraction not neutralized\": 0.04582, \"library_sample\": \"Lib-1_2022-03-14_thaw-3_antibody_COV2-2130_3.99_1\", \"antibody\": \"COV2-2130\", \"antibody_concentration\": 3.99, \"virus_batch\": \"thaw-3\", \"date\": \"2022-03-14\", \"replicate\": 1, \"antibody_library_sample\": \"Lib-1_2022-03-14_thaw-3_antibody_COV2-2130_3.99_1\", \"no-antibody_library_sample\": \"Lib-1_2022-03-14_thaw-3_no-antibody_control_1\", \"selection_group\": \"Lib-1_2022-03-14_thaw-3_COV2-2130_1\"}, {\"library\": \"Lib-1\", \"antibody_sample\": \"2022-03-14_thaw-3_antibody_COV2-2130_3.99_1\", \"no-antibody_sample\": \"2022-03-14_thaw-3_no-antibody_control_1\", \"n_aa_substitutions\": \">3\", \"antibody neut standard count\": 5998353, \"no-antibody neut standard count\": 231982, \"antibody count\": 2549645, \"no-antibody count\": 1274858, \"censored\": \"no\", \"fraction not neutralized\": 0.07735, \"library_sample\": \"Lib-1_2022-03-14_thaw-3_antibody_COV2-2130_3.99_1\", \"antibody\": \"COV2-2130\", \"antibody_concentration\": 3.99, \"virus_batch\": \"thaw-3\", \"date\": \"2022-03-14\", \"replicate\": 1, \"antibody_library_sample\": \"Lib-1_2022-03-14_thaw-3_antibody_COV2-2130_3.99_1\", \"no-antibody_library_sample\": \"Lib-1_2022-03-14_thaw-3_no-antibody_control_1\", \"selection_group\": \"Lib-1_2022-03-14_thaw-3_COV2-2130_1\"}, {\"library\": \"Lib-1\", \"antibody_sample\": \"2022-03-14_thaw-3_antibody_2130-1-0114-112_1.76_1\", \"no-antibody_sample\": \"2022-03-14_thaw-3_no-antibody_control_1\", \"n_aa_substitutions\": \"0\", \"antibody neut standard count\": 283962, \"no-antibody neut standard count\": 231982, \"antibody count\": 3744587, \"no-antibody count\": 3253675, \"censored\": \"no\", \"fraction not neutralized\": 0.9402, \"library_sample\": \"Lib-1_2022-03-14_thaw-3_antibody_2130-1-0114-112_1.76_1\", \"antibody\": \"2130-1-0114-112\", \"antibody_concentration\": 1.76, \"virus_batch\": \"thaw-3\", \"date\": \"2022-03-14\", \"replicate\": 1, \"antibody_library_sample\": \"Lib-1_2022-03-14_thaw-3_antibody_2130-1-0114-112_1.76_1\", \"no-antibody_library_sample\": \"Lib-1_2022-03-14_thaw-3_no-antibody_control_1\", \"selection_group\": \"Lib-1_2022-03-14_thaw-3_2130-1-0114-112_1\"}, {\"library\": \"Lib-1\", \"antibody_sample\": \"2022-03-14_thaw-3_antibody_2130-1-0114-112_1.76_1\", \"no-antibody_sample\": \"2022-03-14_thaw-3_no-antibody_control_1\", \"n_aa_substitutions\": \"1\", \"antibody neut standard count\": 283962, \"no-antibody neut standard count\": 231982, \"antibody count\": 5417378, \"no-antibody count\": 4711908, \"censored\": \"no\", \"fraction not neutralized\": 0.9393, \"library_sample\": \"Lib-1_2022-03-14_thaw-3_antibody_2130-1-0114-112_1.76_1\", \"antibody\": \"2130-1-0114-112\", \"antibody_concentration\": 1.76, \"virus_batch\": \"thaw-3\", \"date\": \"2022-03-14\", \"replicate\": 1, \"antibody_library_sample\": \"Lib-1_2022-03-14_thaw-3_antibody_2130-1-0114-112_1.76_1\", \"no-antibody_library_sample\": \"Lib-1_2022-03-14_thaw-3_no-antibody_control_1\", \"selection_group\": \"Lib-1_2022-03-14_thaw-3_2130-1-0114-112_1\"}, {\"library\": \"Lib-1\", \"antibody_sample\": \"2022-03-14_thaw-3_antibody_2130-1-0114-112_1.76_1\", \"no-antibody_sample\": \"2022-03-14_thaw-3_no-antibody_control_1\", \"n_aa_substitutions\": \"2\", \"antibody neut standard count\": 283962, \"no-antibody neut standard count\": 231982, \"antibody count\": 4138823, \"no-antibody count\": 3593369, \"censored\": \"no\", \"fraction not neutralized\": 0.941, \"library_sample\": \"Lib-1_2022-03-14_thaw-3_antibody_2130-1-0114-112_1.76_1\", \"antibody\": \"2130-1-0114-112\", \"antibody_concentration\": 1.76, \"virus_batch\": \"thaw-3\", \"date\": \"2022-03-14\", \"replicate\": 1, \"antibody_library_sample\": \"Lib-1_2022-03-14_thaw-3_antibody_2130-1-0114-112_1.76_1\", \"no-antibody_library_sample\": \"Lib-1_2022-03-14_thaw-3_no-antibody_control_1\", \"selection_group\": \"Lib-1_2022-03-14_thaw-3_2130-1-0114-112_1\"}, {\"library\": \"Lib-1\", \"antibody_sample\": \"2022-03-14_thaw-3_antibody_2130-1-0114-112_1.76_1\", \"no-antibody_sample\": \"2022-03-14_thaw-3_no-antibody_control_1\", \"n_aa_substitutions\": \"3\", \"antibody neut standard count\": 283962, \"no-antibody neut standard count\": 231982, \"antibody count\": 2262226, \"no-antibody count\": 1970147, \"censored\": \"no\", \"fraction not neutralized\": 0.9381, \"library_sample\": \"Lib-1_2022-03-14_thaw-3_antibody_2130-1-0114-112_1.76_1\", \"antibody\": \"2130-1-0114-112\", \"antibody_concentration\": 1.76, \"virus_batch\": \"thaw-3\", \"date\": \"2022-03-14\", \"replicate\": 1, \"antibody_library_sample\": \"Lib-1_2022-03-14_thaw-3_antibody_2130-1-0114-112_1.76_1\", \"no-antibody_library_sample\": \"Lib-1_2022-03-14_thaw-3_no-antibody_control_1\", \"selection_group\": \"Lib-1_2022-03-14_thaw-3_2130-1-0114-112_1\"}, {\"library\": \"Lib-1\", \"antibody_sample\": \"2022-03-14_thaw-3_antibody_2130-1-0114-112_1.76_1\", \"no-antibody_sample\": \"2022-03-14_thaw-3_no-antibody_control_1\", \"n_aa_substitutions\": \">3\", \"antibody neut standard count\": 283962, \"no-antibody neut standard count\": 231982, \"antibody count\": 1467598, \"no-antibody count\": 1274858, \"censored\": \"no\", \"fraction not neutralized\": 0.9405, \"library_sample\": \"Lib-1_2022-03-14_thaw-3_antibody_2130-1-0114-112_1.76_1\", \"antibody\": \"2130-1-0114-112\", \"antibody_concentration\": 1.76, \"virus_batch\": \"thaw-3\", \"date\": \"2022-03-14\", \"replicate\": 1, \"antibody_library_sample\": \"Lib-1_2022-03-14_thaw-3_antibody_2130-1-0114-112_1.76_1\", \"no-antibody_library_sample\": \"Lib-1_2022-03-14_thaw-3_no-antibody_control_1\", \"selection_group\": \"Lib-1_2022-03-14_thaw-3_2130-1-0114-112_1\"}, {\"library\": \"Lib-1\", \"antibody_sample\": \"2022-03-14_thaw-3_antibody_2130-1-0114-112_43.94_1\", \"no-antibody_sample\": \"2022-03-14_thaw-3_no-antibody_control_1\", \"n_aa_substitutions\": \"0\", \"antibody neut standard count\": 6285313, \"no-antibody neut standard count\": 231982, \"antibody count\": 591729, \"no-antibody count\": 3253675, \"censored\": \"no\", \"fraction not neutralized\": 0.006712, \"library_sample\": \"Lib-1_2022-03-14_thaw-3_antibody_2130-1-0114-112_43.94_1\", \"antibody\": \"2130-1-0114-112\", \"antibody_concentration\": 43.94, \"virus_batch\": \"thaw-3\", \"date\": \"2022-03-14\", \"replicate\": 1, \"antibody_library_sample\": \"Lib-1_2022-03-14_thaw-3_antibody_2130-1-0114-112_43.94_1\", \"no-antibody_library_sample\": \"Lib-1_2022-03-14_thaw-3_no-antibody_control_1\", \"selection_group\": \"Lib-1_2022-03-14_thaw-3_2130-1-0114-112_1\"}, {\"library\": \"Lib-1\", \"antibody_sample\": \"2022-03-14_thaw-3_antibody_2130-1-0114-112_43.94_1\", \"no-antibody_sample\": \"2022-03-14_thaw-3_no-antibody_control_1\", \"n_aa_substitutions\": \"1\", \"antibody neut standard count\": 6285313, \"no-antibody neut standard count\": 231982, \"antibody count\": 1431585, \"no-antibody count\": 4711908, \"censored\": \"no\", \"fraction not neutralized\": 0.01121, \"library_sample\": \"Lib-1_2022-03-14_thaw-3_antibody_2130-1-0114-112_43.94_1\", \"antibody\": \"2130-1-0114-112\", \"antibody_concentration\": 43.94, \"virus_batch\": \"thaw-3\", \"date\": \"2022-03-14\", \"replicate\": 1, \"antibody_library_sample\": \"Lib-1_2022-03-14_thaw-3_antibody_2130-1-0114-112_43.94_1\", \"no-antibody_library_sample\": \"Lib-1_2022-03-14_thaw-3_no-antibody_control_1\", \"selection_group\": \"Lib-1_2022-03-14_thaw-3_2130-1-0114-112_1\"}, {\"library\": \"Lib-1\", \"antibody_sample\": \"2022-03-14_thaw-3_antibody_2130-1-0114-112_43.94_1\", \"no-antibody_sample\": \"2022-03-14_thaw-3_no-antibody_control_1\", \"n_aa_substitutions\": \"2\", \"antibody neut standard count\": 6285313, \"no-antibody neut standard count\": 231982, \"antibody count\": 1695232, \"no-antibody count\": 3593369, \"censored\": \"no\", \"fraction not neutralized\": 0.01741, \"library_sample\": \"Lib-1_2022-03-14_thaw-3_antibody_2130-1-0114-112_43.94_1\", \"antibody\": \"2130-1-0114-112\", \"antibody_concentration\": 43.94, \"virus_batch\": \"thaw-3\", \"date\": \"2022-03-14\", \"replicate\": 1, \"antibody_library_sample\": \"Lib-1_2022-03-14_thaw-3_antibody_2130-1-0114-112_43.94_1\", \"no-antibody_library_sample\": \"Lib-1_2022-03-14_thaw-3_no-antibody_control_1\", \"selection_group\": \"Lib-1_2022-03-14_thaw-3_2130-1-0114-112_1\"}, {\"library\": \"Lib-1\", \"antibody_sample\": \"2022-03-14_thaw-3_antibody_2130-1-0114-112_43.94_1\", \"no-antibody_sample\": \"2022-03-14_thaw-3_no-antibody_control_1\", \"n_aa_substitutions\": \"3\", \"antibody neut standard count\": 6285313, \"no-antibody neut standard count\": 231982, \"antibody count\": 1406740, \"no-antibody count\": 1970147, \"censored\": \"no\", \"fraction not neutralized\": 0.02635, \"library_sample\": \"Lib-1_2022-03-14_thaw-3_antibody_2130-1-0114-112_43.94_1\", \"antibody\": \"2130-1-0114-112\", \"antibody_concentration\": 43.94, \"virus_batch\": \"thaw-3\", \"date\": \"2022-03-14\", \"replicate\": 1, \"antibody_library_sample\": \"Lib-1_2022-03-14_thaw-3_antibody_2130-1-0114-112_43.94_1\", \"no-antibody_library_sample\": \"Lib-1_2022-03-14_thaw-3_no-antibody_control_1\", \"selection_group\": \"Lib-1_2022-03-14_thaw-3_2130-1-0114-112_1\"}, {\"library\": \"Lib-1\", \"antibody_sample\": \"2022-03-14_thaw-3_antibody_2130-1-0114-112_43.94_1\", \"no-antibody_sample\": \"2022-03-14_thaw-3_no-antibody_control_1\", \"n_aa_substitutions\": \">3\", \"antibody neut standard count\": 6285313, \"no-antibody neut standard count\": 231982, \"antibody count\": 1787363, \"no-antibody count\": 1274858, \"censored\": \"no\", \"fraction not neutralized\": 0.05175, \"library_sample\": \"Lib-1_2022-03-14_thaw-3_antibody_2130-1-0114-112_43.94_1\", \"antibody\": \"2130-1-0114-112\", \"antibody_concentration\": 43.94, \"virus_batch\": \"thaw-3\", \"date\": \"2022-03-14\", \"replicate\": 1, \"antibody_library_sample\": \"Lib-1_2022-03-14_thaw-3_antibody_2130-1-0114-112_43.94_1\", \"no-antibody_library_sample\": \"Lib-1_2022-03-14_thaw-3_no-antibody_control_1\", \"selection_group\": \"Lib-1_2022-03-14_thaw-3_2130-1-0114-112_1\"}, {\"library\": \"Lib-1\", \"antibody_sample\": \"2022-03-14_thaw-3_antibody_2130-1-0114-112_8.79_1\", \"no-antibody_sample\": \"2022-03-14_thaw-3_no-antibody_control_1\", \"n_aa_substitutions\": \"0\", \"antibody neut standard count\": 4535977, \"no-antibody neut standard count\": 231982, \"antibody count\": 1671775, \"no-antibody count\": 3253675, \"censored\": \"no\", \"fraction not neutralized\": 0.02628, \"library_sample\": \"Lib-1_2022-03-14_thaw-3_antibody_2130-1-0114-112_8.79_1\", \"antibody\": \"2130-1-0114-112\", \"antibody_concentration\": 8.79, \"virus_batch\": \"thaw-3\", \"date\": \"2022-03-14\", \"replicate\": 1, \"antibody_library_sample\": \"Lib-1_2022-03-14_thaw-3_antibody_2130-1-0114-112_8.79_1\", \"no-antibody_library_sample\": \"Lib-1_2022-03-14_thaw-3_no-antibody_control_1\", \"selection_group\": \"Lib-1_2022-03-14_thaw-3_2130-1-0114-112_1\"}, {\"library\": \"Lib-1\", \"antibody_sample\": \"2022-03-14_thaw-3_antibody_2130-1-0114-112_8.79_1\", \"no-antibody_sample\": \"2022-03-14_thaw-3_no-antibody_control_1\", \"n_aa_substitutions\": \"1\", \"antibody neut standard count\": 4535977, \"no-antibody neut standard count\": 231982, \"antibody count\": 3062477, \"no-antibody count\": 4711908, \"censored\": \"no\", \"fraction not neutralized\": 0.03324, \"library_sample\": \"Lib-1_2022-03-14_thaw-3_antibody_2130-1-0114-112_8.79_1\", \"antibody\": \"2130-1-0114-112\", \"antibody_concentration\": 8.79, \"virus_batch\": \"thaw-3\", \"date\": \"2022-03-14\", \"replicate\": 1, \"antibody_library_sample\": \"Lib-1_2022-03-14_thaw-3_antibody_2130-1-0114-112_8.79_1\", \"no-antibody_library_sample\": \"Lib-1_2022-03-14_thaw-3_no-antibody_control_1\", \"selection_group\": \"Lib-1_2022-03-14_thaw-3_2130-1-0114-112_1\"}, {\"library\": \"Lib-1\", \"antibody_sample\": \"2022-03-14_thaw-3_antibody_2130-1-0114-112_8.79_1\", \"no-antibody_sample\": \"2022-03-14_thaw-3_no-antibody_control_1\", \"n_aa_substitutions\": \"2\", \"antibody neut standard count\": 4535977, \"no-antibody neut standard count\": 231982, \"antibody count\": 2987178, \"no-antibody count\": 3593369, \"censored\": \"no\", \"fraction not neutralized\": 0.04252, \"library_sample\": \"Lib-1_2022-03-14_thaw-3_antibody_2130-1-0114-112_8.79_1\", \"antibody\": \"2130-1-0114-112\", \"antibody_concentration\": 8.79, \"virus_batch\": \"thaw-3\", \"date\": \"2022-03-14\", \"replicate\": 1, \"antibody_library_sample\": \"Lib-1_2022-03-14_thaw-3_antibody_2130-1-0114-112_8.79_1\", \"no-antibody_library_sample\": \"Lib-1_2022-03-14_thaw-3_no-antibody_control_1\", \"selection_group\": \"Lib-1_2022-03-14_thaw-3_2130-1-0114-112_1\"}, {\"library\": \"Lib-1\", \"antibody_sample\": \"2022-03-14_thaw-3_antibody_2130-1-0114-112_8.79_1\", \"no-antibody_sample\": \"2022-03-14_thaw-3_no-antibody_control_1\", \"n_aa_substitutions\": \"3\", \"antibody neut standard count\": 4535977, \"no-antibody neut standard count\": 231982, \"antibody count\": 2119585, \"no-antibody count\": 1970147, \"censored\": \"no\", \"fraction not neutralized\": 0.05502, \"library_sample\": \"Lib-1_2022-03-14_thaw-3_antibody_2130-1-0114-112_8.79_1\", \"antibody\": \"2130-1-0114-112\", \"antibody_concentration\": 8.79, \"virus_batch\": \"thaw-3\", \"date\": \"2022-03-14\", \"replicate\": 1, \"antibody_library_sample\": \"Lib-1_2022-03-14_thaw-3_antibody_2130-1-0114-112_8.79_1\", \"no-antibody_library_sample\": \"Lib-1_2022-03-14_thaw-3_no-antibody_control_1\", \"selection_group\": \"Lib-1_2022-03-14_thaw-3_2130-1-0114-112_1\"}, {\"library\": \"Lib-1\", \"antibody_sample\": \"2022-03-14_thaw-3_antibody_2130-1-0114-112_8.79_1\", \"no-antibody_sample\": \"2022-03-14_thaw-3_no-antibody_control_1\", \"n_aa_substitutions\": \">3\", \"antibody neut standard count\": 4535977, \"no-antibody neut standard count\": 231982, \"antibody count\": 2015953, \"no-antibody count\": 1274858, \"censored\": \"no\", \"fraction not neutralized\": 0.08087, \"library_sample\": \"Lib-1_2022-03-14_thaw-3_antibody_2130-1-0114-112_8.79_1\", \"antibody\": \"2130-1-0114-112\", \"antibody_concentration\": 8.79, \"virus_batch\": \"thaw-3\", \"date\": \"2022-03-14\", \"replicate\": 1, \"antibody_library_sample\": \"Lib-1_2022-03-14_thaw-3_antibody_2130-1-0114-112_8.79_1\", \"no-antibody_library_sample\": \"Lib-1_2022-03-14_thaw-3_no-antibody_control_1\", \"selection_group\": \"Lib-1_2022-03-14_thaw-3_2130-1-0114-112_1\"}, {\"library\": \"Lib-2\", \"antibody_sample\": \"2022-03-14_thaw-3_antibody_COV2-2130_0.8_1\", \"no-antibody_sample\": \"2022-03-14_thaw-3_no-antibody_control_1\", \"n_aa_substitutions\": \"0\", \"antibody neut standard count\": 3388034, \"no-antibody neut standard count\": 260450, \"antibody count\": 2403389, \"no-antibody count\": 3973101, \"censored\": \"no\", \"fraction not neutralized\": 0.0465, \"library_sample\": \"Lib-2_2022-03-14_thaw-3_antibody_COV2-2130_0.8_1\", \"antibody\": \"COV2-2130\", \"antibody_concentration\": 0.8, \"virus_batch\": \"thaw-3\", \"date\": \"2022-03-14\", \"replicate\": 1, \"antibody_library_sample\": \"Lib-2_2022-03-14_thaw-3_antibody_COV2-2130_0.8_1\", \"no-antibody_library_sample\": \"Lib-2_2022-03-14_thaw-3_no-antibody_control_1\", \"selection_group\": \"Lib-2_2022-03-14_thaw-3_COV2-2130_1\"}, {\"library\": \"Lib-2\", \"antibody_sample\": \"2022-03-14_thaw-3_antibody_COV2-2130_0.8_1\", \"no-antibody_sample\": \"2022-03-14_thaw-3_no-antibody_control_1\", \"n_aa_substitutions\": \"1\", \"antibody neut standard count\": 3388034, \"no-antibody neut standard count\": 260450, \"antibody count\": 3974373, \"no-antibody count\": 5328219, \"censored\": \"no\", \"fraction not neutralized\": 0.05734, \"library_sample\": \"Lib-2_2022-03-14_thaw-3_antibody_COV2-2130_0.8_1\", \"antibody\": \"COV2-2130\", \"antibody_concentration\": 0.8, \"virus_batch\": \"thaw-3\", \"date\": \"2022-03-14\", \"replicate\": 1, \"antibody_library_sample\": \"Lib-2_2022-03-14_thaw-3_antibody_COV2-2130_0.8_1\", \"no-antibody_library_sample\": \"Lib-2_2022-03-14_thaw-3_no-antibody_control_1\", \"selection_group\": \"Lib-2_2022-03-14_thaw-3_COV2-2130_1\"}, {\"library\": \"Lib-2\", \"antibody_sample\": \"2022-03-14_thaw-3_antibody_COV2-2130_0.8_1\", \"no-antibody_sample\": \"2022-03-14_thaw-3_no-antibody_control_1\", \"n_aa_substitutions\": \"2\", \"antibody neut standard count\": 3388034, \"no-antibody neut standard count\": 260450, \"antibody count\": 3623793, \"no-antibody count\": 4194961, \"censored\": \"no\", \"fraction not neutralized\": 0.06641, \"library_sample\": \"Lib-2_2022-03-14_thaw-3_antibody_COV2-2130_0.8_1\", \"antibody\": \"COV2-2130\", \"antibody_concentration\": 0.8, \"virus_batch\": \"thaw-3\", \"date\": \"2022-03-14\", \"replicate\": 1, \"antibody_library_sample\": \"Lib-2_2022-03-14_thaw-3_antibody_COV2-2130_0.8_1\", \"no-antibody_library_sample\": \"Lib-2_2022-03-14_thaw-3_no-antibody_control_1\", \"selection_group\": \"Lib-2_2022-03-14_thaw-3_COV2-2130_1\"}, {\"library\": \"Lib-2\", \"antibody_sample\": \"2022-03-14_thaw-3_antibody_COV2-2130_0.8_1\", \"no-antibody_sample\": \"2022-03-14_thaw-3_no-antibody_control_1\", \"n_aa_substitutions\": \"3\", \"antibody neut standard count\": 3388034, \"no-antibody neut standard count\": 260450, \"antibody count\": 2353212, \"no-antibody count\": 2228454, \"censored\": \"no\", \"fraction not neutralized\": 0.08118, \"library_sample\": \"Lib-2_2022-03-14_thaw-3_antibody_COV2-2130_0.8_1\", \"antibody\": \"COV2-2130\", \"antibody_concentration\": 0.8, \"virus_batch\": \"thaw-3\", \"date\": \"2022-03-14\", \"replicate\": 1, \"antibody_library_sample\": \"Lib-2_2022-03-14_thaw-3_antibody_COV2-2130_0.8_1\", \"no-antibody_library_sample\": \"Lib-2_2022-03-14_thaw-3_no-antibody_control_1\", \"selection_group\": \"Lib-2_2022-03-14_thaw-3_COV2-2130_1\"}, {\"library\": \"Lib-2\", \"antibody_sample\": \"2022-03-14_thaw-3_antibody_COV2-2130_0.8_1\", \"no-antibody_sample\": \"2022-03-14_thaw-3_no-antibody_control_1\", \"n_aa_substitutions\": \">3\", \"antibody neut standard count\": 3388034, \"no-antibody neut standard count\": 260450, \"antibody count\": 2342217, \"no-antibody count\": 1462079, \"censored\": \"no\", \"fraction not neutralized\": 0.1231, \"library_sample\": \"Lib-2_2022-03-14_thaw-3_antibody_COV2-2130_0.8_1\", \"antibody\": \"COV2-2130\", \"antibody_concentration\": 0.8, \"virus_batch\": \"thaw-3\", \"date\": \"2022-03-14\", \"replicate\": 1, \"antibody_library_sample\": \"Lib-2_2022-03-14_thaw-3_antibody_COV2-2130_0.8_1\", \"no-antibody_library_sample\": \"Lib-2_2022-03-14_thaw-3_no-antibody_control_1\", \"selection_group\": \"Lib-2_2022-03-14_thaw-3_COV2-2130_1\"}, {\"library\": \"Lib-2\", \"antibody_sample\": \"2022-03-14_thaw-3_antibody_COV2-2130_19.95_1\", \"no-antibody_sample\": \"2022-03-14_thaw-3_no-antibody_control_1\", \"n_aa_substitutions\": \"0\", \"antibody neut standard count\": 7188763, \"no-antibody neut standard count\": 260450, \"antibody count\": 774183, \"no-antibody count\": 3973101, \"censored\": \"no\", \"fraction not neutralized\": 0.00706, \"library_sample\": \"Lib-2_2022-03-14_thaw-3_antibody_COV2-2130_19.95_1\", \"antibody\": \"COV2-2130\", \"antibody_concentration\": 19.95, \"virus_batch\": \"thaw-3\", \"date\": \"2022-03-14\", \"replicate\": 1, \"antibody_library_sample\": \"Lib-2_2022-03-14_thaw-3_antibody_COV2-2130_19.95_1\", \"no-antibody_library_sample\": \"Lib-2_2022-03-14_thaw-3_no-antibody_control_1\", \"selection_group\": \"Lib-2_2022-03-14_thaw-3_COV2-2130_1\"}, {\"library\": \"Lib-2\", \"antibody_sample\": \"2022-03-14_thaw-3_antibody_COV2-2130_19.95_1\", \"no-antibody_sample\": \"2022-03-14_thaw-3_no-antibody_control_1\", \"n_aa_substitutions\": \"1\", \"antibody neut standard count\": 7188763, \"no-antibody neut standard count\": 260450, \"antibody count\": 2157536, \"no-antibody count\": 5328219, \"censored\": \"no\", \"fraction not neutralized\": 0.01467, \"library_sample\": \"Lib-2_2022-03-14_thaw-3_antibody_COV2-2130_19.95_1\", \"antibody\": \"COV2-2130\", \"antibody_concentration\": 19.95, \"virus_batch\": \"thaw-3\", \"date\": \"2022-03-14\", \"replicate\": 1, \"antibody_library_sample\": \"Lib-2_2022-03-14_thaw-3_antibody_COV2-2130_19.95_1\", \"no-antibody_library_sample\": \"Lib-2_2022-03-14_thaw-3_no-antibody_control_1\", \"selection_group\": \"Lib-2_2022-03-14_thaw-3_COV2-2130_1\"}, {\"library\": \"Lib-2\", \"antibody_sample\": \"2022-03-14_thaw-3_antibody_COV2-2130_19.95_1\", \"no-antibody_sample\": \"2022-03-14_thaw-3_no-antibody_control_1\", \"n_aa_substitutions\": \"2\", \"antibody neut standard count\": 7188763, \"no-antibody neut standard count\": 260450, \"antibody count\": 2469522, \"no-antibody count\": 4194961, \"censored\": \"no\", \"fraction not neutralized\": 0.02133, \"library_sample\": \"Lib-2_2022-03-14_thaw-3_antibody_COV2-2130_19.95_1\", \"antibody\": \"COV2-2130\", \"antibody_concentration\": 19.95, \"virus_batch\": \"thaw-3\", \"date\": \"2022-03-14\", \"replicate\": 1, \"antibody_library_sample\": \"Lib-2_2022-03-14_thaw-3_antibody_COV2-2130_19.95_1\", \"no-antibody_library_sample\": \"Lib-2_2022-03-14_thaw-3_no-antibody_control_1\", \"selection_group\": \"Lib-2_2022-03-14_thaw-3_COV2-2130_1\"}, {\"library\": \"Lib-2\", \"antibody_sample\": \"2022-03-14_thaw-3_antibody_COV2-2130_19.95_1\", \"no-antibody_sample\": \"2022-03-14_thaw-3_no-antibody_control_1\", \"n_aa_substitutions\": \"3\", \"antibody neut standard count\": 7188763, \"no-antibody neut standard count\": 260450, \"antibody count\": 2049915, \"no-antibody count\": 2228454, \"censored\": \"no\", \"fraction not neutralized\": 0.03333, \"library_sample\": \"Lib-2_2022-03-14_thaw-3_antibody_COV2-2130_19.95_1\", \"antibody\": \"COV2-2130\", \"antibody_concentration\": 19.95, \"virus_batch\": \"thaw-3\", \"date\": \"2022-03-14\", \"replicate\": 1, \"antibody_library_sample\": \"Lib-2_2022-03-14_thaw-3_antibody_COV2-2130_19.95_1\", \"no-antibody_library_sample\": \"Lib-2_2022-03-14_thaw-3_no-antibody_control_1\", \"selection_group\": \"Lib-2_2022-03-14_thaw-3_COV2-2130_1\"}, {\"library\": \"Lib-2\", \"antibody_sample\": \"2022-03-14_thaw-3_antibody_COV2-2130_19.95_1\", \"no-antibody_sample\": \"2022-03-14_thaw-3_no-antibody_control_1\", \"n_aa_substitutions\": \">3\", \"antibody neut standard count\": 7188763, \"no-antibody neut standard count\": 260450, \"antibody count\": 2624168, \"no-antibody count\": 1462079, \"censored\": \"no\", \"fraction not neutralized\": 0.06503, \"library_sample\": \"Lib-2_2022-03-14_thaw-3_antibody_COV2-2130_19.95_1\", \"antibody\": \"COV2-2130\", \"antibody_concentration\": 19.95, \"virus_batch\": \"thaw-3\", \"date\": \"2022-03-14\", \"replicate\": 1, \"antibody_library_sample\": \"Lib-2_2022-03-14_thaw-3_antibody_COV2-2130_19.95_1\", \"no-antibody_library_sample\": \"Lib-2_2022-03-14_thaw-3_no-antibody_control_1\", \"selection_group\": \"Lib-2_2022-03-14_thaw-3_COV2-2130_1\"}, {\"library\": \"Lib-2\", \"antibody_sample\": \"2022-03-14_thaw-3_antibody_COV2-2130_3.99_1\", \"no-antibody_sample\": \"2022-03-14_thaw-3_no-antibody_control_1\", \"n_aa_substitutions\": \"0\", \"antibody neut standard count\": 6100442, \"no-antibody neut standard count\": 260450, \"antibody count\": 739006, \"no-antibody count\": 3973101, \"censored\": \"no\", \"fraction not neutralized\": 0.007941, \"library_sample\": \"Lib-2_2022-03-14_thaw-3_antibody_COV2-2130_3.99_1\", \"antibody\": \"COV2-2130\", \"antibody_concentration\": 3.99, \"virus_batch\": \"thaw-3\", \"date\": \"2022-03-14\", \"replicate\": 1, \"antibody_library_sample\": \"Lib-2_2022-03-14_thaw-3_antibody_COV2-2130_3.99_1\", \"no-antibody_library_sample\": \"Lib-2_2022-03-14_thaw-3_no-antibody_control_1\", \"selection_group\": \"Lib-2_2022-03-14_thaw-3_COV2-2130_1\"}, {\"library\": \"Lib-2\", \"antibody_sample\": \"2022-03-14_thaw-3_antibody_COV2-2130_3.99_1\", \"no-antibody_sample\": \"2022-03-14_thaw-3_no-antibody_control_1\", \"n_aa_substitutions\": \"1\", \"antibody neut standard count\": 6100442, \"no-antibody neut standard count\": 260450, \"antibody count\": 2237699, \"no-antibody count\": 5328219, \"censored\": \"no\", \"fraction not neutralized\": 0.01793, \"library_sample\": \"Lib-2_2022-03-14_thaw-3_antibody_COV2-2130_3.99_1\", \"antibody\": \"COV2-2130\", \"antibody_concentration\": 3.99, \"virus_batch\": \"thaw-3\", \"date\": \"2022-03-14\", \"replicate\": 1, \"antibody_library_sample\": \"Lib-2_2022-03-14_thaw-3_antibody_COV2-2130_3.99_1\", \"no-antibody_library_sample\": \"Lib-2_2022-03-14_thaw-3_no-antibody_control_1\", \"selection_group\": \"Lib-2_2022-03-14_thaw-3_COV2-2130_1\"}, {\"library\": \"Lib-2\", \"antibody_sample\": \"2022-03-14_thaw-3_antibody_COV2-2130_3.99_1\", \"no-antibody_sample\": \"2022-03-14_thaw-3_no-antibody_control_1\", \"n_aa_substitutions\": \"2\", \"antibody neut standard count\": 6100442, \"no-antibody neut standard count\": 260450, \"antibody count\": 2648353, \"no-antibody count\": 4194961, \"censored\": \"no\", \"fraction not neutralized\": 0.02695, \"library_sample\": \"Lib-2_2022-03-14_thaw-3_antibody_COV2-2130_3.99_1\", \"antibody\": \"COV2-2130\", \"antibody_concentration\": 3.99, \"virus_batch\": \"thaw-3\", \"date\": \"2022-03-14\", \"replicate\": 1, \"antibody_library_sample\": \"Lib-2_2022-03-14_thaw-3_antibody_COV2-2130_3.99_1\", \"no-antibody_library_sample\": \"Lib-2_2022-03-14_thaw-3_no-antibody_control_1\", \"selection_group\": \"Lib-2_2022-03-14_thaw-3_COV2-2130_1\"}, {\"library\": \"Lib-2\", \"antibody_sample\": \"2022-03-14_thaw-3_antibody_COV2-2130_3.99_1\", \"no-antibody_sample\": \"2022-03-14_thaw-3_no-antibody_control_1\", \"n_aa_substitutions\": \"3\", \"antibody neut standard count\": 6100442, \"no-antibody neut standard count\": 260450, \"antibody count\": 2177932, \"no-antibody count\": 2228454, \"censored\": \"no\", \"fraction not neutralized\": 0.04173, \"library_sample\": \"Lib-2_2022-03-14_thaw-3_antibody_COV2-2130_3.99_1\", \"antibody\": \"COV2-2130\", \"antibody_concentration\": 3.99, \"virus_batch\": \"thaw-3\", \"date\": \"2022-03-14\", \"replicate\": 1, \"antibody_library_sample\": \"Lib-2_2022-03-14_thaw-3_antibody_COV2-2130_3.99_1\", \"no-antibody_library_sample\": \"Lib-2_2022-03-14_thaw-3_no-antibody_control_1\", \"selection_group\": \"Lib-2_2022-03-14_thaw-3_COV2-2130_1\"}, {\"library\": \"Lib-2\", \"antibody_sample\": \"2022-03-14_thaw-3_antibody_COV2-2130_3.99_1\", \"no-antibody_sample\": \"2022-03-14_thaw-3_no-antibody_control_1\", \"n_aa_substitutions\": \">3\", \"antibody neut standard count\": 6100442, \"no-antibody neut standard count\": 260450, \"antibody count\": 2829658, \"no-antibody count\": 1462079, \"censored\": \"no\", \"fraction not neutralized\": 0.08263, \"library_sample\": \"Lib-2_2022-03-14_thaw-3_antibody_COV2-2130_3.99_1\", \"antibody\": \"COV2-2130\", \"antibody_concentration\": 3.99, \"virus_batch\": \"thaw-3\", \"date\": \"2022-03-14\", \"replicate\": 1, \"antibody_library_sample\": \"Lib-2_2022-03-14_thaw-3_antibody_COV2-2130_3.99_1\", \"no-antibody_library_sample\": \"Lib-2_2022-03-14_thaw-3_no-antibody_control_1\", \"selection_group\": \"Lib-2_2022-03-14_thaw-3_COV2-2130_1\"}, {\"library\": \"Lib-2\", \"antibody_sample\": \"2022-03-14_thaw-3_antibody_2130-1-0114-112_1.76_1\", \"no-antibody_sample\": \"2022-03-14_thaw-3_no-antibody_control_1\", \"n_aa_substitutions\": \"0\", \"antibody neut standard count\": 329697, \"no-antibody neut standard count\": 260450, \"antibody count\": 3897214, \"no-antibody count\": 3973101, \"censored\": \"no\", \"fraction not neutralized\": 0.7749, \"library_sample\": \"Lib-2_2022-03-14_thaw-3_antibody_2130-1-0114-112_1.76_1\", \"antibody\": \"2130-1-0114-112\", \"antibody_concentration\": 1.76, \"virus_batch\": \"thaw-3\", \"date\": \"2022-03-14\", \"replicate\": 1, \"antibody_library_sample\": \"Lib-2_2022-03-14_thaw-3_antibody_2130-1-0114-112_1.76_1\", \"no-antibody_library_sample\": \"Lib-2_2022-03-14_thaw-3_no-antibody_control_1\", \"selection_group\": \"Lib-2_2022-03-14_thaw-3_2130-1-0114-112_1\"}, {\"library\": \"Lib-2\", \"antibody_sample\": \"2022-03-14_thaw-3_antibody_2130-1-0114-112_1.76_1\", \"no-antibody_sample\": \"2022-03-14_thaw-3_no-antibody_control_1\", \"n_aa_substitutions\": \"1\", \"antibody neut standard count\": 329697, \"no-antibody neut standard count\": 260450, \"antibody count\": 5268631, \"no-antibody count\": 5328219, \"censored\": \"no\", \"fraction not neutralized\": 0.7811, \"library_sample\": \"Lib-2_2022-03-14_thaw-3_antibody_2130-1-0114-112_1.76_1\", \"antibody\": \"2130-1-0114-112\", \"antibody_concentration\": 1.76, \"virus_batch\": \"thaw-3\", \"date\": \"2022-03-14\", \"replicate\": 1, \"antibody_library_sample\": \"Lib-2_2022-03-14_thaw-3_antibody_2130-1-0114-112_1.76_1\", \"no-antibody_library_sample\": \"Lib-2_2022-03-14_thaw-3_no-antibody_control_1\", \"selection_group\": \"Lib-2_2022-03-14_thaw-3_2130-1-0114-112_1\"}, {\"library\": \"Lib-2\", \"antibody_sample\": \"2022-03-14_thaw-3_antibody_2130-1-0114-112_1.76_1\", \"no-antibody_sample\": \"2022-03-14_thaw-3_no-antibody_control_1\", \"n_aa_substitutions\": \"2\", \"antibody neut standard count\": 329697, \"no-antibody neut standard count\": 260450, \"antibody count\": 4186141, \"no-antibody count\": 4194961, \"censored\": \"no\", \"fraction not neutralized\": 0.7883, \"library_sample\": \"Lib-2_2022-03-14_thaw-3_antibody_2130-1-0114-112_1.76_1\", \"antibody\": \"2130-1-0114-112\", \"antibody_concentration\": 1.76, \"virus_batch\": \"thaw-3\", \"date\": \"2022-03-14\", \"replicate\": 1, \"antibody_library_sample\": \"Lib-2_2022-03-14_thaw-3_antibody_2130-1-0114-112_1.76_1\", \"no-antibody_library_sample\": \"Lib-2_2022-03-14_thaw-3_no-antibody_control_1\", \"selection_group\": \"Lib-2_2022-03-14_thaw-3_2130-1-0114-112_1\"}, {\"library\": \"Lib-2\", \"antibody_sample\": \"2022-03-14_thaw-3_antibody_2130-1-0114-112_1.76_1\", \"no-antibody_sample\": \"2022-03-14_thaw-3_no-antibody_control_1\", \"n_aa_substitutions\": \"3\", \"antibody neut standard count\": 329697, \"no-antibody neut standard count\": 260450, \"antibody count\": 2243467, \"no-antibody count\": 2228454, \"censored\": \"no\", \"fraction not neutralized\": 0.7953, \"library_sample\": \"Lib-2_2022-03-14_thaw-3_antibody_2130-1-0114-112_1.76_1\", \"antibody\": \"2130-1-0114-112\", \"antibody_concentration\": 1.76, \"virus_batch\": \"thaw-3\", \"date\": \"2022-03-14\", \"replicate\": 1, \"antibody_library_sample\": \"Lib-2_2022-03-14_thaw-3_antibody_2130-1-0114-112_1.76_1\", \"no-antibody_library_sample\": \"Lib-2_2022-03-14_thaw-3_no-antibody_control_1\", \"selection_group\": \"Lib-2_2022-03-14_thaw-3_2130-1-0114-112_1\"}, {\"library\": \"Lib-2\", \"antibody_sample\": \"2022-03-14_thaw-3_antibody_2130-1-0114-112_1.76_1\", \"no-antibody_sample\": \"2022-03-14_thaw-3_no-antibody_control_1\", \"n_aa_substitutions\": \">3\", \"antibody neut standard count\": 329697, \"no-antibody neut standard count\": 260450, \"antibody count\": 1473608, \"no-antibody count\": 1462079, \"censored\": \"no\", \"fraction not neutralized\": 0.7962, \"library_sample\": \"Lib-2_2022-03-14_thaw-3_antibody_2130-1-0114-112_1.76_1\", \"antibody\": \"2130-1-0114-112\", \"antibody_concentration\": 1.76, \"virus_batch\": \"thaw-3\", \"date\": \"2022-03-14\", \"replicate\": 1, \"antibody_library_sample\": \"Lib-2_2022-03-14_thaw-3_antibody_2130-1-0114-112_1.76_1\", \"no-antibody_library_sample\": \"Lib-2_2022-03-14_thaw-3_no-antibody_control_1\", \"selection_group\": \"Lib-2_2022-03-14_thaw-3_2130-1-0114-112_1\"}, {\"library\": \"Lib-2\", \"antibody_sample\": \"2022-03-14_thaw-3_antibody_2130-1-0114-112_43.94_1\", \"no-antibody_sample\": \"2022-03-14_thaw-3_no-antibody_control_1\", \"n_aa_substitutions\": \"0\", \"antibody neut standard count\": 7821989, \"no-antibody neut standard count\": 260450, \"antibody count\": 775410, \"no-antibody count\": 3973101, \"censored\": \"no\", \"fraction not neutralized\": 0.006498, \"library_sample\": \"Lib-2_2022-03-14_thaw-3_antibody_2130-1-0114-112_43.94_1\", \"antibody\": \"2130-1-0114-112\", \"antibody_concentration\": 43.94, \"virus_batch\": \"thaw-3\", \"date\": \"2022-03-14\", \"replicate\": 1, \"antibody_library_sample\": \"Lib-2_2022-03-14_thaw-3_antibody_2130-1-0114-112_43.94_1\", \"no-antibody_library_sample\": \"Lib-2_2022-03-14_thaw-3_no-antibody_control_1\", \"selection_group\": \"Lib-2_2022-03-14_thaw-3_2130-1-0114-112_1\"}, {\"library\": \"Lib-2\", \"antibody_sample\": \"2022-03-14_thaw-3_antibody_2130-1-0114-112_43.94_1\", \"no-antibody_sample\": \"2022-03-14_thaw-3_no-antibody_control_1\", \"n_aa_substitutions\": \"1\", \"antibody neut standard count\": 7821989, \"no-antibody neut standard count\": 260450, \"antibody count\": 1806828, \"no-antibody count\": 5328219, \"censored\": \"no\", \"fraction not neutralized\": 0.01129, \"library_sample\": \"Lib-2_2022-03-14_thaw-3_antibody_2130-1-0114-112_43.94_1\", \"antibody\": \"2130-1-0114-112\", \"antibody_concentration\": 43.94, \"virus_batch\": \"thaw-3\", \"date\": \"2022-03-14\", \"replicate\": 1, \"antibody_library_sample\": \"Lib-2_2022-03-14_thaw-3_antibody_2130-1-0114-112_43.94_1\", \"no-antibody_library_sample\": \"Lib-2_2022-03-14_thaw-3_no-antibody_control_1\", \"selection_group\": \"Lib-2_2022-03-14_thaw-3_2130-1-0114-112_1\"}, {\"library\": \"Lib-2\", \"antibody_sample\": \"2022-03-14_thaw-3_antibody_2130-1-0114-112_43.94_1\", \"no-antibody_sample\": \"2022-03-14_thaw-3_no-antibody_control_1\", \"n_aa_substitutions\": \"2\", \"antibody neut standard count\": 7821989, \"no-antibody neut standard count\": 260450, \"antibody count\": 2028791, \"no-antibody count\": 4194961, \"censored\": \"no\", \"fraction not neutralized\": 0.0161, \"library_sample\": \"Lib-2_2022-03-14_thaw-3_antibody_2130-1-0114-112_43.94_1\", \"antibody\": \"2130-1-0114-112\", \"antibody_concentration\": 43.94, \"virus_batch\": \"thaw-3\", \"date\": \"2022-03-14\", \"replicate\": 1, \"antibody_library_sample\": \"Lib-2_2022-03-14_thaw-3_antibody_2130-1-0114-112_43.94_1\", \"no-antibody_library_sample\": \"Lib-2_2022-03-14_thaw-3_no-antibody_control_1\", \"selection_group\": \"Lib-2_2022-03-14_thaw-3_2130-1-0114-112_1\"}, {\"library\": \"Lib-2\", \"antibody_sample\": \"2022-03-14_thaw-3_antibody_2130-1-0114-112_43.94_1\", \"no-antibody_sample\": \"2022-03-14_thaw-3_no-antibody_control_1\", \"n_aa_substitutions\": \"3\", \"antibody neut standard count\": 7821989, \"no-antibody neut standard count\": 260450, \"antibody count\": 1738715, \"no-antibody count\": 2228454, \"censored\": \"no\", \"fraction not neutralized\": 0.02598, \"library_sample\": \"Lib-2_2022-03-14_thaw-3_antibody_2130-1-0114-112_43.94_1\", \"antibody\": \"2130-1-0114-112\", \"antibody_concentration\": 43.94, \"virus_batch\": \"thaw-3\", \"date\": \"2022-03-14\", \"replicate\": 1, \"antibody_library_sample\": \"Lib-2_2022-03-14_thaw-3_antibody_2130-1-0114-112_43.94_1\", \"no-antibody_library_sample\": \"Lib-2_2022-03-14_thaw-3_no-antibody_control_1\", \"selection_group\": \"Lib-2_2022-03-14_thaw-3_2130-1-0114-112_1\"}, {\"library\": \"Lib-2\", \"antibody_sample\": \"2022-03-14_thaw-3_antibody_2130-1-0114-112_43.94_1\", \"no-antibody_sample\": \"2022-03-14_thaw-3_no-antibody_control_1\", \"n_aa_substitutions\": \">3\", \"antibody neut standard count\": 7821989, \"no-antibody neut standard count\": 260450, \"antibody count\": 2234133, \"no-antibody count\": 1462079, \"censored\": \"no\", \"fraction not neutralized\": 0.05088, \"library_sample\": \"Lib-2_2022-03-14_thaw-3_antibody_2130-1-0114-112_43.94_1\", \"antibody\": \"2130-1-0114-112\", \"antibody_concentration\": 43.94, \"virus_batch\": \"thaw-3\", \"date\": \"2022-03-14\", \"replicate\": 1, \"antibody_library_sample\": \"Lib-2_2022-03-14_thaw-3_antibody_2130-1-0114-112_43.94_1\", \"no-antibody_library_sample\": \"Lib-2_2022-03-14_thaw-3_no-antibody_control_1\", \"selection_group\": \"Lib-2_2022-03-14_thaw-3_2130-1-0114-112_1\"}, {\"library\": \"Lib-2\", \"antibody_sample\": \"2022-03-14_thaw-3_antibody_2130-1-0114-112_8.79_1\", \"no-antibody_sample\": \"2022-03-14_thaw-3_no-antibody_control_1\", \"n_aa_substitutions\": \"0\", \"antibody neut standard count\": 7232593, \"no-antibody neut standard count\": 260450, \"antibody count\": 776988, \"no-antibody count\": 3973101, \"censored\": \"no\", \"fraction not neutralized\": 0.007042, \"library_sample\": \"Lib-2_2022-03-14_thaw-3_antibody_2130-1-0114-112_8.79_1\", \"antibody\": \"2130-1-0114-112\", \"antibody_concentration\": 8.79, \"virus_batch\": \"thaw-3\", \"date\": \"2022-03-14\", \"replicate\": 1, \"antibody_library_sample\": \"Lib-2_2022-03-14_thaw-3_antibody_2130-1-0114-112_8.79_1\", \"no-antibody_library_sample\": \"Lib-2_2022-03-14_thaw-3_no-antibody_control_1\", \"selection_group\": \"Lib-2_2022-03-14_thaw-3_2130-1-0114-112_1\"}, {\"library\": \"Lib-2\", \"antibody_sample\": \"2022-03-14_thaw-3_antibody_2130-1-0114-112_8.79_1\", \"no-antibody_sample\": \"2022-03-14_thaw-3_no-antibody_control_1\", \"n_aa_substitutions\": \"1\", \"antibody neut standard count\": 7232593, \"no-antibody neut standard count\": 260450, \"antibody count\": 2049010, \"no-antibody count\": 5328219, \"censored\": \"no\", \"fraction not neutralized\": 0.01385, \"library_sample\": \"Lib-2_2022-03-14_thaw-3_antibody_2130-1-0114-112_8.79_1\", \"antibody\": \"2130-1-0114-112\", \"antibody_concentration\": 8.79, \"virus_batch\": \"thaw-3\", \"date\": \"2022-03-14\", \"replicate\": 1, \"antibody_library_sample\": \"Lib-2_2022-03-14_thaw-3_antibody_2130-1-0114-112_8.79_1\", \"no-antibody_library_sample\": \"Lib-2_2022-03-14_thaw-3_no-antibody_control_1\", \"selection_group\": \"Lib-2_2022-03-14_thaw-3_2130-1-0114-112_1\"}, {\"library\": \"Lib-2\", \"antibody_sample\": \"2022-03-14_thaw-3_antibody_2130-1-0114-112_8.79_1\", \"no-antibody_sample\": \"2022-03-14_thaw-3_no-antibody_control_1\", \"n_aa_substitutions\": \"2\", \"antibody neut standard count\": 7232593, \"no-antibody neut standard count\": 260450, \"antibody count\": 2240984, \"no-antibody count\": 4194961, \"censored\": \"no\", \"fraction not neutralized\": 0.01924, \"library_sample\": \"Lib-2_2022-03-14_thaw-3_antibody_2130-1-0114-112_8.79_1\", \"antibody\": \"2130-1-0114-112\", \"antibody_concentration\": 8.79, \"virus_batch\": \"thaw-3\", \"date\": \"2022-03-14\", \"replicate\": 1, \"antibody_library_sample\": \"Lib-2_2022-03-14_thaw-3_antibody_2130-1-0114-112_8.79_1\", \"no-antibody_library_sample\": \"Lib-2_2022-03-14_thaw-3_no-antibody_control_1\", \"selection_group\": \"Lib-2_2022-03-14_thaw-3_2130-1-0114-112_1\"}, {\"library\": \"Lib-2\", \"antibody_sample\": \"2022-03-14_thaw-3_antibody_2130-1-0114-112_8.79_1\", \"no-antibody_sample\": \"2022-03-14_thaw-3_no-antibody_control_1\", \"n_aa_substitutions\": \"3\", \"antibody neut standard count\": 7232593, \"no-antibody neut standard count\": 260450, \"antibody count\": 1934838, \"no-antibody count\": 2228454, \"censored\": \"no\", \"fraction not neutralized\": 0.03127, \"library_sample\": \"Lib-2_2022-03-14_thaw-3_antibody_2130-1-0114-112_8.79_1\", \"antibody\": \"2130-1-0114-112\", \"antibody_concentration\": 8.79, \"virus_batch\": \"thaw-3\", \"date\": \"2022-03-14\", \"replicate\": 1, \"antibody_library_sample\": \"Lib-2_2022-03-14_thaw-3_antibody_2130-1-0114-112_8.79_1\", \"no-antibody_library_sample\": \"Lib-2_2022-03-14_thaw-3_no-antibody_control_1\", \"selection_group\": \"Lib-2_2022-03-14_thaw-3_2130-1-0114-112_1\"}, {\"library\": \"Lib-2\", \"antibody_sample\": \"2022-03-14_thaw-3_antibody_2130-1-0114-112_8.79_1\", \"no-antibody_sample\": \"2022-03-14_thaw-3_no-antibody_control_1\", \"n_aa_substitutions\": \">3\", \"antibody neut standard count\": 7232593, \"no-antibody neut standard count\": 260450, \"antibody count\": 2406805, \"no-antibody count\": 1462079, \"censored\": \"no\", \"fraction not neutralized\": 0.05928, \"library_sample\": \"Lib-2_2022-03-14_thaw-3_antibody_2130-1-0114-112_8.79_1\", \"antibody\": \"2130-1-0114-112\", \"antibody_concentration\": 8.79, \"virus_batch\": \"thaw-3\", \"date\": \"2022-03-14\", \"replicate\": 1, \"antibody_library_sample\": \"Lib-2_2022-03-14_thaw-3_antibody_2130-1-0114-112_8.79_1\", \"no-antibody_library_sample\": \"Lib-2_2022-03-14_thaw-3_no-antibody_control_1\", \"selection_group\": \"Lib-2_2022-03-14_thaw-3_2130-1-0114-112_1\"}, {\"library\": \"Lib-1\", \"antibody_sample\": \"2022-03-14_thaw-3_antibody_COV2-2130_0.8_1\", \"no-antibody_sample\": \"2022-03-14_thaw-3_no-antibody_control_1\", \"n_aa_substitutions\": \"0\", \"antibody neut standard count\": 2183898, \"no-antibody neut standard count\": 231982, \"antibody count\": 2007124, \"no-antibody count\": 3253675, \"censored\": \"yes\", \"fraction not neutralized\": 0.06553, \"library_sample\": \"Lib-1_2022-03-14_thaw-3_antibody_COV2-2130_0.8_1\", \"antibody\": \"COV2-2130\", \"antibody_concentration\": 0.8, \"virus_batch\": \"thaw-3\", \"date\": \"2022-03-14\", \"replicate\": 1, \"antibody_library_sample\": \"Lib-1_2022-03-14_thaw-3_antibody_COV2-2130_0.8_1\", \"no-antibody_library_sample\": \"Lib-1_2022-03-14_thaw-3_no-antibody_control_1\", \"selection_group\": \"Lib-1_2022-03-14_thaw-3_COV2-2130_1\"}, {\"library\": \"Lib-1\", \"antibody_sample\": \"2022-03-14_thaw-3_antibody_COV2-2130_0.8_1\", \"no-antibody_sample\": \"2022-03-14_thaw-3_no-antibody_control_1\", \"n_aa_substitutions\": \"1\", \"antibody neut standard count\": 2183898, \"no-antibody neut standard count\": 231982, \"antibody count\": 3410793, \"no-antibody count\": 4711908, \"censored\": \"yes\", \"fraction not neutralized\": 0.07689, \"library_sample\": \"Lib-1_2022-03-14_thaw-3_antibody_COV2-2130_0.8_1\", \"antibody\": \"COV2-2130\", \"antibody_concentration\": 0.8, \"virus_batch\": \"thaw-3\", \"date\": \"2022-03-14\", \"replicate\": 1, \"antibody_library_sample\": \"Lib-1_2022-03-14_thaw-3_antibody_COV2-2130_0.8_1\", \"no-antibody_library_sample\": \"Lib-1_2022-03-14_thaw-3_no-antibody_control_1\", \"selection_group\": \"Lib-1_2022-03-14_thaw-3_COV2-2130_1\"}, {\"library\": \"Lib-1\", \"antibody_sample\": \"2022-03-14_thaw-3_antibody_COV2-2130_0.8_1\", \"no-antibody_sample\": \"2022-03-14_thaw-3_no-antibody_control_1\", \"n_aa_substitutions\": \"2\", \"antibody neut standard count\": 2183898, \"no-antibody neut standard count\": 231982, \"antibody count\": 2997411, \"no-antibody count\": 3593369, \"censored\": \"yes\", \"fraction not neutralized\": 0.08861, \"library_sample\": \"Lib-1_2022-03-14_thaw-3_antibody_COV2-2130_0.8_1\", \"antibody\": \"COV2-2130\", \"antibody_concentration\": 0.8, \"virus_batch\": \"thaw-3\", \"date\": \"2022-03-14\", \"replicate\": 1, \"antibody_library_sample\": \"Lib-1_2022-03-14_thaw-3_antibody_COV2-2130_0.8_1\", \"no-antibody_library_sample\": \"Lib-1_2022-03-14_thaw-3_no-antibody_control_1\", \"selection_group\": \"Lib-1_2022-03-14_thaw-3_COV2-2130_1\"}, {\"library\": \"Lib-1\", \"antibody_sample\": \"2022-03-14_thaw-3_antibody_COV2-2130_0.8_1\", \"no-antibody_sample\": \"2022-03-14_thaw-3_no-antibody_control_1\", \"n_aa_substitutions\": \"3\", \"antibody neut standard count\": 2183898, \"no-antibody neut standard count\": 231982, \"antibody count\": 1974206, \"no-antibody count\": 1970147, \"censored\": \"yes\", \"fraction not neutralized\": 0.1064, \"library_sample\": \"Lib-1_2022-03-14_thaw-3_antibody_COV2-2130_0.8_1\", \"antibody\": \"COV2-2130\", \"antibody_concentration\": 0.8, \"virus_batch\": \"thaw-3\", \"date\": \"2022-03-14\", \"replicate\": 1, \"antibody_library_sample\": \"Lib-1_2022-03-14_thaw-3_antibody_COV2-2130_0.8_1\", \"no-antibody_library_sample\": \"Lib-1_2022-03-14_thaw-3_no-antibody_control_1\", \"selection_group\": \"Lib-1_2022-03-14_thaw-3_COV2-2130_1\"}, {\"library\": \"Lib-1\", \"antibody_sample\": \"2022-03-14_thaw-3_antibody_COV2-2130_0.8_1\", \"no-antibody_sample\": \"2022-03-14_thaw-3_no-antibody_control_1\", \"n_aa_substitutions\": \">3\", \"antibody neut standard count\": 2183898, \"no-antibody neut standard count\": 231982, \"antibody count\": 1634004, \"no-antibody count\": 1274858, \"censored\": \"yes\", \"fraction not neutralized\": 0.1361, \"library_sample\": \"Lib-1_2022-03-14_thaw-3_antibody_COV2-2130_0.8_1\", \"antibody\": \"COV2-2130\", \"antibody_concentration\": 0.8, \"virus_batch\": \"thaw-3\", \"date\": \"2022-03-14\", \"replicate\": 1, \"antibody_library_sample\": \"Lib-1_2022-03-14_thaw-3_antibody_COV2-2130_0.8_1\", \"no-antibody_library_sample\": \"Lib-1_2022-03-14_thaw-3_no-antibody_control_1\", \"selection_group\": \"Lib-1_2022-03-14_thaw-3_COV2-2130_1\"}, {\"library\": \"Lib-1\", \"antibody_sample\": \"2022-03-14_thaw-3_antibody_COV2-2130_19.95_1\", \"no-antibody_sample\": \"2022-03-14_thaw-3_no-antibody_control_1\", \"n_aa_substitutions\": \"0\", \"antibody neut standard count\": 7392512, \"no-antibody neut standard count\": 231982, \"antibody count\": 643299, \"no-antibody count\": 3253675, \"censored\": \"yes\", \"fraction not neutralized\": 0.006204, \"library_sample\": \"Lib-1_2022-03-14_thaw-3_antibody_COV2-2130_19.95_1\", \"antibody\": \"COV2-2130\", \"antibody_concentration\": 19.95, \"virus_batch\": \"thaw-3\", \"date\": \"2022-03-14\", \"replicate\": 1, \"antibody_library_sample\": \"Lib-1_2022-03-14_thaw-3_antibody_COV2-2130_19.95_1\", \"no-antibody_library_sample\": \"Lib-1_2022-03-14_thaw-3_no-antibody_control_1\", \"selection_group\": \"Lib-1_2022-03-14_thaw-3_COV2-2130_1\"}, {\"library\": \"Lib-1\", \"antibody_sample\": \"2022-03-14_thaw-3_antibody_COV2-2130_19.95_1\", \"no-antibody_sample\": \"2022-03-14_thaw-3_no-antibody_control_1\", \"n_aa_substitutions\": \"1\", \"antibody neut standard count\": 7392512, \"no-antibody neut standard count\": 231982, \"antibody count\": 2040686, \"no-antibody count\": 4711908, \"censored\": \"yes\", \"fraction not neutralized\": 0.01359, \"library_sample\": \"Lib-1_2022-03-14_thaw-3_antibody_COV2-2130_19.95_1\", \"antibody\": \"COV2-2130\", \"antibody_concentration\": 19.95, \"virus_batch\": \"thaw-3\", \"date\": \"2022-03-14\", \"replicate\": 1, \"antibody_library_sample\": \"Lib-1_2022-03-14_thaw-3_antibody_COV2-2130_19.95_1\", \"no-antibody_library_sample\": \"Lib-1_2022-03-14_thaw-3_no-antibody_control_1\", \"selection_group\": \"Lib-1_2022-03-14_thaw-3_COV2-2130_1\"}, {\"library\": \"Lib-1\", \"antibody_sample\": \"2022-03-14_thaw-3_antibody_COV2-2130_19.95_1\", \"no-antibody_sample\": \"2022-03-14_thaw-3_no-antibody_control_1\", \"n_aa_substitutions\": \"2\", \"antibody neut standard count\": 7392512, \"no-antibody neut standard count\": 231982, \"antibody count\": 2511724, \"no-antibody count\": 3593369, \"censored\": \"yes\", \"fraction not neutralized\": 0.02193, \"library_sample\": \"Lib-1_2022-03-14_thaw-3_antibody_COV2-2130_19.95_1\", \"antibody\": \"COV2-2130\", \"antibody_concentration\": 19.95, \"virus_batch\": \"thaw-3\", \"date\": \"2022-03-14\", \"replicate\": 1, \"antibody_library_sample\": \"Lib-1_2022-03-14_thaw-3_antibody_COV2-2130_19.95_1\", \"no-antibody_library_sample\": \"Lib-1_2022-03-14_thaw-3_no-antibody_control_1\", \"selection_group\": \"Lib-1_2022-03-14_thaw-3_COV2-2130_1\"}, {\"library\": \"Lib-1\", \"antibody_sample\": \"2022-03-14_thaw-3_antibody_COV2-2130_19.95_1\", \"no-antibody_sample\": \"2022-03-14_thaw-3_no-antibody_control_1\", \"n_aa_substitutions\": \"3\", \"antibody neut standard count\": 7392512, \"no-antibody neut standard count\": 231982, \"antibody count\": 2048773, \"no-antibody count\": 1970147, \"censored\": \"yes\", \"fraction not neutralized\": 0.03263, \"library_sample\": \"Lib-1_2022-03-14_thaw-3_antibody_COV2-2130_19.95_1\", \"antibody\": \"COV2-2130\", \"antibody_concentration\": 19.95, \"virus_batch\": \"thaw-3\", \"date\": \"2022-03-14\", \"replicate\": 1, \"antibody_library_sample\": \"Lib-1_2022-03-14_thaw-3_antibody_COV2-2130_19.95_1\", \"no-antibody_library_sample\": \"Lib-1_2022-03-14_thaw-3_no-antibody_control_1\", \"selection_group\": \"Lib-1_2022-03-14_thaw-3_COV2-2130_1\"}, {\"library\": \"Lib-1\", \"antibody_sample\": \"2022-03-14_thaw-3_antibody_COV2-2130_19.95_1\", \"no-antibody_sample\": \"2022-03-14_thaw-3_no-antibody_control_1\", \"n_aa_substitutions\": \">3\", \"antibody neut standard count\": 7392512, \"no-antibody neut standard count\": 231982, \"antibody count\": 2416042, \"no-antibody count\": 1274858, \"censored\": \"yes\", \"fraction not neutralized\": 0.05947, \"library_sample\": \"Lib-1_2022-03-14_thaw-3_antibody_COV2-2130_19.95_1\", \"antibody\": \"COV2-2130\", \"antibody_concentration\": 19.95, \"virus_batch\": \"thaw-3\", \"date\": \"2022-03-14\", \"replicate\": 1, \"antibody_library_sample\": \"Lib-1_2022-03-14_thaw-3_antibody_COV2-2130_19.95_1\", \"no-antibody_library_sample\": \"Lib-1_2022-03-14_thaw-3_no-antibody_control_1\", \"selection_group\": \"Lib-1_2022-03-14_thaw-3_COV2-2130_1\"}, {\"library\": \"Lib-1\", \"antibody_sample\": \"2022-03-14_thaw-3_antibody_COV2-2130_3.99_1\", \"no-antibody_sample\": \"2022-03-14_thaw-3_no-antibody_control_1\", \"n_aa_substitutions\": \"0\", \"antibody neut standard count\": 5998353, \"no-antibody neut standard count\": 231982, \"antibody count\": 620383, \"no-antibody count\": 3253675, \"censored\": \"yes\", \"fraction not neutralized\": 0.007374, \"library_sample\": \"Lib-1_2022-03-14_thaw-3_antibody_COV2-2130_3.99_1\", \"antibody\": \"COV2-2130\", \"antibody_concentration\": 3.99, \"virus_batch\": \"thaw-3\", \"date\": \"2022-03-14\", \"replicate\": 1, \"antibody_library_sample\": \"Lib-1_2022-03-14_thaw-3_antibody_COV2-2130_3.99_1\", \"no-antibody_library_sample\": \"Lib-1_2022-03-14_thaw-3_no-antibody_control_1\", \"selection_group\": \"Lib-1_2022-03-14_thaw-3_COV2-2130_1\"}, {\"library\": \"Lib-1\", \"antibody_sample\": \"2022-03-14_thaw-3_antibody_COV2-2130_3.99_1\", \"no-antibody_sample\": \"2022-03-14_thaw-3_no-antibody_control_1\", \"n_aa_substitutions\": \"1\", \"antibody neut standard count\": 5998353, \"no-antibody neut standard count\": 231982, \"antibody count\": 2151995, \"no-antibody count\": 4711908, \"censored\": \"yes\", \"fraction not neutralized\": 0.01766, \"library_sample\": \"Lib-1_2022-03-14_thaw-3_antibody_COV2-2130_3.99_1\", \"antibody\": \"COV2-2130\", \"antibody_concentration\": 3.99, \"virus_batch\": \"thaw-3\", \"date\": \"2022-03-14\", \"replicate\": 1, \"antibody_library_sample\": \"Lib-1_2022-03-14_thaw-3_antibody_COV2-2130_3.99_1\", \"no-antibody_library_sample\": \"Lib-1_2022-03-14_thaw-3_no-antibody_control_1\", \"selection_group\": \"Lib-1_2022-03-14_thaw-3_COV2-2130_1\"}, {\"library\": \"Lib-1\", \"antibody_sample\": \"2022-03-14_thaw-3_antibody_COV2-2130_3.99_1\", \"no-antibody_sample\": \"2022-03-14_thaw-3_no-antibody_control_1\", \"n_aa_substitutions\": \"2\", \"antibody neut standard count\": 5998353, \"no-antibody neut standard count\": 231982, \"antibody count\": 2686922, \"no-antibody count\": 3593369, \"censored\": \"yes\", \"fraction not neutralized\": 0.02892, \"library_sample\": \"Lib-1_2022-03-14_thaw-3_antibody_COV2-2130_3.99_1\", \"antibody\": \"COV2-2130\", \"antibody_concentration\": 3.99, \"virus_batch\": \"thaw-3\", \"date\": \"2022-03-14\", \"replicate\": 1, \"antibody_library_sample\": \"Lib-1_2022-03-14_thaw-3_antibody_COV2-2130_3.99_1\", \"no-antibody_library_sample\": \"Lib-1_2022-03-14_thaw-3_no-antibody_control_1\", \"selection_group\": \"Lib-1_2022-03-14_thaw-3_COV2-2130_1\"}, {\"library\": \"Lib-1\", \"antibody_sample\": \"2022-03-14_thaw-3_antibody_COV2-2130_3.99_1\", \"no-antibody_sample\": \"2022-03-14_thaw-3_no-antibody_control_1\", \"n_aa_substitutions\": \"3\", \"antibody neut standard count\": 5998353, \"no-antibody neut standard count\": 231982, \"antibody count\": 2334184, \"no-antibody count\": 1970147, \"censored\": \"yes\", \"fraction not neutralized\": 0.04582, \"library_sample\": \"Lib-1_2022-03-14_thaw-3_antibody_COV2-2130_3.99_1\", \"antibody\": \"COV2-2130\", \"antibody_concentration\": 3.99, \"virus_batch\": \"thaw-3\", \"date\": \"2022-03-14\", \"replicate\": 1, \"antibody_library_sample\": \"Lib-1_2022-03-14_thaw-3_antibody_COV2-2130_3.99_1\", \"no-antibody_library_sample\": \"Lib-1_2022-03-14_thaw-3_no-antibody_control_1\", \"selection_group\": \"Lib-1_2022-03-14_thaw-3_COV2-2130_1\"}, {\"library\": \"Lib-1\", \"antibody_sample\": \"2022-03-14_thaw-3_antibody_COV2-2130_3.99_1\", \"no-antibody_sample\": \"2022-03-14_thaw-3_no-antibody_control_1\", \"n_aa_substitutions\": \">3\", \"antibody neut standard count\": 5998353, \"no-antibody neut standard count\": 231982, \"antibody count\": 2549645, \"no-antibody count\": 1274858, \"censored\": \"yes\", \"fraction not neutralized\": 0.07735, \"library_sample\": \"Lib-1_2022-03-14_thaw-3_antibody_COV2-2130_3.99_1\", \"antibody\": \"COV2-2130\", \"antibody_concentration\": 3.99, \"virus_batch\": \"thaw-3\", \"date\": \"2022-03-14\", \"replicate\": 1, \"antibody_library_sample\": \"Lib-1_2022-03-14_thaw-3_antibody_COV2-2130_3.99_1\", \"no-antibody_library_sample\": \"Lib-1_2022-03-14_thaw-3_no-antibody_control_1\", \"selection_group\": \"Lib-1_2022-03-14_thaw-3_COV2-2130_1\"}, {\"library\": \"Lib-1\", \"antibody_sample\": \"2022-03-14_thaw-3_antibody_2130-1-0114-112_1.76_1\", \"no-antibody_sample\": \"2022-03-14_thaw-3_no-antibody_control_1\", \"n_aa_substitutions\": \"0\", \"antibody neut standard count\": 283962, \"no-antibody neut standard count\": 231982, \"antibody count\": 3744587, \"no-antibody count\": 3253675, \"censored\": \"yes\", \"fraction not neutralized\": 0.9402, \"library_sample\": \"Lib-1_2022-03-14_thaw-3_antibody_2130-1-0114-112_1.76_1\", \"antibody\": \"2130-1-0114-112\", \"antibody_concentration\": 1.76, \"virus_batch\": \"thaw-3\", \"date\": \"2022-03-14\", \"replicate\": 1, \"antibody_library_sample\": \"Lib-1_2022-03-14_thaw-3_antibody_2130-1-0114-112_1.76_1\", \"no-antibody_library_sample\": \"Lib-1_2022-03-14_thaw-3_no-antibody_control_1\", \"selection_group\": \"Lib-1_2022-03-14_thaw-3_2130-1-0114-112_1\"}, {\"library\": \"Lib-1\", \"antibody_sample\": \"2022-03-14_thaw-3_antibody_2130-1-0114-112_1.76_1\", \"no-antibody_sample\": \"2022-03-14_thaw-3_no-antibody_control_1\", \"n_aa_substitutions\": \"1\", \"antibody neut standard count\": 283962, \"no-antibody neut standard count\": 231982, \"antibody count\": 5417378, \"no-antibody count\": 4711908, \"censored\": \"yes\", \"fraction not neutralized\": 0.9393, \"library_sample\": \"Lib-1_2022-03-14_thaw-3_antibody_2130-1-0114-112_1.76_1\", \"antibody\": \"2130-1-0114-112\", \"antibody_concentration\": 1.76, \"virus_batch\": \"thaw-3\", \"date\": \"2022-03-14\", \"replicate\": 1, \"antibody_library_sample\": \"Lib-1_2022-03-14_thaw-3_antibody_2130-1-0114-112_1.76_1\", \"no-antibody_library_sample\": \"Lib-1_2022-03-14_thaw-3_no-antibody_control_1\", \"selection_group\": \"Lib-1_2022-03-14_thaw-3_2130-1-0114-112_1\"}, {\"library\": \"Lib-1\", \"antibody_sample\": \"2022-03-14_thaw-3_antibody_2130-1-0114-112_1.76_1\", \"no-antibody_sample\": \"2022-03-14_thaw-3_no-antibody_control_1\", \"n_aa_substitutions\": \"2\", \"antibody neut standard count\": 283962, \"no-antibody neut standard count\": 231982, \"antibody count\": 4138823, \"no-antibody count\": 3593369, \"censored\": \"yes\", \"fraction not neutralized\": 0.941, \"library_sample\": \"Lib-1_2022-03-14_thaw-3_antibody_2130-1-0114-112_1.76_1\", \"antibody\": \"2130-1-0114-112\", \"antibody_concentration\": 1.76, \"virus_batch\": \"thaw-3\", \"date\": \"2022-03-14\", \"replicate\": 1, \"antibody_library_sample\": \"Lib-1_2022-03-14_thaw-3_antibody_2130-1-0114-112_1.76_1\", \"no-antibody_library_sample\": \"Lib-1_2022-03-14_thaw-3_no-antibody_control_1\", \"selection_group\": \"Lib-1_2022-03-14_thaw-3_2130-1-0114-112_1\"}, {\"library\": \"Lib-1\", \"antibody_sample\": \"2022-03-14_thaw-3_antibody_2130-1-0114-112_1.76_1\", \"no-antibody_sample\": \"2022-03-14_thaw-3_no-antibody_control_1\", \"n_aa_substitutions\": \"3\", \"antibody neut standard count\": 283962, \"no-antibody neut standard count\": 231982, \"antibody count\": 2262226, \"no-antibody count\": 1970147, \"censored\": \"yes\", \"fraction not neutralized\": 0.9381, \"library_sample\": \"Lib-1_2022-03-14_thaw-3_antibody_2130-1-0114-112_1.76_1\", \"antibody\": \"2130-1-0114-112\", \"antibody_concentration\": 1.76, \"virus_batch\": \"thaw-3\", \"date\": \"2022-03-14\", \"replicate\": 1, \"antibody_library_sample\": \"Lib-1_2022-03-14_thaw-3_antibody_2130-1-0114-112_1.76_1\", \"no-antibody_library_sample\": \"Lib-1_2022-03-14_thaw-3_no-antibody_control_1\", \"selection_group\": \"Lib-1_2022-03-14_thaw-3_2130-1-0114-112_1\"}, {\"library\": \"Lib-1\", \"antibody_sample\": \"2022-03-14_thaw-3_antibody_2130-1-0114-112_1.76_1\", \"no-antibody_sample\": \"2022-03-14_thaw-3_no-antibody_control_1\", \"n_aa_substitutions\": \">3\", \"antibody neut standard count\": 283962, \"no-antibody neut standard count\": 231982, \"antibody count\": 1467598, \"no-antibody count\": 1274858, \"censored\": \"yes\", \"fraction not neutralized\": 0.9405, \"library_sample\": \"Lib-1_2022-03-14_thaw-3_antibody_2130-1-0114-112_1.76_1\", \"antibody\": \"2130-1-0114-112\", \"antibody_concentration\": 1.76, \"virus_batch\": \"thaw-3\", \"date\": \"2022-03-14\", \"replicate\": 1, \"antibody_library_sample\": \"Lib-1_2022-03-14_thaw-3_antibody_2130-1-0114-112_1.76_1\", \"no-antibody_library_sample\": \"Lib-1_2022-03-14_thaw-3_no-antibody_control_1\", \"selection_group\": \"Lib-1_2022-03-14_thaw-3_2130-1-0114-112_1\"}, {\"library\": \"Lib-1\", \"antibody_sample\": \"2022-03-14_thaw-3_antibody_2130-1-0114-112_43.94_1\", \"no-antibody_sample\": \"2022-03-14_thaw-3_no-antibody_control_1\", \"n_aa_substitutions\": \"0\", \"antibody neut standard count\": 6285313, \"no-antibody neut standard count\": 231982, \"antibody count\": 591729, \"no-antibody count\": 3253675, \"censored\": \"yes\", \"fraction not neutralized\": 0.006712, \"library_sample\": \"Lib-1_2022-03-14_thaw-3_antibody_2130-1-0114-112_43.94_1\", \"antibody\": \"2130-1-0114-112\", \"antibody_concentration\": 43.94, \"virus_batch\": \"thaw-3\", \"date\": \"2022-03-14\", \"replicate\": 1, \"antibody_library_sample\": \"Lib-1_2022-03-14_thaw-3_antibody_2130-1-0114-112_43.94_1\", \"no-antibody_library_sample\": \"Lib-1_2022-03-14_thaw-3_no-antibody_control_1\", \"selection_group\": \"Lib-1_2022-03-14_thaw-3_2130-1-0114-112_1\"}, {\"library\": \"Lib-1\", \"antibody_sample\": \"2022-03-14_thaw-3_antibody_2130-1-0114-112_43.94_1\", \"no-antibody_sample\": \"2022-03-14_thaw-3_no-antibody_control_1\", \"n_aa_substitutions\": \"1\", \"antibody neut standard count\": 6285313, \"no-antibody neut standard count\": 231982, \"antibody count\": 1431585, \"no-antibody count\": 4711908, \"censored\": \"yes\", \"fraction not neutralized\": 0.01121, \"library_sample\": \"Lib-1_2022-03-14_thaw-3_antibody_2130-1-0114-112_43.94_1\", \"antibody\": \"2130-1-0114-112\", \"antibody_concentration\": 43.94, \"virus_batch\": \"thaw-3\", \"date\": \"2022-03-14\", \"replicate\": 1, \"antibody_library_sample\": \"Lib-1_2022-03-14_thaw-3_antibody_2130-1-0114-112_43.94_1\", \"no-antibody_library_sample\": \"Lib-1_2022-03-14_thaw-3_no-antibody_control_1\", \"selection_group\": \"Lib-1_2022-03-14_thaw-3_2130-1-0114-112_1\"}, {\"library\": \"Lib-1\", \"antibody_sample\": \"2022-03-14_thaw-3_antibody_2130-1-0114-112_43.94_1\", \"no-antibody_sample\": \"2022-03-14_thaw-3_no-antibody_control_1\", \"n_aa_substitutions\": \"2\", \"antibody neut standard count\": 6285313, \"no-antibody neut standard count\": 231982, \"antibody count\": 1695232, \"no-antibody count\": 3593369, \"censored\": \"yes\", \"fraction not neutralized\": 0.01741, \"library_sample\": \"Lib-1_2022-03-14_thaw-3_antibody_2130-1-0114-112_43.94_1\", \"antibody\": \"2130-1-0114-112\", \"antibody_concentration\": 43.94, \"virus_batch\": \"thaw-3\", \"date\": \"2022-03-14\", \"replicate\": 1, \"antibody_library_sample\": \"Lib-1_2022-03-14_thaw-3_antibody_2130-1-0114-112_43.94_1\", \"no-antibody_library_sample\": \"Lib-1_2022-03-14_thaw-3_no-antibody_control_1\", \"selection_group\": \"Lib-1_2022-03-14_thaw-3_2130-1-0114-112_1\"}, {\"library\": \"Lib-1\", \"antibody_sample\": \"2022-03-14_thaw-3_antibody_2130-1-0114-112_43.94_1\", \"no-antibody_sample\": \"2022-03-14_thaw-3_no-antibody_control_1\", \"n_aa_substitutions\": \"3\", \"antibody neut standard count\": 6285313, \"no-antibody neut standard count\": 231982, \"antibody count\": 1406740, \"no-antibody count\": 1970147, \"censored\": \"yes\", \"fraction not neutralized\": 0.02635, \"library_sample\": \"Lib-1_2022-03-14_thaw-3_antibody_2130-1-0114-112_43.94_1\", \"antibody\": \"2130-1-0114-112\", \"antibody_concentration\": 43.94, \"virus_batch\": \"thaw-3\", \"date\": \"2022-03-14\", \"replicate\": 1, \"antibody_library_sample\": \"Lib-1_2022-03-14_thaw-3_antibody_2130-1-0114-112_43.94_1\", \"no-antibody_library_sample\": \"Lib-1_2022-03-14_thaw-3_no-antibody_control_1\", \"selection_group\": \"Lib-1_2022-03-14_thaw-3_2130-1-0114-112_1\"}, {\"library\": \"Lib-1\", \"antibody_sample\": \"2022-03-14_thaw-3_antibody_2130-1-0114-112_43.94_1\", \"no-antibody_sample\": \"2022-03-14_thaw-3_no-antibody_control_1\", \"n_aa_substitutions\": \">3\", \"antibody neut standard count\": 6285313, \"no-antibody neut standard count\": 231982, \"antibody count\": 1787363, \"no-antibody count\": 1274858, \"censored\": \"yes\", \"fraction not neutralized\": 0.05175, \"library_sample\": \"Lib-1_2022-03-14_thaw-3_antibody_2130-1-0114-112_43.94_1\", \"antibody\": \"2130-1-0114-112\", \"antibody_concentration\": 43.94, \"virus_batch\": \"thaw-3\", \"date\": \"2022-03-14\", \"replicate\": 1, \"antibody_library_sample\": \"Lib-1_2022-03-14_thaw-3_antibody_2130-1-0114-112_43.94_1\", \"no-antibody_library_sample\": \"Lib-1_2022-03-14_thaw-3_no-antibody_control_1\", \"selection_group\": \"Lib-1_2022-03-14_thaw-3_2130-1-0114-112_1\"}, {\"library\": \"Lib-1\", \"antibody_sample\": \"2022-03-14_thaw-3_antibody_2130-1-0114-112_8.79_1\", \"no-antibody_sample\": \"2022-03-14_thaw-3_no-antibody_control_1\", \"n_aa_substitutions\": \"0\", \"antibody neut standard count\": 4535977, \"no-antibody neut standard count\": 231982, \"antibody count\": 1671775, \"no-antibody count\": 3253675, \"censored\": \"yes\", \"fraction not neutralized\": 0.02628, \"library_sample\": \"Lib-1_2022-03-14_thaw-3_antibody_2130-1-0114-112_8.79_1\", \"antibody\": \"2130-1-0114-112\", \"antibody_concentration\": 8.79, \"virus_batch\": \"thaw-3\", \"date\": \"2022-03-14\", \"replicate\": 1, \"antibody_library_sample\": \"Lib-1_2022-03-14_thaw-3_antibody_2130-1-0114-112_8.79_1\", \"no-antibody_library_sample\": \"Lib-1_2022-03-14_thaw-3_no-antibody_control_1\", \"selection_group\": \"Lib-1_2022-03-14_thaw-3_2130-1-0114-112_1\"}, {\"library\": \"Lib-1\", \"antibody_sample\": \"2022-03-14_thaw-3_antibody_2130-1-0114-112_8.79_1\", \"no-antibody_sample\": \"2022-03-14_thaw-3_no-antibody_control_1\", \"n_aa_substitutions\": \"1\", \"antibody neut standard count\": 4535977, \"no-antibody neut standard count\": 231982, \"antibody count\": 3062477, \"no-antibody count\": 4711908, \"censored\": \"yes\", \"fraction not neutralized\": 0.03324, \"library_sample\": \"Lib-1_2022-03-14_thaw-3_antibody_2130-1-0114-112_8.79_1\", \"antibody\": \"2130-1-0114-112\", \"antibody_concentration\": 8.79, \"virus_batch\": \"thaw-3\", \"date\": \"2022-03-14\", \"replicate\": 1, \"antibody_library_sample\": \"Lib-1_2022-03-14_thaw-3_antibody_2130-1-0114-112_8.79_1\", \"no-antibody_library_sample\": \"Lib-1_2022-03-14_thaw-3_no-antibody_control_1\", \"selection_group\": \"Lib-1_2022-03-14_thaw-3_2130-1-0114-112_1\"}, {\"library\": \"Lib-1\", \"antibody_sample\": \"2022-03-14_thaw-3_antibody_2130-1-0114-112_8.79_1\", \"no-antibody_sample\": \"2022-03-14_thaw-3_no-antibody_control_1\", \"n_aa_substitutions\": \"2\", \"antibody neut standard count\": 4535977, \"no-antibody neut standard count\": 231982, \"antibody count\": 2987178, \"no-antibody count\": 3593369, \"censored\": \"yes\", \"fraction not neutralized\": 0.04252, \"library_sample\": \"Lib-1_2022-03-14_thaw-3_antibody_2130-1-0114-112_8.79_1\", \"antibody\": \"2130-1-0114-112\", \"antibody_concentration\": 8.79, \"virus_batch\": \"thaw-3\", \"date\": \"2022-03-14\", \"replicate\": 1, \"antibody_library_sample\": \"Lib-1_2022-03-14_thaw-3_antibody_2130-1-0114-112_8.79_1\", \"no-antibody_library_sample\": \"Lib-1_2022-03-14_thaw-3_no-antibody_control_1\", \"selection_group\": \"Lib-1_2022-03-14_thaw-3_2130-1-0114-112_1\"}, {\"library\": \"Lib-1\", \"antibody_sample\": \"2022-03-14_thaw-3_antibody_2130-1-0114-112_8.79_1\", \"no-antibody_sample\": \"2022-03-14_thaw-3_no-antibody_control_1\", \"n_aa_substitutions\": \"3\", \"antibody neut standard count\": 4535977, \"no-antibody neut standard count\": 231982, \"antibody count\": 2119585, \"no-antibody count\": 1970147, \"censored\": \"yes\", \"fraction not neutralized\": 0.05502, \"library_sample\": \"Lib-1_2022-03-14_thaw-3_antibody_2130-1-0114-112_8.79_1\", \"antibody\": \"2130-1-0114-112\", \"antibody_concentration\": 8.79, \"virus_batch\": \"thaw-3\", \"date\": \"2022-03-14\", \"replicate\": 1, \"antibody_library_sample\": \"Lib-1_2022-03-14_thaw-3_antibody_2130-1-0114-112_8.79_1\", \"no-antibody_library_sample\": \"Lib-1_2022-03-14_thaw-3_no-antibody_control_1\", \"selection_group\": \"Lib-1_2022-03-14_thaw-3_2130-1-0114-112_1\"}, {\"library\": \"Lib-1\", \"antibody_sample\": \"2022-03-14_thaw-3_antibody_2130-1-0114-112_8.79_1\", \"no-antibody_sample\": \"2022-03-14_thaw-3_no-antibody_control_1\", \"n_aa_substitutions\": \">3\", \"antibody neut standard count\": 4535977, \"no-antibody neut standard count\": 231982, \"antibody count\": 2015953, \"no-antibody count\": 1274858, \"censored\": \"yes\", \"fraction not neutralized\": 0.08087, \"library_sample\": \"Lib-1_2022-03-14_thaw-3_antibody_2130-1-0114-112_8.79_1\", \"antibody\": \"2130-1-0114-112\", \"antibody_concentration\": 8.79, \"virus_batch\": \"thaw-3\", \"date\": \"2022-03-14\", \"replicate\": 1, \"antibody_library_sample\": \"Lib-1_2022-03-14_thaw-3_antibody_2130-1-0114-112_8.79_1\", \"no-antibody_library_sample\": \"Lib-1_2022-03-14_thaw-3_no-antibody_control_1\", \"selection_group\": \"Lib-1_2022-03-14_thaw-3_2130-1-0114-112_1\"}, {\"library\": \"Lib-2\", \"antibody_sample\": \"2022-03-14_thaw-3_antibody_COV2-2130_0.8_1\", \"no-antibody_sample\": \"2022-03-14_thaw-3_no-antibody_control_1\", \"n_aa_substitutions\": \"0\", \"antibody neut standard count\": 3388034, \"no-antibody neut standard count\": 260450, \"antibody count\": 2403389, \"no-antibody count\": 3973101, \"censored\": \"yes\", \"fraction not neutralized\": 0.0465, \"library_sample\": \"Lib-2_2022-03-14_thaw-3_antibody_COV2-2130_0.8_1\", \"antibody\": \"COV2-2130\", \"antibody_concentration\": 0.8, \"virus_batch\": \"thaw-3\", \"date\": \"2022-03-14\", \"replicate\": 1, \"antibody_library_sample\": \"Lib-2_2022-03-14_thaw-3_antibody_COV2-2130_0.8_1\", \"no-antibody_library_sample\": \"Lib-2_2022-03-14_thaw-3_no-antibody_control_1\", \"selection_group\": \"Lib-2_2022-03-14_thaw-3_COV2-2130_1\"}, {\"library\": \"Lib-2\", \"antibody_sample\": \"2022-03-14_thaw-3_antibody_COV2-2130_0.8_1\", \"no-antibody_sample\": \"2022-03-14_thaw-3_no-antibody_control_1\", \"n_aa_substitutions\": \"1\", \"antibody neut standard count\": 3388034, \"no-antibody neut standard count\": 260450, \"antibody count\": 3974373, \"no-antibody count\": 5328219, \"censored\": \"yes\", \"fraction not neutralized\": 0.05734, \"library_sample\": \"Lib-2_2022-03-14_thaw-3_antibody_COV2-2130_0.8_1\", \"antibody\": \"COV2-2130\", \"antibody_concentration\": 0.8, \"virus_batch\": \"thaw-3\", \"date\": \"2022-03-14\", \"replicate\": 1, \"antibody_library_sample\": \"Lib-2_2022-03-14_thaw-3_antibody_COV2-2130_0.8_1\", \"no-antibody_library_sample\": \"Lib-2_2022-03-14_thaw-3_no-antibody_control_1\", \"selection_group\": \"Lib-2_2022-03-14_thaw-3_COV2-2130_1\"}, {\"library\": \"Lib-2\", \"antibody_sample\": \"2022-03-14_thaw-3_antibody_COV2-2130_0.8_1\", \"no-antibody_sample\": \"2022-03-14_thaw-3_no-antibody_control_1\", \"n_aa_substitutions\": \"2\", \"antibody neut standard count\": 3388034, \"no-antibody neut standard count\": 260450, \"antibody count\": 3623793, \"no-antibody count\": 4194961, \"censored\": \"yes\", \"fraction not neutralized\": 0.06641, \"library_sample\": \"Lib-2_2022-03-14_thaw-3_antibody_COV2-2130_0.8_1\", \"antibody\": \"COV2-2130\", \"antibody_concentration\": 0.8, \"virus_batch\": \"thaw-3\", \"date\": \"2022-03-14\", \"replicate\": 1, \"antibody_library_sample\": \"Lib-2_2022-03-14_thaw-3_antibody_COV2-2130_0.8_1\", \"no-antibody_library_sample\": \"Lib-2_2022-03-14_thaw-3_no-antibody_control_1\", \"selection_group\": \"Lib-2_2022-03-14_thaw-3_COV2-2130_1\"}, {\"library\": \"Lib-2\", \"antibody_sample\": \"2022-03-14_thaw-3_antibody_COV2-2130_0.8_1\", \"no-antibody_sample\": \"2022-03-14_thaw-3_no-antibody_control_1\", \"n_aa_substitutions\": \"3\", \"antibody neut standard count\": 3388034, \"no-antibody neut standard count\": 260450, \"antibody count\": 2353212, \"no-antibody count\": 2228454, \"censored\": \"yes\", \"fraction not neutralized\": 0.08118, \"library_sample\": \"Lib-2_2022-03-14_thaw-3_antibody_COV2-2130_0.8_1\", \"antibody\": \"COV2-2130\", \"antibody_concentration\": 0.8, \"virus_batch\": \"thaw-3\", \"date\": \"2022-03-14\", \"replicate\": 1, \"antibody_library_sample\": \"Lib-2_2022-03-14_thaw-3_antibody_COV2-2130_0.8_1\", \"no-antibody_library_sample\": \"Lib-2_2022-03-14_thaw-3_no-antibody_control_1\", \"selection_group\": \"Lib-2_2022-03-14_thaw-3_COV2-2130_1\"}, {\"library\": \"Lib-2\", \"antibody_sample\": \"2022-03-14_thaw-3_antibody_COV2-2130_0.8_1\", \"no-antibody_sample\": \"2022-03-14_thaw-3_no-antibody_control_1\", \"n_aa_substitutions\": \">3\", \"antibody neut standard count\": 3388034, \"no-antibody neut standard count\": 260450, \"antibody count\": 2342217, \"no-antibody count\": 1462079, \"censored\": \"yes\", \"fraction not neutralized\": 0.1231, \"library_sample\": \"Lib-2_2022-03-14_thaw-3_antibody_COV2-2130_0.8_1\", \"antibody\": \"COV2-2130\", \"antibody_concentration\": 0.8, \"virus_batch\": \"thaw-3\", \"date\": \"2022-03-14\", \"replicate\": 1, \"antibody_library_sample\": \"Lib-2_2022-03-14_thaw-3_antibody_COV2-2130_0.8_1\", \"no-antibody_library_sample\": \"Lib-2_2022-03-14_thaw-3_no-antibody_control_1\", \"selection_group\": \"Lib-2_2022-03-14_thaw-3_COV2-2130_1\"}, {\"library\": \"Lib-2\", \"antibody_sample\": \"2022-03-14_thaw-3_antibody_COV2-2130_19.95_1\", \"no-antibody_sample\": \"2022-03-14_thaw-3_no-antibody_control_1\", \"n_aa_substitutions\": \"0\", \"antibody neut standard count\": 7188763, \"no-antibody neut standard count\": 260450, \"antibody count\": 774183, \"no-antibody count\": 3973101, \"censored\": \"yes\", \"fraction not neutralized\": 0.00706, \"library_sample\": \"Lib-2_2022-03-14_thaw-3_antibody_COV2-2130_19.95_1\", \"antibody\": \"COV2-2130\", \"antibody_concentration\": 19.95, \"virus_batch\": \"thaw-3\", \"date\": \"2022-03-14\", \"replicate\": 1, \"antibody_library_sample\": \"Lib-2_2022-03-14_thaw-3_antibody_COV2-2130_19.95_1\", \"no-antibody_library_sample\": \"Lib-2_2022-03-14_thaw-3_no-antibody_control_1\", \"selection_group\": \"Lib-2_2022-03-14_thaw-3_COV2-2130_1\"}, {\"library\": \"Lib-2\", \"antibody_sample\": \"2022-03-14_thaw-3_antibody_COV2-2130_19.95_1\", \"no-antibody_sample\": \"2022-03-14_thaw-3_no-antibody_control_1\", \"n_aa_substitutions\": \"1\", \"antibody neut standard count\": 7188763, \"no-antibody neut standard count\": 260450, \"antibody count\": 2157536, \"no-antibody count\": 5328219, \"censored\": \"yes\", \"fraction not neutralized\": 0.01467, \"library_sample\": \"Lib-2_2022-03-14_thaw-3_antibody_COV2-2130_19.95_1\", \"antibody\": \"COV2-2130\", \"antibody_concentration\": 19.95, \"virus_batch\": \"thaw-3\", \"date\": \"2022-03-14\", \"replicate\": 1, \"antibody_library_sample\": \"Lib-2_2022-03-14_thaw-3_antibody_COV2-2130_19.95_1\", \"no-antibody_library_sample\": \"Lib-2_2022-03-14_thaw-3_no-antibody_control_1\", \"selection_group\": \"Lib-2_2022-03-14_thaw-3_COV2-2130_1\"}, {\"library\": \"Lib-2\", \"antibody_sample\": \"2022-03-14_thaw-3_antibody_COV2-2130_19.95_1\", \"no-antibody_sample\": \"2022-03-14_thaw-3_no-antibody_control_1\", \"n_aa_substitutions\": \"2\", \"antibody neut standard count\": 7188763, \"no-antibody neut standard count\": 260450, \"antibody count\": 2469522, \"no-antibody count\": 4194961, \"censored\": \"yes\", \"fraction not neutralized\": 0.02133, \"library_sample\": \"Lib-2_2022-03-14_thaw-3_antibody_COV2-2130_19.95_1\", \"antibody\": \"COV2-2130\", \"antibody_concentration\": 19.95, \"virus_batch\": \"thaw-3\", \"date\": \"2022-03-14\", \"replicate\": 1, \"antibody_library_sample\": \"Lib-2_2022-03-14_thaw-3_antibody_COV2-2130_19.95_1\", \"no-antibody_library_sample\": \"Lib-2_2022-03-14_thaw-3_no-antibody_control_1\", \"selection_group\": \"Lib-2_2022-03-14_thaw-3_COV2-2130_1\"}, {\"library\": \"Lib-2\", \"antibody_sample\": \"2022-03-14_thaw-3_antibody_COV2-2130_19.95_1\", \"no-antibody_sample\": \"2022-03-14_thaw-3_no-antibody_control_1\", \"n_aa_substitutions\": \"3\", \"antibody neut standard count\": 7188763, \"no-antibody neut standard count\": 260450, \"antibody count\": 2049915, \"no-antibody count\": 2228454, \"censored\": \"yes\", \"fraction not neutralized\": 0.03333, \"library_sample\": \"Lib-2_2022-03-14_thaw-3_antibody_COV2-2130_19.95_1\", \"antibody\": \"COV2-2130\", \"antibody_concentration\": 19.95, \"virus_batch\": \"thaw-3\", \"date\": \"2022-03-14\", \"replicate\": 1, \"antibody_library_sample\": \"Lib-2_2022-03-14_thaw-3_antibody_COV2-2130_19.95_1\", \"no-antibody_library_sample\": \"Lib-2_2022-03-14_thaw-3_no-antibody_control_1\", \"selection_group\": \"Lib-2_2022-03-14_thaw-3_COV2-2130_1\"}, {\"library\": \"Lib-2\", \"antibody_sample\": \"2022-03-14_thaw-3_antibody_COV2-2130_19.95_1\", \"no-antibody_sample\": \"2022-03-14_thaw-3_no-antibody_control_1\", \"n_aa_substitutions\": \">3\", \"antibody neut standard count\": 7188763, \"no-antibody neut standard count\": 260450, \"antibody count\": 2624168, \"no-antibody count\": 1462079, \"censored\": \"yes\", \"fraction not neutralized\": 0.06503, \"library_sample\": \"Lib-2_2022-03-14_thaw-3_antibody_COV2-2130_19.95_1\", \"antibody\": \"COV2-2130\", \"antibody_concentration\": 19.95, \"virus_batch\": \"thaw-3\", \"date\": \"2022-03-14\", \"replicate\": 1, \"antibody_library_sample\": \"Lib-2_2022-03-14_thaw-3_antibody_COV2-2130_19.95_1\", \"no-antibody_library_sample\": \"Lib-2_2022-03-14_thaw-3_no-antibody_control_1\", \"selection_group\": \"Lib-2_2022-03-14_thaw-3_COV2-2130_1\"}, {\"library\": \"Lib-2\", \"antibody_sample\": \"2022-03-14_thaw-3_antibody_COV2-2130_3.99_1\", \"no-antibody_sample\": \"2022-03-14_thaw-3_no-antibody_control_1\", \"n_aa_substitutions\": \"0\", \"antibody neut standard count\": 6100442, \"no-antibody neut standard count\": 260450, \"antibody count\": 739006, \"no-antibody count\": 3973101, \"censored\": \"yes\", \"fraction not neutralized\": 0.007941, \"library_sample\": \"Lib-2_2022-03-14_thaw-3_antibody_COV2-2130_3.99_1\", \"antibody\": \"COV2-2130\", \"antibody_concentration\": 3.99, \"virus_batch\": \"thaw-3\", \"date\": \"2022-03-14\", \"replicate\": 1, \"antibody_library_sample\": \"Lib-2_2022-03-14_thaw-3_antibody_COV2-2130_3.99_1\", \"no-antibody_library_sample\": \"Lib-2_2022-03-14_thaw-3_no-antibody_control_1\", \"selection_group\": \"Lib-2_2022-03-14_thaw-3_COV2-2130_1\"}, {\"library\": \"Lib-2\", \"antibody_sample\": \"2022-03-14_thaw-3_antibody_COV2-2130_3.99_1\", \"no-antibody_sample\": \"2022-03-14_thaw-3_no-antibody_control_1\", \"n_aa_substitutions\": \"1\", \"antibody neut standard count\": 6100442, \"no-antibody neut standard count\": 260450, \"antibody count\": 2237699, \"no-antibody count\": 5328219, \"censored\": \"yes\", \"fraction not neutralized\": 0.01793, \"library_sample\": \"Lib-2_2022-03-14_thaw-3_antibody_COV2-2130_3.99_1\", \"antibody\": \"COV2-2130\", \"antibody_concentration\": 3.99, \"virus_batch\": \"thaw-3\", \"date\": \"2022-03-14\", \"replicate\": 1, \"antibody_library_sample\": \"Lib-2_2022-03-14_thaw-3_antibody_COV2-2130_3.99_1\", \"no-antibody_library_sample\": \"Lib-2_2022-03-14_thaw-3_no-antibody_control_1\", \"selection_group\": \"Lib-2_2022-03-14_thaw-3_COV2-2130_1\"}, {\"library\": \"Lib-2\", \"antibody_sample\": \"2022-03-14_thaw-3_antibody_COV2-2130_3.99_1\", \"no-antibody_sample\": \"2022-03-14_thaw-3_no-antibody_control_1\", \"n_aa_substitutions\": \"2\", \"antibody neut standard count\": 6100442, \"no-antibody neut standard count\": 260450, \"antibody count\": 2648353, \"no-antibody count\": 4194961, \"censored\": \"yes\", \"fraction not neutralized\": 0.02695, \"library_sample\": \"Lib-2_2022-03-14_thaw-3_antibody_COV2-2130_3.99_1\", \"antibody\": \"COV2-2130\", \"antibody_concentration\": 3.99, \"virus_batch\": \"thaw-3\", \"date\": \"2022-03-14\", \"replicate\": 1, \"antibody_library_sample\": \"Lib-2_2022-03-14_thaw-3_antibody_COV2-2130_3.99_1\", \"no-antibody_library_sample\": \"Lib-2_2022-03-14_thaw-3_no-antibody_control_1\", \"selection_group\": \"Lib-2_2022-03-14_thaw-3_COV2-2130_1\"}, {\"library\": \"Lib-2\", \"antibody_sample\": \"2022-03-14_thaw-3_antibody_COV2-2130_3.99_1\", \"no-antibody_sample\": \"2022-03-14_thaw-3_no-antibody_control_1\", \"n_aa_substitutions\": \"3\", \"antibody neut standard count\": 6100442, \"no-antibody neut standard count\": 260450, \"antibody count\": 2177932, \"no-antibody count\": 2228454, \"censored\": \"yes\", \"fraction not neutralized\": 0.04173, \"library_sample\": \"Lib-2_2022-03-14_thaw-3_antibody_COV2-2130_3.99_1\", \"antibody\": \"COV2-2130\", \"antibody_concentration\": 3.99, \"virus_batch\": \"thaw-3\", \"date\": \"2022-03-14\", \"replicate\": 1, \"antibody_library_sample\": \"Lib-2_2022-03-14_thaw-3_antibody_COV2-2130_3.99_1\", \"no-antibody_library_sample\": \"Lib-2_2022-03-14_thaw-3_no-antibody_control_1\", \"selection_group\": \"Lib-2_2022-03-14_thaw-3_COV2-2130_1\"}, {\"library\": \"Lib-2\", \"antibody_sample\": \"2022-03-14_thaw-3_antibody_COV2-2130_3.99_1\", \"no-antibody_sample\": \"2022-03-14_thaw-3_no-antibody_control_1\", \"n_aa_substitutions\": \">3\", \"antibody neut standard count\": 6100442, \"no-antibody neut standard count\": 260450, \"antibody count\": 2829658, \"no-antibody count\": 1462079, \"censored\": \"yes\", \"fraction not neutralized\": 0.08263, \"library_sample\": \"Lib-2_2022-03-14_thaw-3_antibody_COV2-2130_3.99_1\", \"antibody\": \"COV2-2130\", \"antibody_concentration\": 3.99, \"virus_batch\": \"thaw-3\", \"date\": \"2022-03-14\", \"replicate\": 1, \"antibody_library_sample\": \"Lib-2_2022-03-14_thaw-3_antibody_COV2-2130_3.99_1\", \"no-antibody_library_sample\": \"Lib-2_2022-03-14_thaw-3_no-antibody_control_1\", \"selection_group\": \"Lib-2_2022-03-14_thaw-3_COV2-2130_1\"}, {\"library\": \"Lib-2\", \"antibody_sample\": \"2022-03-14_thaw-3_antibody_2130-1-0114-112_1.76_1\", \"no-antibody_sample\": \"2022-03-14_thaw-3_no-antibody_control_1\", \"n_aa_substitutions\": \"0\", \"antibody neut standard count\": 329697, \"no-antibody neut standard count\": 260450, \"antibody count\": 3897214, \"no-antibody count\": 3973101, \"censored\": \"yes\", \"fraction not neutralized\": 0.7749, \"library_sample\": \"Lib-2_2022-03-14_thaw-3_antibody_2130-1-0114-112_1.76_1\", \"antibody\": \"2130-1-0114-112\", \"antibody_concentration\": 1.76, \"virus_batch\": \"thaw-3\", \"date\": \"2022-03-14\", \"replicate\": 1, \"antibody_library_sample\": \"Lib-2_2022-03-14_thaw-3_antibody_2130-1-0114-112_1.76_1\", \"no-antibody_library_sample\": \"Lib-2_2022-03-14_thaw-3_no-antibody_control_1\", \"selection_group\": \"Lib-2_2022-03-14_thaw-3_2130-1-0114-112_1\"}, {\"library\": \"Lib-2\", \"antibody_sample\": \"2022-03-14_thaw-3_antibody_2130-1-0114-112_1.76_1\", \"no-antibody_sample\": \"2022-03-14_thaw-3_no-antibody_control_1\", \"n_aa_substitutions\": \"1\", \"antibody neut standard count\": 329697, \"no-antibody neut standard count\": 260450, \"antibody count\": 5268631, \"no-antibody count\": 5328219, \"censored\": \"yes\", \"fraction not neutralized\": 0.7811, \"library_sample\": \"Lib-2_2022-03-14_thaw-3_antibody_2130-1-0114-112_1.76_1\", \"antibody\": \"2130-1-0114-112\", \"antibody_concentration\": 1.76, \"virus_batch\": \"thaw-3\", \"date\": \"2022-03-14\", \"replicate\": 1, \"antibody_library_sample\": \"Lib-2_2022-03-14_thaw-3_antibody_2130-1-0114-112_1.76_1\", \"no-antibody_library_sample\": \"Lib-2_2022-03-14_thaw-3_no-antibody_control_1\", \"selection_group\": \"Lib-2_2022-03-14_thaw-3_2130-1-0114-112_1\"}, {\"library\": \"Lib-2\", \"antibody_sample\": \"2022-03-14_thaw-3_antibody_2130-1-0114-112_1.76_1\", \"no-antibody_sample\": \"2022-03-14_thaw-3_no-antibody_control_1\", \"n_aa_substitutions\": \"2\", \"antibody neut standard count\": 329697, \"no-antibody neut standard count\": 260450, \"antibody count\": 4186141, \"no-antibody count\": 4194961, \"censored\": \"yes\", \"fraction not neutralized\": 0.7883, \"library_sample\": \"Lib-2_2022-03-14_thaw-3_antibody_2130-1-0114-112_1.76_1\", \"antibody\": \"2130-1-0114-112\", \"antibody_concentration\": 1.76, \"virus_batch\": \"thaw-3\", \"date\": \"2022-03-14\", \"replicate\": 1, \"antibody_library_sample\": \"Lib-2_2022-03-14_thaw-3_antibody_2130-1-0114-112_1.76_1\", \"no-antibody_library_sample\": \"Lib-2_2022-03-14_thaw-3_no-antibody_control_1\", \"selection_group\": \"Lib-2_2022-03-14_thaw-3_2130-1-0114-112_1\"}, {\"library\": \"Lib-2\", \"antibody_sample\": \"2022-03-14_thaw-3_antibody_2130-1-0114-112_1.76_1\", \"no-antibody_sample\": \"2022-03-14_thaw-3_no-antibody_control_1\", \"n_aa_substitutions\": \"3\", \"antibody neut standard count\": 329697, \"no-antibody neut standard count\": 260450, \"antibody count\": 2243467, \"no-antibody count\": 2228454, \"censored\": \"yes\", \"fraction not neutralized\": 0.7953, \"library_sample\": \"Lib-2_2022-03-14_thaw-3_antibody_2130-1-0114-112_1.76_1\", \"antibody\": \"2130-1-0114-112\", \"antibody_concentration\": 1.76, \"virus_batch\": \"thaw-3\", \"date\": \"2022-03-14\", \"replicate\": 1, \"antibody_library_sample\": \"Lib-2_2022-03-14_thaw-3_antibody_2130-1-0114-112_1.76_1\", \"no-antibody_library_sample\": \"Lib-2_2022-03-14_thaw-3_no-antibody_control_1\", \"selection_group\": \"Lib-2_2022-03-14_thaw-3_2130-1-0114-112_1\"}, {\"library\": \"Lib-2\", \"antibody_sample\": \"2022-03-14_thaw-3_antibody_2130-1-0114-112_1.76_1\", \"no-antibody_sample\": \"2022-03-14_thaw-3_no-antibody_control_1\", \"n_aa_substitutions\": \">3\", \"antibody neut standard count\": 329697, \"no-antibody neut standard count\": 260450, \"antibody count\": 1473608, \"no-antibody count\": 1462079, \"censored\": \"yes\", \"fraction not neutralized\": 0.7962, \"library_sample\": \"Lib-2_2022-03-14_thaw-3_antibody_2130-1-0114-112_1.76_1\", \"antibody\": \"2130-1-0114-112\", \"antibody_concentration\": 1.76, \"virus_batch\": \"thaw-3\", \"date\": \"2022-03-14\", \"replicate\": 1, \"antibody_library_sample\": \"Lib-2_2022-03-14_thaw-3_antibody_2130-1-0114-112_1.76_1\", \"no-antibody_library_sample\": \"Lib-2_2022-03-14_thaw-3_no-antibody_control_1\", \"selection_group\": \"Lib-2_2022-03-14_thaw-3_2130-1-0114-112_1\"}, {\"library\": \"Lib-2\", \"antibody_sample\": \"2022-03-14_thaw-3_antibody_2130-1-0114-112_43.94_1\", \"no-antibody_sample\": \"2022-03-14_thaw-3_no-antibody_control_1\", \"n_aa_substitutions\": \"0\", \"antibody neut standard count\": 7821989, \"no-antibody neut standard count\": 260450, \"antibody count\": 775410, \"no-antibody count\": 3973101, \"censored\": \"yes\", \"fraction not neutralized\": 0.006498, \"library_sample\": \"Lib-2_2022-03-14_thaw-3_antibody_2130-1-0114-112_43.94_1\", \"antibody\": \"2130-1-0114-112\", \"antibody_concentration\": 43.94, \"virus_batch\": \"thaw-3\", \"date\": \"2022-03-14\", \"replicate\": 1, \"antibody_library_sample\": \"Lib-2_2022-03-14_thaw-3_antibody_2130-1-0114-112_43.94_1\", \"no-antibody_library_sample\": \"Lib-2_2022-03-14_thaw-3_no-antibody_control_1\", \"selection_group\": \"Lib-2_2022-03-14_thaw-3_2130-1-0114-112_1\"}, {\"library\": \"Lib-2\", \"antibody_sample\": \"2022-03-14_thaw-3_antibody_2130-1-0114-112_43.94_1\", \"no-antibody_sample\": \"2022-03-14_thaw-3_no-antibody_control_1\", \"n_aa_substitutions\": \"1\", \"antibody neut standard count\": 7821989, \"no-antibody neut standard count\": 260450, \"antibody count\": 1806828, \"no-antibody count\": 5328219, \"censored\": \"yes\", \"fraction not neutralized\": 0.01129, \"library_sample\": \"Lib-2_2022-03-14_thaw-3_antibody_2130-1-0114-112_43.94_1\", \"antibody\": \"2130-1-0114-112\", \"antibody_concentration\": 43.94, \"virus_batch\": \"thaw-3\", \"date\": \"2022-03-14\", \"replicate\": 1, \"antibody_library_sample\": \"Lib-2_2022-03-14_thaw-3_antibody_2130-1-0114-112_43.94_1\", \"no-antibody_library_sample\": \"Lib-2_2022-03-14_thaw-3_no-antibody_control_1\", \"selection_group\": \"Lib-2_2022-03-14_thaw-3_2130-1-0114-112_1\"}, {\"library\": \"Lib-2\", \"antibody_sample\": \"2022-03-14_thaw-3_antibody_2130-1-0114-112_43.94_1\", \"no-antibody_sample\": \"2022-03-14_thaw-3_no-antibody_control_1\", \"n_aa_substitutions\": \"2\", \"antibody neut standard count\": 7821989, \"no-antibody neut standard count\": 260450, \"antibody count\": 2028791, \"no-antibody count\": 4194961, \"censored\": \"yes\", \"fraction not neutralized\": 0.0161, \"library_sample\": \"Lib-2_2022-03-14_thaw-3_antibody_2130-1-0114-112_43.94_1\", \"antibody\": \"2130-1-0114-112\", \"antibody_concentration\": 43.94, \"virus_batch\": \"thaw-3\", \"date\": \"2022-03-14\", \"replicate\": 1, \"antibody_library_sample\": \"Lib-2_2022-03-14_thaw-3_antibody_2130-1-0114-112_43.94_1\", \"no-antibody_library_sample\": \"Lib-2_2022-03-14_thaw-3_no-antibody_control_1\", \"selection_group\": \"Lib-2_2022-03-14_thaw-3_2130-1-0114-112_1\"}, {\"library\": \"Lib-2\", \"antibody_sample\": \"2022-03-14_thaw-3_antibody_2130-1-0114-112_43.94_1\", \"no-antibody_sample\": \"2022-03-14_thaw-3_no-antibody_control_1\", \"n_aa_substitutions\": \"3\", \"antibody neut standard count\": 7821989, \"no-antibody neut standard count\": 260450, \"antibody count\": 1738715, \"no-antibody count\": 2228454, \"censored\": \"yes\", \"fraction not neutralized\": 0.02598, \"library_sample\": \"Lib-2_2022-03-14_thaw-3_antibody_2130-1-0114-112_43.94_1\", \"antibody\": \"2130-1-0114-112\", \"antibody_concentration\": 43.94, \"virus_batch\": \"thaw-3\", \"date\": \"2022-03-14\", \"replicate\": 1, \"antibody_library_sample\": \"Lib-2_2022-03-14_thaw-3_antibody_2130-1-0114-112_43.94_1\", \"no-antibody_library_sample\": \"Lib-2_2022-03-14_thaw-3_no-antibody_control_1\", \"selection_group\": \"Lib-2_2022-03-14_thaw-3_2130-1-0114-112_1\"}, {\"library\": \"Lib-2\", \"antibody_sample\": \"2022-03-14_thaw-3_antibody_2130-1-0114-112_43.94_1\", \"no-antibody_sample\": \"2022-03-14_thaw-3_no-antibody_control_1\", \"n_aa_substitutions\": \">3\", \"antibody neut standard count\": 7821989, \"no-antibody neut standard count\": 260450, \"antibody count\": 2234133, \"no-antibody count\": 1462079, \"censored\": \"yes\", \"fraction not neutralized\": 0.05088, \"library_sample\": \"Lib-2_2022-03-14_thaw-3_antibody_2130-1-0114-112_43.94_1\", \"antibody\": \"2130-1-0114-112\", \"antibody_concentration\": 43.94, \"virus_batch\": \"thaw-3\", \"date\": \"2022-03-14\", \"replicate\": 1, \"antibody_library_sample\": \"Lib-2_2022-03-14_thaw-3_antibody_2130-1-0114-112_43.94_1\", \"no-antibody_library_sample\": \"Lib-2_2022-03-14_thaw-3_no-antibody_control_1\", \"selection_group\": \"Lib-2_2022-03-14_thaw-3_2130-1-0114-112_1\"}, {\"library\": \"Lib-2\", \"antibody_sample\": \"2022-03-14_thaw-3_antibody_2130-1-0114-112_8.79_1\", \"no-antibody_sample\": \"2022-03-14_thaw-3_no-antibody_control_1\", \"n_aa_substitutions\": \"0\", \"antibody neut standard count\": 7232593, \"no-antibody neut standard count\": 260450, \"antibody count\": 776988, \"no-antibody count\": 3973101, \"censored\": \"yes\", \"fraction not neutralized\": 0.007042, \"library_sample\": \"Lib-2_2022-03-14_thaw-3_antibody_2130-1-0114-112_8.79_1\", \"antibody\": \"2130-1-0114-112\", \"antibody_concentration\": 8.79, \"virus_batch\": \"thaw-3\", \"date\": \"2022-03-14\", \"replicate\": 1, \"antibody_library_sample\": \"Lib-2_2022-03-14_thaw-3_antibody_2130-1-0114-112_8.79_1\", \"no-antibody_library_sample\": \"Lib-2_2022-03-14_thaw-3_no-antibody_control_1\", \"selection_group\": \"Lib-2_2022-03-14_thaw-3_2130-1-0114-112_1\"}, {\"library\": \"Lib-2\", \"antibody_sample\": \"2022-03-14_thaw-3_antibody_2130-1-0114-112_8.79_1\", \"no-antibody_sample\": \"2022-03-14_thaw-3_no-antibody_control_1\", \"n_aa_substitutions\": \"1\", \"antibody neut standard count\": 7232593, \"no-antibody neut standard count\": 260450, \"antibody count\": 2049010, \"no-antibody count\": 5328219, \"censored\": \"yes\", \"fraction not neutralized\": 0.01385, \"library_sample\": \"Lib-2_2022-03-14_thaw-3_antibody_2130-1-0114-112_8.79_1\", \"antibody\": \"2130-1-0114-112\", \"antibody_concentration\": 8.79, \"virus_batch\": \"thaw-3\", \"date\": \"2022-03-14\", \"replicate\": 1, \"antibody_library_sample\": \"Lib-2_2022-03-14_thaw-3_antibody_2130-1-0114-112_8.79_1\", \"no-antibody_library_sample\": \"Lib-2_2022-03-14_thaw-3_no-antibody_control_1\", \"selection_group\": \"Lib-2_2022-03-14_thaw-3_2130-1-0114-112_1\"}, {\"library\": \"Lib-2\", \"antibody_sample\": \"2022-03-14_thaw-3_antibody_2130-1-0114-112_8.79_1\", \"no-antibody_sample\": \"2022-03-14_thaw-3_no-antibody_control_1\", \"n_aa_substitutions\": \"2\", \"antibody neut standard count\": 7232593, \"no-antibody neut standard count\": 260450, \"antibody count\": 2240984, \"no-antibody count\": 4194961, \"censored\": \"yes\", \"fraction not neutralized\": 0.01924, \"library_sample\": \"Lib-2_2022-03-14_thaw-3_antibody_2130-1-0114-112_8.79_1\", \"antibody\": \"2130-1-0114-112\", \"antibody_concentration\": 8.79, \"virus_batch\": \"thaw-3\", \"date\": \"2022-03-14\", \"replicate\": 1, \"antibody_library_sample\": \"Lib-2_2022-03-14_thaw-3_antibody_2130-1-0114-112_8.79_1\", \"no-antibody_library_sample\": \"Lib-2_2022-03-14_thaw-3_no-antibody_control_1\", \"selection_group\": \"Lib-2_2022-03-14_thaw-3_2130-1-0114-112_1\"}, {\"library\": \"Lib-2\", \"antibody_sample\": \"2022-03-14_thaw-3_antibody_2130-1-0114-112_8.79_1\", \"no-antibody_sample\": \"2022-03-14_thaw-3_no-antibody_control_1\", \"n_aa_substitutions\": \"3\", \"antibody neut standard count\": 7232593, \"no-antibody neut standard count\": 260450, \"antibody count\": 1934838, \"no-antibody count\": 2228454, \"censored\": \"yes\", \"fraction not neutralized\": 0.03127, \"library_sample\": \"Lib-2_2022-03-14_thaw-3_antibody_2130-1-0114-112_8.79_1\", \"antibody\": \"2130-1-0114-112\", \"antibody_concentration\": 8.79, \"virus_batch\": \"thaw-3\", \"date\": \"2022-03-14\", \"replicate\": 1, \"antibody_library_sample\": \"Lib-2_2022-03-14_thaw-3_antibody_2130-1-0114-112_8.79_1\", \"no-antibody_library_sample\": \"Lib-2_2022-03-14_thaw-3_no-antibody_control_1\", \"selection_group\": \"Lib-2_2022-03-14_thaw-3_2130-1-0114-112_1\"}, {\"library\": \"Lib-2\", \"antibody_sample\": \"2022-03-14_thaw-3_antibody_2130-1-0114-112_8.79_1\", \"no-antibody_sample\": \"2022-03-14_thaw-3_no-antibody_control_1\", \"n_aa_substitutions\": \">3\", \"antibody neut standard count\": 7232593, \"no-antibody neut standard count\": 260450, \"antibody count\": 2406805, \"no-antibody count\": 1462079, \"censored\": \"yes\", \"fraction not neutralized\": 0.05928, \"library_sample\": \"Lib-2_2022-03-14_thaw-3_antibody_2130-1-0114-112_8.79_1\", \"antibody\": \"2130-1-0114-112\", \"antibody_concentration\": 8.79, \"virus_batch\": \"thaw-3\", \"date\": \"2022-03-14\", \"replicate\": 1, \"antibody_library_sample\": \"Lib-2_2022-03-14_thaw-3_antibody_2130-1-0114-112_8.79_1\", \"no-antibody_library_sample\": \"Lib-2_2022-03-14_thaw-3_no-antibody_control_1\", \"selection_group\": \"Lib-2_2022-03-14_thaw-3_2130-1-0114-112_1\"}]}}, {\"mode\": \"vega-lite\"});\n",
       "</script>"
      ],
      "text/plain": [
       "alt.Chart(...)"
      ]
     },
     "execution_count": 8,
     "metadata": {},
     "output_type": "execute_result"
    }
   ],
   "source": [
    "censored_selection = alt.selection_point(\n",
    "    fields=[\"censored\"],\n",
    "    bind=\"legend\",\n",
    ")\n",
    "\n",
    "n_aa_substitutions_selection = alt.selection_point(\n",
    "    fields=[\"n_aa_substitutions\"],\n",
    "    bind=\"legend\",\n",
    ")\n",
    "\n",
    "neutralization_chart = (\n",
    "    alt.Chart(neut_to_plot)\n",
    "    .encode(\n",
    "        x=alt.X(\"fraction not neutralized\"),\n",
    "        y=alt.Y(\"library_sample\", title=None),\n",
    "        color=alt.Color(\n",
    "            \"n_aa_substitutions:N\",\n",
    "            title=\"amino-acid mutations\",\n",
    "            scale=alt.Scale(domain=neut_to_plot[\"n_aa_substitutions\"].unique()),\n",
    "        ),\n",
    "        shape=alt.Shape(\n",
    "            \"censored:N\",\n",
    "            title=\"censored between 0 & 1\",\n",
    "            scale=alt.Scale(\n",
    "                domain=neut_to_plot[\"censored\"].unique(),\n",
    "                range=[\"triangle-up\", \"triangle-down\"],\n",
    "            ),\n",
    "        ),\n",
    "        tooltip=[\n",
    "            alt.Tooltip(c, format=\".3g\")\n",
    "            if c.endswith(\"_count\")\n",
    "            or c.startswith(\"fraction\")\n",
    "            or c == \"antibody_concentration\"\n",
    "            else c\n",
    "            for c in neut_to_plot.columns\n",
    "            if \"library_sample\" not in c\n",
    "        ],\n",
    "    )\n",
    "    .mark_point(filled=True, size=50, opacity=0.7)\n",
    "    .properties(width=300, height=alt.Step(14))\n",
    "    .add_params(censored_selection, n_aa_substitutions_selection, *selections)\n",
    "    .transform_filter(censored_selection)\n",
    "    .transform_filter(n_aa_substitutions_selection)\n",
    "    .configure_axis(labelLimit=500)\n",
    ")\n",
    "for selection in selections:\n",
    "    neutralization_chart = neutralization_chart.transform_filter(selection)\n",
    "\n",
    "neutralization_chart"
   ]
  },
  {
   "cell_type": "markdown",
   "id": "9f888edc-0e22-4658-814a-da73d35177e7",
   "metadata": {
    "papermill": {
     "duration": 0.012207,
     "end_time": "2023-02-15T21:15:13.691961",
     "exception": false,
     "start_time": "2023-02-15T21:15:13.679754",
     "status": "completed"
    },
    "tags": []
   },
   "source": [
    "## Variants with sufficient no-antibody counts\n",
    "We only calculate the probability of escape for variants with some minimum threshold of no-antibody counts.\n",
    "\n",
    "Draw a boxplot for the no-antibody samples with a black line at the median, boxes spanning the 25th to 75th percentiles, lines spanning the minimum to the maximum, and a red line indciating the threshold.\n",
    "You can mouseover bars for details and use the dropdown selections to just show certain subsets.\n",
    "Note that y-axis uses a symlog scale:"
   ]
  },
  {
   "cell_type": "code",
   "execution_count": 9,
   "id": "99c9ff2c-e6e8-413b-a00f-a4e860e03dc7",
   "metadata": {
    "execution": {
     "iopub.execute_input": "2023-02-15T21:15:13.724407Z",
     "iopub.status.busy": "2023-02-15T21:15:13.723864Z",
     "iopub.status.idle": "2023-02-15T21:15:14.676556Z",
     "shell.execute_reply": "2023-02-15T21:15:14.676096Z"
    },
    "papermill": {
     "duration": 0.971164,
     "end_time": "2023-02-15T21:15:14.677529",
     "exception": false,
     "start_time": "2023-02-15T21:15:13.706365",
     "status": "completed"
    },
    "tags": []
   },
   "outputs": [
    {
     "data": {
      "text/html": [
       "\n",
       "<div id=\"altair-viz-972391c9db6e4070ad29946acddd19af\"></div>\n",
       "<script type=\"text/javascript\">\n",
       "  var VEGA_DEBUG = (typeof VEGA_DEBUG == \"undefined\") ? {} : VEGA_DEBUG;\n",
       "  (function(spec, embedOpt){\n",
       "    let outputDiv = document.currentScript.previousElementSibling;\n",
       "    if (outputDiv.id !== \"altair-viz-972391c9db6e4070ad29946acddd19af\") {\n",
       "      outputDiv = document.getElementById(\"altair-viz-972391c9db6e4070ad29946acddd19af\");\n",
       "    }\n",
       "    const paths = {\n",
       "      \"vega\": \"https://cdn.jsdelivr.net/npm/vega@5?noext\",\n",
       "      \"vega-lib\": \"https://cdn.jsdelivr.net/npm/vega-lib?noext\",\n",
       "      \"vega-lite\": \"https://cdn.jsdelivr.net/npm/vega-lite@5.2.0?noext\",\n",
       "      \"vega-embed\": \"https://cdn.jsdelivr.net/npm/vega-embed@6?noext\",\n",
       "    };\n",
       "\n",
       "    function maybeLoadScript(lib, version) {\n",
       "      var key = `${lib.replace(\"-\", \"\")}_version`;\n",
       "      return (VEGA_DEBUG[key] == version) ?\n",
       "        Promise.resolve(paths[lib]) :\n",
       "        new Promise(function(resolve, reject) {\n",
       "          var s = document.createElement('script');\n",
       "          document.getElementsByTagName(\"head\")[0].appendChild(s);\n",
       "          s.async = true;\n",
       "          s.onload = () => {\n",
       "            VEGA_DEBUG[key] = version;\n",
       "            return resolve(paths[lib]);\n",
       "          };\n",
       "          s.onerror = () => reject(`Error loading script: ${paths[lib]}`);\n",
       "          s.src = paths[lib];\n",
       "        });\n",
       "    }\n",
       "\n",
       "    function showError(err) {\n",
       "      outputDiv.innerHTML = `<div class=\"error\" style=\"color:red;\">${err}</div>`;\n",
       "      throw err;\n",
       "    }\n",
       "\n",
       "    function displayChart(vegaEmbed) {\n",
       "      vegaEmbed(outputDiv, spec, embedOpt)\n",
       "        .catch(err => showError(`Javascript Error: ${err.message}<br>This usually means there's a typo in your chart specification. See the javascript console for the full traceback.`));\n",
       "    }\n",
       "\n",
       "    if(typeof define === \"function\" && define.amd) {\n",
       "      requirejs.config({paths});\n",
       "      require([\"vega-embed\"], displayChart, err => showError(`Error loading script: ${err.message}`));\n",
       "    } else {\n",
       "      maybeLoadScript(\"vega\", \"5\")\n",
       "        .then(() => maybeLoadScript(\"vega-lite\", \"5.2.0\"))\n",
       "        .then(() => maybeLoadScript(\"vega-embed\", \"6\"))\n",
       "        .catch(showError)\n",
       "        .then(() => displayChart(vegaEmbed));\n",
       "    }\n",
       "  })({\"config\": {\"view\": {\"continuousWidth\": 300, \"continuousHeight\": 300}, \"axis\": {\"labelLimit\": 500}}, \"layer\": [{\"mark\": {\"type\": \"bar\", \"color\": \"blue\"}, \"encoding\": {\"tooltip\": [{\"field\": \"library\", \"type\": \"nominal\"}, {\"field\": \"no-antibody_sample\", \"type\": \"nominal\"}, {\"field\": \"no_antibody_count_threshold\", \"type\": \"quantitative\"}, {\"field\": \"median\", \"format\": \".2g\", \"type\": \"quantitative\"}, {\"field\": \"percentile_25\", \"format\": \".2g\", \"type\": \"quantitative\"}, {\"field\": \"percentile_75\", \"format\": \".2g\", \"type\": \"quantitative\"}, {\"field\": \"min\", \"type\": \"quantitative\"}, {\"field\": \"max\", \"type\": \"quantitative\"}, {\"field\": \"frac_counts_above_threshold\", \"format\": \".2g\", \"type\": \"quantitative\"}, {\"field\": \"frac_variants_above_threshold\", \"format\": \".2g\", \"type\": \"quantitative\"}, {\"field\": \"virus_batch\", \"type\": \"nominal\"}, {\"field\": \"date\", \"type\": \"nominal\"}], \"x\": {\"field\": \"percentile_25\", \"scale\": {\"constant\": 20, \"type\": \"symlog\"}, \"title\": \"counts for variant\", \"type\": \"quantitative\"}, \"x2\": {\"field\": \"percentile_75\"}, \"y\": {\"field\": \"library_sample\", \"title\": null, \"type\": \"nominal\"}}, \"name\": \"view_1\"}, {\"mark\": {\"type\": \"rule\", \"color\": \"blue\", \"opacity\": 0.5}, \"encoding\": {\"tooltip\": [{\"field\": \"library\", \"type\": \"nominal\"}, {\"field\": \"no-antibody_sample\", \"type\": \"nominal\"}, {\"field\": \"no_antibody_count_threshold\", \"type\": \"quantitative\"}, {\"field\": \"median\", \"format\": \".2g\", \"type\": \"quantitative\"}, {\"field\": \"percentile_25\", \"format\": \".2g\", \"type\": \"quantitative\"}, {\"field\": \"percentile_75\", \"format\": \".2g\", \"type\": \"quantitative\"}, {\"field\": \"min\", \"type\": \"quantitative\"}, {\"field\": \"max\", \"type\": \"quantitative\"}, {\"field\": \"frac_counts_above_threshold\", \"format\": \".2g\", \"type\": \"quantitative\"}, {\"field\": \"frac_variants_above_threshold\", \"format\": \".2g\", \"type\": \"quantitative\"}, {\"field\": \"virus_batch\", \"type\": \"nominal\"}, {\"field\": \"date\", \"type\": \"nominal\"}], \"x\": {\"field\": \"min\", \"type\": \"quantitative\"}, \"x2\": {\"field\": \"max\"}, \"y\": {\"field\": \"library_sample\", \"title\": null, \"type\": \"nominal\"}}}, {\"mark\": {\"type\": \"bar\", \"color\": \"black\", \"x2Offset\": -1, \"xOffset\": 1}, \"encoding\": {\"tooltip\": [{\"field\": \"library\", \"type\": \"nominal\"}, {\"field\": \"no-antibody_sample\", \"type\": \"nominal\"}, {\"field\": \"no_antibody_count_threshold\", \"type\": \"quantitative\"}, {\"field\": \"median\", \"format\": \".2g\", \"type\": \"quantitative\"}, {\"field\": \"percentile_25\", \"format\": \".2g\", \"type\": \"quantitative\"}, {\"field\": \"percentile_75\", \"format\": \".2g\", \"type\": \"quantitative\"}, {\"field\": \"min\", \"type\": \"quantitative\"}, {\"field\": \"max\", \"type\": \"quantitative\"}, {\"field\": \"frac_counts_above_threshold\", \"format\": \".2g\", \"type\": \"quantitative\"}, {\"field\": \"frac_variants_above_threshold\", \"format\": \".2g\", \"type\": \"quantitative\"}, {\"field\": \"virus_batch\", \"type\": \"nominal\"}, {\"field\": \"date\", \"type\": \"nominal\"}], \"x\": {\"field\": \"median\", \"type\": \"quantitative\"}, \"x2\": {\"field\": \"median\"}, \"y\": {\"field\": \"library_sample\", \"title\": null, \"type\": \"nominal\"}}}, {\"mark\": {\"type\": \"bar\", \"color\": \"red\", \"x2Offset\": -1, \"xOffset\": 1}, \"encoding\": {\"tooltip\": [{\"field\": \"library\", \"type\": \"nominal\"}, {\"field\": \"no-antibody_sample\", \"type\": \"nominal\"}, {\"field\": \"no_antibody_count_threshold\", \"type\": \"quantitative\"}, {\"field\": \"median\", \"format\": \".2g\", \"type\": \"quantitative\"}, {\"field\": \"percentile_25\", \"format\": \".2g\", \"type\": \"quantitative\"}, {\"field\": \"percentile_75\", \"format\": \".2g\", \"type\": \"quantitative\"}, {\"field\": \"min\", \"type\": \"quantitative\"}, {\"field\": \"max\", \"type\": \"quantitative\"}, {\"field\": \"frac_counts_above_threshold\", \"format\": \".2g\", \"type\": \"quantitative\"}, {\"field\": \"frac_variants_above_threshold\", \"format\": \".2g\", \"type\": \"quantitative\"}, {\"field\": \"virus_batch\", \"type\": \"nominal\"}, {\"field\": \"date\", \"type\": \"nominal\"}], \"x\": {\"field\": \"no_antibody_count_threshold\", \"type\": \"quantitative\"}, \"x2\": {\"field\": \"no_antibody_count_threshold\"}, \"y\": {\"field\": \"library_sample\", \"title\": null, \"type\": \"nominal\"}}}], \"data\": {\"name\": \"data-063be5e2b92288ef7967ace4033886e1\"}, \"height\": {\"step\": 14}, \"params\": [{\"name\": \"param_1\", \"select\": {\"type\": \"point\", \"fields\": [\"library\"]}, \"bind\": {\"input\": \"select\", \"options\": [null, \"Lib-1\", \"Lib-2\"], \"labels\": [\"all\", \"Lib-1\", \"Lib-2\"], \"name\": \"library\"}, \"views\": [\"view_1\"]}, {\"name\": \"param_2\", \"select\": {\"type\": \"point\", \"fields\": [\"date\"]}, \"bind\": {\"input\": \"select\", \"options\": [null, \"2022-03-14\"], \"labels\": [\"all\", \"2022-03-14\"], \"name\": \"date\"}, \"views\": [\"view_1\"]}, {\"name\": \"param_4\", \"select\": {\"type\": \"point\", \"fields\": [\"virus_batch\"]}, \"bind\": {\"input\": \"select\", \"options\": [null, \"thaw-3\"], \"labels\": [\"all\", \"thaw-3\"], \"name\": \"virus_batch\"}, \"views\": [\"view_1\"]}], \"transform\": [{\"filter\": {\"param\": \"param_1\"}}, {\"filter\": {\"param\": \"param_2\"}}, {\"filter\": {\"param\": \"param_4\"}}], \"width\": 350, \"$schema\": \"https://vega.github.io/schema/vega-lite/v5.2.0.json\", \"datasets\": {\"data-063be5e2b92288ef7967ace4033886e1\": [{\"library\": \"Lib-1\", \"no-antibody_sample\": \"2022-03-14_thaw-3_no-antibody_control_1\", \"no_antibody_count_threshold\": 20, \"median\": 55.0, \"percentile_25\": 9.0, \"percentile_75\": 193.0, \"min\": 0, \"max\": 10024, \"library_sample\": \"Lib-1 2022-03-14_thaw-3_no-antibody_control_1\", \"frac_counts_above_threshold\": 0.9889346476756181, \"frac_variants_above_threshold\": 0.6599920872164586, \"virus_batch\": \"thaw-3\", \"date\": \"2022-03-14\"}, {\"library\": \"Lib-2\", \"no-antibody_sample\": \"2022-03-14_thaw-3_no-antibody_control_1\", \"no_antibody_count_threshold\": 20, \"median\": 65.0, \"percentile_25\": 12.0, \"percentile_75\": 234.0, \"min\": 0, \"max\": 8898, \"library_sample\": \"Lib-2 2022-03-14_thaw-3_no-antibody_control_1\", \"frac_counts_above_threshold\": 0.9916721039745936, \"frac_variants_above_threshold\": 0.6863748386339632, \"virus_batch\": \"thaw-3\", \"date\": \"2022-03-14\"}]}}, {\"mode\": \"vega-lite\"});\n",
       "</script>"
      ],
      "text/plain": [
       "alt.LayerChart(...)"
      ]
     },
     "execution_count": 9,
     "metadata": {},
     "output_type": "execute_result"
    }
   ],
   "source": [
    "# get data to plot\n",
    "no_antibody_count_boxplot_df = (\n",
    "    prob_escape[\n",
    "        [\n",
    "            \"library\",\n",
    "            \"no-antibody_sample\",\n",
    "            \"no-antibody_count\",\n",
    "            \"barcode\",\n",
    "            \"no_antibody_count_threshold\",\n",
    "        ]\n",
    "    ]\n",
    "    .drop_duplicates()\n",
    "    .assign(\n",
    "        variant_above_threshold=lambda x: (\n",
    "            x[\"no-antibody_count\"] >= x[\"no_antibody_count_threshold\"]\n",
    "        ).astype(int),\n",
    "        count_above_threshold=lambda x: x[\"no-antibody_count\"]\n",
    "        * x[\"variant_above_threshold\"],\n",
    "    )\n",
    "    .groupby(\n",
    "        [\"library\", \"no-antibody_sample\", \"no_antibody_count_threshold\"], as_index=False\n",
    "    )\n",
    "    .aggregate(\n",
    "        median=pd.NamedAgg(\"no-antibody_count\", \"median\"),\n",
    "        percentile_25=pd.NamedAgg(\"no-antibody_count\", lambda s: s.quantile(0.25)),\n",
    "        percentile_75=pd.NamedAgg(\"no-antibody_count\", lambda s: s.quantile(0.75)),\n",
    "        min=pd.NamedAgg(\"no-antibody_count\", \"min\"),\n",
    "        max=pd.NamedAgg(\"no-antibody_count\", \"max\"),\n",
    "        nvariants=pd.NamedAgg(\"barcode\", \"count\"),\n",
    "        total_counts=pd.NamedAgg(\"no-antibody_count\", \"sum\"),\n",
    "        variants_above_threshold=pd.NamedAgg(\"variant_above_threshold\", \"sum\"),\n",
    "        counts_above_threshold=pd.NamedAgg(\"count_above_threshold\", \"sum\"),\n",
    "    )\n",
    "    .assign(\n",
    "        library_sample=lambda x: x[\"library\"] + \" \" + x[\"no-antibody_sample\"],\n",
    "        frac_counts_above_threshold=lambda x: x[\"counts_above_threshold\"]\n",
    "        / x[\"total_counts\"],\n",
    "        frac_variants_above_threshold=lambda x: x[\"variants_above_threshold\"]\n",
    "        / x[\"nvariants\"],\n",
    "    )\n",
    "    .drop(\n",
    "        columns=[\n",
    "            \"counts_above_threshold\",\n",
    "            \"variants_above_threshold\",\n",
    "            \"total_counts\",\n",
    "            \"nvariants\",\n",
    "        ]\n",
    "    )\n",
    "    .merge(\n",
    "        antibody_selections[\n",
    "            [\"no-antibody_sample\", \"virus_batch\", \"date\", \"library\"]\n",
    "        ].drop_duplicates(),\n",
    "        how=\"left\",\n",
    "        validate=\"one_to_one\",\n",
    "    )\n",
    ")\n",
    "assert (\n",
    "    len(no_antibody_count_boxplot_df)\n",
    "    == no_antibody_count_boxplot_df[\"library_sample\"].nunique()\n",
    ")\n",
    "\n",
    "# make plot\n",
    "no_antibody_count_base = alt.Chart(no_antibody_count_boxplot_df).encode(\n",
    "    y=alt.Y(\"library_sample\", title=None),\n",
    "    tooltip=[\n",
    "        alt.Tooltip(c, format=\".2g\")\n",
    "        if no_antibody_count_boxplot_df[c].dtype == float\n",
    "        else c\n",
    "        for c in no_antibody_count_boxplot_df.columns\n",
    "        if c != \"library_sample\"\n",
    "    ],\n",
    ")\n",
    "\n",
    "no_antibody_count_quartile_bars = no_antibody_count_base.encode(\n",
    "    alt.X(\n",
    "        \"percentile_25\",\n",
    "        scale=alt.Scale(type=\"symlog\", constant=20),\n",
    "        title=\"counts for variant\",\n",
    "    ),\n",
    "    alt.X2(\"percentile_75\"),\n",
    ").mark_bar(color=\"blue\")\n",
    "\n",
    "no_antibody_count_range_lines = no_antibody_count_base.encode(\n",
    "    alt.X(\"min\"),\n",
    "    alt.X2(\"max\"),\n",
    ").mark_rule(color=\"blue\", opacity=0.5)\n",
    "\n",
    "no_antibody_count_median_lines = no_antibody_count_base.encode(\n",
    "    alt.X(\"median\"), alt.X2(\"median\")\n",
    ").mark_bar(xOffset=1, x2Offset=-1, color=\"black\")\n",
    "\n",
    "no_antibody_count_threshold = no_antibody_count_base.encode(\n",
    "    alt.X(\"no_antibody_count_threshold\"), alt.X2(\"no_antibody_count_threshold\")\n",
    ").mark_bar(xOffset=1, x2Offset=-1, color=\"red\")\n",
    "\n",
    "no_antibody_count_chart = (\n",
    "    (\n",
    "        no_antibody_count_quartile_bars\n",
    "        + no_antibody_count_range_lines\n",
    "        + no_antibody_count_median_lines\n",
    "        + no_antibody_count_threshold\n",
    "    )\n",
    "    .configure_axis(labelLimit=500)\n",
    "    .properties(width=350, height=alt.Step(14))\n",
    ")\n",
    "\n",
    "for s, name in zip(selections, selection_names):\n",
    "    if name != \"antibody\":\n",
    "        no_antibody_count_chart = no_antibody_count_chart.add_params(\n",
    "            s\n",
    "        ).transform_filter(s)\n",
    "\n",
    "no_antibody_count_chart"
   ]
  },
  {
   "cell_type": "markdown",
   "id": "5e8f6c49-75bf-4dfb-8039-e722b484945e",
   "metadata": {
    "papermill": {
     "duration": 0.018482,
     "end_time": "2023-02-15T21:15:14.709229",
     "exception": false,
     "start_time": "2023-02-15T21:15:14.690747",
     "status": "completed"
    },
    "tags": []
   },
   "source": [
    "Plot the fraction of all variants, and fraction of all counts, that are above the thresholds for the no-antibody conditions:"
   ]
  },
  {
   "cell_type": "code",
   "execution_count": 10,
   "id": "03e6304a-ceda-4bec-a057-7c9943c1d005",
   "metadata": {
    "execution": {
     "iopub.execute_input": "2023-02-15T21:15:14.737022Z",
     "iopub.status.busy": "2023-02-15T21:15:14.736525Z",
     "iopub.status.idle": "2023-02-15T21:15:14.821217Z",
     "shell.execute_reply": "2023-02-15T21:15:14.820369Z"
    },
    "papermill": {
     "duration": 0.101042,
     "end_time": "2023-02-15T21:15:14.823547",
     "exception": false,
     "start_time": "2023-02-15T21:15:14.722505",
     "status": "completed"
    },
    "tags": []
   },
   "outputs": [
    {
     "data": {
      "text/html": [
       "\n",
       "<div id=\"altair-viz-2bcd09d5d4fe4671a1ef8538d40d60f1\"></div>\n",
       "<script type=\"text/javascript\">\n",
       "  var VEGA_DEBUG = (typeof VEGA_DEBUG == \"undefined\") ? {} : VEGA_DEBUG;\n",
       "  (function(spec, embedOpt){\n",
       "    let outputDiv = document.currentScript.previousElementSibling;\n",
       "    if (outputDiv.id !== \"altair-viz-2bcd09d5d4fe4671a1ef8538d40d60f1\") {\n",
       "      outputDiv = document.getElementById(\"altair-viz-2bcd09d5d4fe4671a1ef8538d40d60f1\");\n",
       "    }\n",
       "    const paths = {\n",
       "      \"vega\": \"https://cdn.jsdelivr.net/npm/vega@5?noext\",\n",
       "      \"vega-lib\": \"https://cdn.jsdelivr.net/npm/vega-lib?noext\",\n",
       "      \"vega-lite\": \"https://cdn.jsdelivr.net/npm/vega-lite@5.2.0?noext\",\n",
       "      \"vega-embed\": \"https://cdn.jsdelivr.net/npm/vega-embed@6?noext\",\n",
       "    };\n",
       "\n",
       "    function maybeLoadScript(lib, version) {\n",
       "      var key = `${lib.replace(\"-\", \"\")}_version`;\n",
       "      return (VEGA_DEBUG[key] == version) ?\n",
       "        Promise.resolve(paths[lib]) :\n",
       "        new Promise(function(resolve, reject) {\n",
       "          var s = document.createElement('script');\n",
       "          document.getElementsByTagName(\"head\")[0].appendChild(s);\n",
       "          s.async = true;\n",
       "          s.onload = () => {\n",
       "            VEGA_DEBUG[key] = version;\n",
       "            return resolve(paths[lib]);\n",
       "          };\n",
       "          s.onerror = () => reject(`Error loading script: ${paths[lib]}`);\n",
       "          s.src = paths[lib];\n",
       "        });\n",
       "    }\n",
       "\n",
       "    function showError(err) {\n",
       "      outputDiv.innerHTML = `<div class=\"error\" style=\"color:red;\">${err}</div>`;\n",
       "      throw err;\n",
       "    }\n",
       "\n",
       "    function displayChart(vegaEmbed) {\n",
       "      vegaEmbed(outputDiv, spec, embedOpt)\n",
       "        .catch(err => showError(`Javascript Error: ${err.message}<br>This usually means there's a typo in your chart specification. See the javascript console for the full traceback.`));\n",
       "    }\n",
       "\n",
       "    if(typeof define === \"function\" && define.amd) {\n",
       "      requirejs.config({paths});\n",
       "      require([\"vega-embed\"], displayChart, err => showError(`Error loading script: ${err.message}`));\n",
       "    } else {\n",
       "      maybeLoadScript(\"vega\", \"5\")\n",
       "        .then(() => maybeLoadScript(\"vega-lite\", \"5.2.0\"))\n",
       "        .then(() => maybeLoadScript(\"vega-embed\", \"6\"))\n",
       "        .catch(showError)\n",
       "        .then(() => displayChart(vegaEmbed));\n",
       "    }\n",
       "  })({\"config\": {\"view\": {\"continuousWidth\": 300, \"continuousHeight\": 300}, \"axis\": {\"labelLimit\": 500}}, \"data\": {\"name\": \"data-3b0b9fc4095063584a60cb03c047c0bd\"}, \"mark\": {\"type\": \"point\", \"filled\": true, \"size\": 50}, \"encoding\": {\"color\": {\"field\": \"fraction_type\", \"scale\": {\"domain\": [\"counts\", \"variants\"]}, \"title\": null, \"type\": \"nominal\"}, \"tooltip\": [{\"field\": \"library\", \"type\": \"nominal\"}, {\"field\": \"no-antibody_sample\", \"type\": \"nominal\"}, {\"field\": \"counts\", \"format\": \".2g\", \"type\": \"quantitative\"}, {\"field\": \"variants\", \"format\": \".2g\", \"type\": \"quantitative\"}, {\"field\": \"virus_batch\", \"type\": \"nominal\"}, {\"field\": \"date\", \"type\": \"nominal\"}], \"x\": {\"field\": \"fraction\", \"scale\": {\"domain\": [0, 1]}, \"title\": \"fraction above threshold\", \"type\": \"quantitative\"}, \"y\": {\"field\": \"library_sample\", \"title\": null, \"type\": \"nominal\"}}, \"height\": {\"step\": 14}, \"params\": [{\"name\": \"param_7\", \"select\": {\"type\": \"point\", \"fields\": [\"fraction_type\"]}, \"bind\": \"legend\"}, {\"name\": \"param_1\", \"select\": {\"type\": \"point\", \"fields\": [\"library\"]}, \"bind\": {\"input\": \"select\", \"options\": [null, \"Lib-1\", \"Lib-2\"], \"labels\": [\"all\", \"Lib-1\", \"Lib-2\"], \"name\": \"library\"}}, {\"name\": \"param_2\", \"select\": {\"type\": \"point\", \"fields\": [\"date\"]}, \"bind\": {\"input\": \"select\", \"options\": [null, \"2022-03-14\"], \"labels\": [\"all\", \"2022-03-14\"], \"name\": \"date\"}}, {\"name\": \"param_4\", \"select\": {\"type\": \"point\", \"fields\": [\"virus_batch\"]}, \"bind\": {\"input\": \"select\", \"options\": [null, \"thaw-3\"], \"labels\": [\"all\", \"thaw-3\"], \"name\": \"virus_batch\"}}], \"transform\": [{\"fold\": [\"counts\", \"variants\"], \"as\": [\"fraction_type\", \"fraction\"]}, {\"filter\": {\"param\": \"param_7\"}}, {\"filter\": {\"param\": \"param_1\"}}, {\"filter\": {\"param\": \"param_2\"}}, {\"filter\": {\"param\": \"param_4\"}}], \"width\": 200, \"$schema\": \"https://vega.github.io/schema/vega-lite/v5.2.0.json\", \"datasets\": {\"data-3b0b9fc4095063584a60cb03c047c0bd\": [{\"library\": \"Lib-1\", \"no-antibody_sample\": \"2022-03-14_thaw-3_no-antibody_control_1\", \"library_sample\": \"Lib-1 2022-03-14_thaw-3_no-antibody_control_1\", \"counts\": 0.9889346476756181, \"variants\": 0.6599920872164586, \"virus_batch\": \"thaw-3\", \"date\": \"2022-03-14\"}, {\"library\": \"Lib-2\", \"no-antibody_sample\": \"2022-03-14_thaw-3_no-antibody_control_1\", \"library_sample\": \"Lib-2 2022-03-14_thaw-3_no-antibody_control_1\", \"counts\": 0.9916721039745936, \"variants\": 0.6863748386339632, \"virus_batch\": \"thaw-3\", \"date\": \"2022-03-14\"}]}}, {\"mode\": \"vega-lite\"});\n",
       "</script>"
      ],
      "text/plain": [
       "alt.Chart(...)"
      ]
     },
     "execution_count": 10,
     "metadata": {},
     "output_type": "execute_result"
    }
   ],
   "source": [
    "frac_counts_df = no_antibody_count_boxplot_df.drop(\n",
    "    columns=[\n",
    "        \"median\",\n",
    "        \"no_antibody_count_threshold\",\n",
    "        \"min\",\n",
    "        \"max\",\n",
    "        \"percentile_25\",\n",
    "        \"percentile_75\",\n",
    "    ],\n",
    ").rename(\n",
    "    columns={\n",
    "        \"frac_counts_above_threshold\": \"counts\",\n",
    "        \"frac_variants_above_threshold\": \"variants\",\n",
    "    }\n",
    ")\n",
    "\n",
    "fraction_type_selection = alt.selection_point(\n",
    "    fields=[\"fraction_type\"],\n",
    "    bind=\"legend\",\n",
    ")\n",
    "\n",
    "frac_counts_chart = (\n",
    "    alt.Chart(frac_counts_df)\n",
    "    .transform_fold(fold=[\"counts\", \"variants\"], as_=[\"fraction_type\", \"fraction\"])\n",
    "    .encode(\n",
    "        y=alt.Y(\"library_sample\", title=None),\n",
    "        tooltip=[\n",
    "            alt.Tooltip(c, format=\".2g\") if frac_counts_df[c].dtype == float else c\n",
    "            for c in frac_counts_df.columns\n",
    "            if c != \"library_sample\"\n",
    "        ],\n",
    "        x=alt.X(\n",
    "            \"fraction:Q\",\n",
    "            title=\"fraction above threshold\",\n",
    "            scale=alt.Scale(domain=(0, 1)),\n",
    "        ),\n",
    "        color=alt.Color(\n",
    "            \"fraction_type:N\",\n",
    "            title=None,\n",
    "            scale=alt.Scale(domain=[\"counts\", \"variants\"]),\n",
    "        ),\n",
    "    )\n",
    "    .mark_point(filled=True, size=50)\n",
    "    .properties(width=200, height=alt.Step(14))\n",
    "    .configure_axis(labelLimit=500)\n",
    "    .add_params(fraction_type_selection)\n",
    "    .transform_filter(fraction_type_selection)\n",
    ")\n",
    "\n",
    "for s, name in zip(selections, selection_names):\n",
    "    if name != \"antibody\":\n",
    "        frac_counts_chart = frac_counts_chart.add_params(s).transform_filter(s)\n",
    "\n",
    "frac_counts_chart"
   ]
  },
  {
   "cell_type": "markdown",
   "id": "817a20d6-8f93-44a4-ac64-b490a2479f2a",
   "metadata": {
    "papermill": {
     "duration": 0.010556,
     "end_time": "2023-02-15T21:15:14.847340",
     "exception": false,
     "start_time": "2023-02-15T21:15:14.836784",
     "status": "completed"
    },
    "tags": []
   },
   "source": [
    "Now just get probability of escape measurements for variants that exceed no-antibody count threshold:"
   ]
  },
  {
   "cell_type": "code",
   "execution_count": 11,
   "id": "5b4f389e-094a-4957-96e9-ef0a0190200e",
   "metadata": {
    "execution": {
     "iopub.execute_input": "2023-02-15T21:15:14.869908Z",
     "iopub.status.busy": "2023-02-15T21:15:14.869471Z",
     "iopub.status.idle": "2023-02-15T21:15:14.975580Z",
     "shell.execute_reply": "2023-02-15T21:15:14.974879Z"
    },
    "papermill": {
     "duration": 0.12072,
     "end_time": "2023-02-15T21:15:14.978092",
     "exception": false,
     "start_time": "2023-02-15T21:15:14.857372",
     "status": "completed"
    },
    "tags": []
   },
   "outputs": [],
   "source": [
    "prob_escape_filtered = prob_escape.query(\n",
    "    \"`no-antibody_count` >= no_antibody_count_threshold\"\n",
    ")"
   ]
  },
  {
   "cell_type": "markdown",
   "id": "8cc83a07-3b44-43ac-a06e-9e1981d4b063",
   "metadata": {
    "papermill": {
     "duration": 0.015279,
     "end_time": "2023-02-15T21:15:15.016858",
     "exception": false,
     "start_time": "2023-02-15T21:15:15.001579",
     "status": "completed"
    },
    "tags": []
   },
   "source": [
    "## Distribution of probability escape across variants\n",
    "Plot distribution of prob escape values across non-filtered variants.\n",
    "The boxes span 25th to 75th percentile, the black vertical line is at the median, and the thin lines extend from the min to max.\n",
    "You can show either the censored (to between 0 and 1) or uncensored probabilities of escape.\n",
    "Note the plot uses a symlog scale:"
   ]
  },
  {
   "cell_type": "code",
   "execution_count": 12,
   "id": "01da722b-444b-4369-afab-9f0207c42686",
   "metadata": {
    "execution": {
     "iopub.execute_input": "2023-02-15T21:15:15.043864Z",
     "iopub.status.busy": "2023-02-15T21:15:15.043441Z",
     "iopub.status.idle": "2023-02-15T21:15:15.938768Z",
     "shell.execute_reply": "2023-02-15T21:15:15.938051Z"
    },
    "papermill": {
     "duration": 0.912541,
     "end_time": "2023-02-15T21:15:15.941752",
     "exception": false,
     "start_time": "2023-02-15T21:15:15.029211",
     "status": "completed"
    },
    "tags": []
   },
   "outputs": [
    {
     "data": {
      "text/html": [
       "\n",
       "<div id=\"altair-viz-952cf5948d5343cba13e2f94d27bc493\"></div>\n",
       "<script type=\"text/javascript\">\n",
       "  var VEGA_DEBUG = (typeof VEGA_DEBUG == \"undefined\") ? {} : VEGA_DEBUG;\n",
       "  (function(spec, embedOpt){\n",
       "    let outputDiv = document.currentScript.previousElementSibling;\n",
       "    if (outputDiv.id !== \"altair-viz-952cf5948d5343cba13e2f94d27bc493\") {\n",
       "      outputDiv = document.getElementById(\"altair-viz-952cf5948d5343cba13e2f94d27bc493\");\n",
       "    }\n",
       "    const paths = {\n",
       "      \"vega\": \"https://cdn.jsdelivr.net/npm/vega@5?noext\",\n",
       "      \"vega-lib\": \"https://cdn.jsdelivr.net/npm/vega-lib?noext\",\n",
       "      \"vega-lite\": \"https://cdn.jsdelivr.net/npm/vega-lite@5.2.0?noext\",\n",
       "      \"vega-embed\": \"https://cdn.jsdelivr.net/npm/vega-embed@6?noext\",\n",
       "    };\n",
       "\n",
       "    function maybeLoadScript(lib, version) {\n",
       "      var key = `${lib.replace(\"-\", \"\")}_version`;\n",
       "      return (VEGA_DEBUG[key] == version) ?\n",
       "        Promise.resolve(paths[lib]) :\n",
       "        new Promise(function(resolve, reject) {\n",
       "          var s = document.createElement('script');\n",
       "          document.getElementsByTagName(\"head\")[0].appendChild(s);\n",
       "          s.async = true;\n",
       "          s.onload = () => {\n",
       "            VEGA_DEBUG[key] = version;\n",
       "            return resolve(paths[lib]);\n",
       "          };\n",
       "          s.onerror = () => reject(`Error loading script: ${paths[lib]}`);\n",
       "          s.src = paths[lib];\n",
       "        });\n",
       "    }\n",
       "\n",
       "    function showError(err) {\n",
       "      outputDiv.innerHTML = `<div class=\"error\" style=\"color:red;\">${err}</div>`;\n",
       "      throw err;\n",
       "    }\n",
       "\n",
       "    function displayChart(vegaEmbed) {\n",
       "      vegaEmbed(outputDiv, spec, embedOpt)\n",
       "        .catch(err => showError(`Javascript Error: ${err.message}<br>This usually means there's a typo in your chart specification. See the javascript console for the full traceback.`));\n",
       "    }\n",
       "\n",
       "    if(typeof define === \"function\" && define.amd) {\n",
       "      requirejs.config({paths});\n",
       "      require([\"vega-embed\"], displayChart, err => showError(`Error loading script: ${err.message}`));\n",
       "    } else {\n",
       "      maybeLoadScript(\"vega\", \"5\")\n",
       "        .then(() => maybeLoadScript(\"vega-lite\", \"5.2.0\"))\n",
       "        .then(() => maybeLoadScript(\"vega-embed\", \"6\"))\n",
       "        .catch(showError)\n",
       "        .then(() => displayChart(vegaEmbed));\n",
       "    }\n",
       "  })({\"config\": {\"view\": {\"continuousWidth\": 300, \"continuousHeight\": 300}, \"axis\": {\"labelLimit\": 500}}, \"layer\": [{\"mark\": {\"type\": \"bar\", \"color\": \"blue\"}, \"encoding\": {\"tooltip\": [{\"field\": \"library\", \"type\": \"nominal\"}, {\"field\": \"antibody_sample\", \"type\": \"nominal\"}, {\"field\": \"no-antibody_sample\", \"type\": \"nominal\"}, {\"field\": \"censored\", \"type\": \"nominal\"}, {\"field\": \"median\", \"format\": \".3g\", \"type\": \"quantitative\"}, {\"field\": \"percentile_25\", \"format\": \".3g\", \"type\": \"quantitative\"}, {\"field\": \"percentile_75\", \"format\": \".3g\", \"type\": \"quantitative\"}, {\"field\": \"min\", \"format\": \".3g\", \"type\": \"quantitative\"}, {\"field\": \"max\", \"format\": \".3g\", \"type\": \"quantitative\"}, {\"field\": \"virus_batch\", \"type\": \"nominal\"}, {\"field\": \"date\", \"type\": \"nominal\"}, {\"field\": \"antibody\", \"type\": \"nominal\"}], \"x\": {\"field\": \"percentile_25\", \"scale\": {\"constant\": 0.25, \"type\": \"symlog\"}, \"title\": \"probability escape\", \"type\": \"quantitative\"}, \"x2\": {\"field\": \"percentile_75\"}, \"y\": {\"field\": \"antibody_library_sample\", \"sort\": [\"Lib-1_2022-03-14_thaw-3_antibody_2130-1-0114-112_1.76_1\", \"Lib-1_2022-03-14_thaw-3_antibody_2130-1-0114-112_8.79_1\", \"Lib-1_2022-03-14_thaw-3_antibody_2130-1-0114-112_43.94_1\", \"Lib-1_2022-03-14_thaw-3_antibody_COV2-2130_0.8_1\", \"Lib-1_2022-03-14_thaw-3_antibody_COV2-2130_3.99_1\", \"Lib-1_2022-03-14_thaw-3_antibody_COV2-2130_19.95_1\", \"Lib-2_2022-03-14_thaw-3_antibody_2130-1-0114-112_1.76_1\", \"Lib-2_2022-03-14_thaw-3_antibody_2130-1-0114-112_8.79_1\", \"Lib-2_2022-03-14_thaw-3_antibody_2130-1-0114-112_43.94_1\", \"Lib-2_2022-03-14_thaw-3_antibody_COV2-2130_0.8_1\", \"Lib-2_2022-03-14_thaw-3_antibody_COV2-2130_3.99_1\", \"Lib-2_2022-03-14_thaw-3_antibody_COV2-2130_19.95_1\"], \"title\": null, \"type\": \"nominal\"}}, \"name\": \"view_2\"}, {\"mark\": {\"type\": \"rule\", \"color\": \"blue\", \"opacity\": 0.5}, \"encoding\": {\"tooltip\": [{\"field\": \"library\", \"type\": \"nominal\"}, {\"field\": \"antibody_sample\", \"type\": \"nominal\"}, {\"field\": \"no-antibody_sample\", \"type\": \"nominal\"}, {\"field\": \"censored\", \"type\": \"nominal\"}, {\"field\": \"median\", \"format\": \".3g\", \"type\": \"quantitative\"}, {\"field\": \"percentile_25\", \"format\": \".3g\", \"type\": \"quantitative\"}, {\"field\": \"percentile_75\", \"format\": \".3g\", \"type\": \"quantitative\"}, {\"field\": \"min\", \"format\": \".3g\", \"type\": \"quantitative\"}, {\"field\": \"max\", \"format\": \".3g\", \"type\": \"quantitative\"}, {\"field\": \"virus_batch\", \"type\": \"nominal\"}, {\"field\": \"date\", \"type\": \"nominal\"}, {\"field\": \"antibody\", \"type\": \"nominal\"}], \"x\": {\"field\": \"min\", \"type\": \"quantitative\"}, \"x2\": {\"field\": \"max\"}, \"y\": {\"field\": \"antibody_library_sample\", \"sort\": [\"Lib-1_2022-03-14_thaw-3_antibody_2130-1-0114-112_1.76_1\", \"Lib-1_2022-03-14_thaw-3_antibody_2130-1-0114-112_8.79_1\", \"Lib-1_2022-03-14_thaw-3_antibody_2130-1-0114-112_43.94_1\", \"Lib-1_2022-03-14_thaw-3_antibody_COV2-2130_0.8_1\", \"Lib-1_2022-03-14_thaw-3_antibody_COV2-2130_3.99_1\", \"Lib-1_2022-03-14_thaw-3_antibody_COV2-2130_19.95_1\", \"Lib-2_2022-03-14_thaw-3_antibody_2130-1-0114-112_1.76_1\", \"Lib-2_2022-03-14_thaw-3_antibody_2130-1-0114-112_8.79_1\", \"Lib-2_2022-03-14_thaw-3_antibody_2130-1-0114-112_43.94_1\", \"Lib-2_2022-03-14_thaw-3_antibody_COV2-2130_0.8_1\", \"Lib-2_2022-03-14_thaw-3_antibody_COV2-2130_3.99_1\", \"Lib-2_2022-03-14_thaw-3_antibody_COV2-2130_19.95_1\"], \"title\": null, \"type\": \"nominal\"}}}, {\"mark\": {\"type\": \"bar\", \"color\": \"black\", \"x2Offset\": -1, \"xOffset\": 1}, \"encoding\": {\"tooltip\": [{\"field\": \"library\", \"type\": \"nominal\"}, {\"field\": \"antibody_sample\", \"type\": \"nominal\"}, {\"field\": \"no-antibody_sample\", \"type\": \"nominal\"}, {\"field\": \"censored\", \"type\": \"nominal\"}, {\"field\": \"median\", \"format\": \".3g\", \"type\": \"quantitative\"}, {\"field\": \"percentile_25\", \"format\": \".3g\", \"type\": \"quantitative\"}, {\"field\": \"percentile_75\", \"format\": \".3g\", \"type\": \"quantitative\"}, {\"field\": \"min\", \"format\": \".3g\", \"type\": \"quantitative\"}, {\"field\": \"max\", \"format\": \".3g\", \"type\": \"quantitative\"}, {\"field\": \"virus_batch\", \"type\": \"nominal\"}, {\"field\": \"date\", \"type\": \"nominal\"}, {\"field\": \"antibody\", \"type\": \"nominal\"}], \"x\": {\"field\": \"median\", \"type\": \"quantitative\"}, \"x2\": {\"field\": \"median\"}, \"y\": {\"field\": \"antibody_library_sample\", \"sort\": [\"Lib-1_2022-03-14_thaw-3_antibody_2130-1-0114-112_1.76_1\", \"Lib-1_2022-03-14_thaw-3_antibody_2130-1-0114-112_8.79_1\", \"Lib-1_2022-03-14_thaw-3_antibody_2130-1-0114-112_43.94_1\", \"Lib-1_2022-03-14_thaw-3_antibody_COV2-2130_0.8_1\", \"Lib-1_2022-03-14_thaw-3_antibody_COV2-2130_3.99_1\", \"Lib-1_2022-03-14_thaw-3_antibody_COV2-2130_19.95_1\", \"Lib-2_2022-03-14_thaw-3_antibody_2130-1-0114-112_1.76_1\", \"Lib-2_2022-03-14_thaw-3_antibody_2130-1-0114-112_8.79_1\", \"Lib-2_2022-03-14_thaw-3_antibody_2130-1-0114-112_43.94_1\", \"Lib-2_2022-03-14_thaw-3_antibody_COV2-2130_0.8_1\", \"Lib-2_2022-03-14_thaw-3_antibody_COV2-2130_3.99_1\", \"Lib-2_2022-03-14_thaw-3_antibody_COV2-2130_19.95_1\"], \"title\": null, \"type\": \"nominal\"}}}], \"data\": {\"name\": \"data-a77d033528b033529c90652b6e3ded08\"}, \"height\": {\"step\": 14}, \"params\": [{\"name\": \"param_1\", \"select\": {\"type\": \"point\", \"fields\": [\"library\"]}, \"bind\": {\"input\": \"select\", \"options\": [null, \"Lib-1\", \"Lib-2\"], \"labels\": [\"all\", \"Lib-1\", \"Lib-2\"], \"name\": \"library\"}, \"views\": [\"view_2\"]}, {\"name\": \"param_2\", \"select\": {\"type\": \"point\", \"fields\": [\"date\"]}, \"bind\": {\"input\": \"select\", \"options\": [null, \"2022-03-14\"], \"labels\": [\"all\", \"2022-03-14\"], \"name\": \"date\"}, \"views\": [\"view_2\"]}, {\"name\": \"param_3\", \"select\": {\"type\": \"point\", \"fields\": [\"antibody\"]}, \"bind\": {\"input\": \"select\", \"options\": [null, \"COV2-2130\", \"2130-1-0114-112\"], \"labels\": [\"all\", \"COV2-2130\", \"2130-1-0114-112\"], \"name\": \"antibody\"}, \"views\": [\"view_2\"]}, {\"name\": \"param_4\", \"select\": {\"type\": \"point\", \"fields\": [\"virus_batch\"]}, \"bind\": {\"input\": \"select\", \"options\": [null, \"thaw-3\"], \"labels\": [\"all\", \"thaw-3\"], \"name\": \"virus_batch\"}, \"views\": [\"view_2\"]}, {\"name\": \"param_8\", \"select\": {\"type\": \"point\", \"fields\": [\"censored\"]}, \"bind\": {\"input\": \"select\", \"options\": [true, false], \"name\": \"censored\"}, \"value\": [{\"censored\": true}], \"views\": [\"view_2\"]}], \"transform\": [{\"filter\": {\"param\": \"param_1\"}}, {\"filter\": {\"param\": \"param_2\"}}, {\"filter\": {\"param\": \"param_3\"}}, {\"filter\": {\"param\": \"param_4\"}}, {\"filter\": {\"param\": \"param_8\"}}], \"width\": 350, \"$schema\": \"https://vega.github.io/schema/vega-lite/v5.2.0.json\", \"datasets\": {\"data-a77d033528b033529c90652b6e3ded08\": [{\"library\": \"Lib-1\", \"antibody_sample\": \"2022-03-14_thaw-3_antibody_2130-1-0114-112_1.76_1\", \"no-antibody_sample\": \"2022-03-14_thaw-3_no-antibody_control_1\", \"censored\": true, \"median\": 0.9087, \"percentile_25\": 0.6860250000000001, \"percentile_75\": 1.0, \"min\": 0.0, \"max\": 1.0, \"antibody_library_sample\": \"Lib-1_2022-03-14_thaw-3_antibody_2130-1-0114-112_1.76_1\", \"virus_batch\": \"thaw-3\", \"date\": \"2022-03-14\", \"antibody\": \"2130-1-0114-112\"}, {\"library\": \"Lib-1\", \"antibody_sample\": \"2022-03-14_thaw-3_antibody_2130-1-0114-112_1.76_1\", \"no-antibody_sample\": \"2022-03-14_thaw-3_no-antibody_control_1\", \"censored\": false, \"median\": 0.9087, \"percentile_25\": 0.6860250000000001, \"percentile_75\": 1.156, \"min\": 0.0, \"max\": 7.1792, \"antibody_library_sample\": \"Lib-1_2022-03-14_thaw-3_antibody_2130-1-0114-112_1.76_1\", \"virus_batch\": \"thaw-3\", \"date\": \"2022-03-14\", \"antibody\": \"2130-1-0114-112\"}, {\"library\": \"Lib-1\", \"antibody_sample\": \"2022-03-14_thaw-3_antibody_2130-1-0114-112_43.94_1\", \"no-antibody_sample\": \"2022-03-14_thaw-3_no-antibody_control_1\", \"censored\": true, \"median\": 0.0, \"percentile_25\": 0.0, \"percentile_75\": 0.0003, \"min\": 0.0, \"max\": 1.0, \"antibody_library_sample\": \"Lib-1_2022-03-14_thaw-3_antibody_2130-1-0114-112_43.94_1\", \"virus_batch\": \"thaw-3\", \"date\": \"2022-03-14\", \"antibody\": \"2130-1-0114-112\"}, {\"library\": \"Lib-1\", \"antibody_sample\": \"2022-03-14_thaw-3_antibody_2130-1-0114-112_43.94_1\", \"no-antibody_sample\": \"2022-03-14_thaw-3_no-antibody_control_1\", \"censored\": false, \"median\": 0.0, \"percentile_25\": 0.0, \"percentile_75\": 0.0003, \"min\": 0.0, \"max\": 3.6927, \"antibody_library_sample\": \"Lib-1_2022-03-14_thaw-3_antibody_2130-1-0114-112_43.94_1\", \"virus_batch\": \"thaw-3\", \"date\": \"2022-03-14\", \"antibody\": \"2130-1-0114-112\"}, {\"library\": \"Lib-1\", \"antibody_sample\": \"2022-03-14_thaw-3_antibody_2130-1-0114-112_8.79_1\", \"no-antibody_sample\": \"2022-03-14_thaw-3_no-antibody_control_1\", \"censored\": true, \"median\": 0.0001, \"percentile_25\": 0.0, \"percentile_75\": 0.039, \"min\": 0.0, \"max\": 1.0, \"antibody_library_sample\": \"Lib-1_2022-03-14_thaw-3_antibody_2130-1-0114-112_8.79_1\", \"virus_batch\": \"thaw-3\", \"date\": \"2022-03-14\", \"antibody\": \"2130-1-0114-112\"}, {\"library\": \"Lib-1\", \"antibody_sample\": \"2022-03-14_thaw-3_antibody_2130-1-0114-112_8.79_1\", \"no-antibody_sample\": \"2022-03-14_thaw-3_no-antibody_control_1\", \"censored\": false, \"median\": 0.0001, \"percentile_25\": 0.0, \"percentile_75\": 0.039, \"min\": 0.0, \"max\": 4.2527, \"antibody_library_sample\": \"Lib-1_2022-03-14_thaw-3_antibody_2130-1-0114-112_8.79_1\", \"virus_batch\": \"thaw-3\", \"date\": \"2022-03-14\", \"antibody\": \"2130-1-0114-112\"}, {\"library\": \"Lib-1\", \"antibody_sample\": \"2022-03-14_thaw-3_antibody_COV2-2130_0.8_1\", \"no-antibody_sample\": \"2022-03-14_thaw-3_no-antibody_control_1\", \"censored\": true, \"median\": 0.04305, \"percentile_25\": 0.0, \"percentile_75\": 0.1073, \"min\": 0.0, \"max\": 1.0, \"antibody_library_sample\": \"Lib-1_2022-03-14_thaw-3_antibody_COV2-2130_0.8_1\", \"virus_batch\": \"thaw-3\", \"date\": \"2022-03-14\", \"antibody\": \"COV2-2130\"}, {\"library\": \"Lib-1\", \"antibody_sample\": \"2022-03-14_thaw-3_antibody_COV2-2130_0.8_1\", \"no-antibody_sample\": \"2022-03-14_thaw-3_no-antibody_control_1\", \"censored\": false, \"median\": 0.04305, \"percentile_25\": 0.0, \"percentile_75\": 0.1073, \"min\": 0.0, \"max\": 9.0025, \"antibody_library_sample\": \"Lib-1_2022-03-14_thaw-3_antibody_COV2-2130_0.8_1\", \"virus_batch\": \"thaw-3\", \"date\": \"2022-03-14\", \"antibody\": \"COV2-2130\"}, {\"library\": \"Lib-1\", \"antibody_sample\": \"2022-03-14_thaw-3_antibody_COV2-2130_19.95_1\", \"no-antibody_sample\": \"2022-03-14_thaw-3_no-antibody_control_1\", \"censored\": true, \"median\": 0.0, \"percentile_25\": 0.0, \"percentile_75\": 0.0011, \"min\": 0.0, \"max\": 1.0, \"antibody_library_sample\": \"Lib-1_2022-03-14_thaw-3_antibody_COV2-2130_19.95_1\", \"virus_batch\": \"thaw-3\", \"date\": \"2022-03-14\", \"antibody\": \"COV2-2130\"}, {\"library\": \"Lib-1\", \"antibody_sample\": \"2022-03-14_thaw-3_antibody_COV2-2130_19.95_1\", \"no-antibody_sample\": \"2022-03-14_thaw-3_no-antibody_control_1\", \"censored\": false, \"median\": 0.0, \"percentile_25\": 0.0, \"percentile_75\": 0.0011, \"min\": 0.0, \"max\": 4.7023, \"antibody_library_sample\": \"Lib-1_2022-03-14_thaw-3_antibody_COV2-2130_19.95_1\", \"virus_batch\": \"thaw-3\", \"date\": \"2022-03-14\", \"antibody\": \"COV2-2130\"}, {\"library\": \"Lib-1\", \"antibody_sample\": \"2022-03-14_thaw-3_antibody_COV2-2130_3.99_1\", \"no-antibody_sample\": \"2022-03-14_thaw-3_no-antibody_control_1\", \"censored\": true, \"median\": 0.0, \"percentile_25\": 0.0, \"percentile_75\": 0.0011, \"min\": 0.0, \"max\": 1.0, \"antibody_library_sample\": \"Lib-1_2022-03-14_thaw-3_antibody_COV2-2130_3.99_1\", \"virus_batch\": \"thaw-3\", \"date\": \"2022-03-14\", \"antibody\": \"COV2-2130\"}, {\"library\": \"Lib-1\", \"antibody_sample\": \"2022-03-14_thaw-3_antibody_COV2-2130_3.99_1\", \"no-antibody_sample\": \"2022-03-14_thaw-3_no-antibody_control_1\", \"censored\": false, \"median\": 0.0, \"percentile_25\": 0.0, \"percentile_75\": 0.0011, \"min\": 0.0, \"max\": 6.3976, \"antibody_library_sample\": \"Lib-1_2022-03-14_thaw-3_antibody_COV2-2130_3.99_1\", \"virus_batch\": \"thaw-3\", \"date\": \"2022-03-14\", \"antibody\": \"COV2-2130\"}, {\"library\": \"Lib-2\", \"antibody_sample\": \"2022-03-14_thaw-3_antibody_2130-1-0114-112_1.76_1\", \"no-antibody_sample\": \"2022-03-14_thaw-3_no-antibody_control_1\", \"censored\": true, \"median\": 0.7532, \"percentile_25\": 0.5557, \"percentile_75\": 0.9745, \"min\": 0.0, \"max\": 1.0, \"antibody_library_sample\": \"Lib-2_2022-03-14_thaw-3_antibody_2130-1-0114-112_1.76_1\", \"virus_batch\": \"thaw-3\", \"date\": \"2022-03-14\", \"antibody\": \"2130-1-0114-112\"}, {\"library\": \"Lib-2\", \"antibody_sample\": \"2022-03-14_thaw-3_antibody_2130-1-0114-112_1.76_1\", \"no-antibody_sample\": \"2022-03-14_thaw-3_no-antibody_control_1\", \"censored\": false, \"median\": 0.7532, \"percentile_25\": 0.5557, \"percentile_75\": 0.9745, \"min\": 0.0, \"max\": 16.6175, \"antibody_library_sample\": \"Lib-2_2022-03-14_thaw-3_antibody_2130-1-0114-112_1.76_1\", \"virus_batch\": \"thaw-3\", \"date\": \"2022-03-14\", \"antibody\": \"2130-1-0114-112\"}, {\"library\": \"Lib-2\", \"antibody_sample\": \"2022-03-14_thaw-3_antibody_2130-1-0114-112_43.94_1\", \"no-antibody_sample\": \"2022-03-14_thaw-3_no-antibody_control_1\", \"censored\": true, \"median\": 0.0, \"percentile_25\": 0.0, \"percentile_75\": 0.0034, \"min\": 0.0, \"max\": 1.0, \"antibody_library_sample\": \"Lib-2_2022-03-14_thaw-3_antibody_2130-1-0114-112_43.94_1\", \"virus_batch\": \"thaw-3\", \"date\": \"2022-03-14\", \"antibody\": \"2130-1-0114-112\"}, {\"library\": \"Lib-2\", \"antibody_sample\": \"2022-03-14_thaw-3_antibody_2130-1-0114-112_43.94_1\", \"no-antibody_sample\": \"2022-03-14_thaw-3_no-antibody_control_1\", \"censored\": false, \"median\": 0.0, \"percentile_25\": 0.0, \"percentile_75\": 0.0034, \"min\": 0.0, \"max\": 5.9169, \"antibody_library_sample\": \"Lib-2_2022-03-14_thaw-3_antibody_2130-1-0114-112_43.94_1\", \"virus_batch\": \"thaw-3\", \"date\": \"2022-03-14\", \"antibody\": \"2130-1-0114-112\"}, {\"library\": \"Lib-2\", \"antibody_sample\": \"2022-03-14_thaw-3_antibody_2130-1-0114-112_8.79_1\", \"no-antibody_sample\": \"2022-03-14_thaw-3_no-antibody_control_1\", \"censored\": true, \"median\": 0.0, \"percentile_25\": 0.0, \"percentile_75\": 0.0111, \"min\": 0.0, \"max\": 1.0, \"antibody_library_sample\": \"Lib-2_2022-03-14_thaw-3_antibody_2130-1-0114-112_8.79_1\", \"virus_batch\": \"thaw-3\", \"date\": \"2022-03-14\", \"antibody\": \"2130-1-0114-112\"}, {\"library\": \"Lib-2\", \"antibody_sample\": \"2022-03-14_thaw-3_antibody_2130-1-0114-112_8.79_1\", \"no-antibody_sample\": \"2022-03-14_thaw-3_no-antibody_control_1\", \"censored\": false, \"median\": 0.0, \"percentile_25\": 0.0, \"percentile_75\": 0.0111, \"min\": 0.0, \"max\": 4.6735, \"antibody_library_sample\": \"Lib-2_2022-03-14_thaw-3_antibody_2130-1-0114-112_8.79_1\", \"virus_batch\": \"thaw-3\", \"date\": \"2022-03-14\", \"antibody\": \"2130-1-0114-112\"}, {\"library\": \"Lib-2\", \"antibody_sample\": \"2022-03-14_thaw-3_antibody_COV2-2130_0.8_1\", \"no-antibody_sample\": \"2022-03-14_thaw-3_no-antibody_control_1\", \"censored\": true, \"median\": 0.0328, \"percentile_25\": 0.0, \"percentile_75\": 0.0832, \"min\": 0.0, \"max\": 1.0, \"antibody_library_sample\": \"Lib-2_2022-03-14_thaw-3_antibody_COV2-2130_0.8_1\", \"virus_batch\": \"thaw-3\", \"date\": \"2022-03-14\", \"antibody\": \"COV2-2130\"}, {\"library\": \"Lib-2\", \"antibody_sample\": \"2022-03-14_thaw-3_antibody_COV2-2130_0.8_1\", \"no-antibody_sample\": \"2022-03-14_thaw-3_no-antibody_control_1\", \"censored\": false, \"median\": 0.0328, \"percentile_25\": 0.0, \"percentile_75\": 0.0832, \"min\": 0.0, \"max\": 4.7159, \"antibody_library_sample\": \"Lib-2_2022-03-14_thaw-3_antibody_COV2-2130_0.8_1\", \"virus_batch\": \"thaw-3\", \"date\": \"2022-03-14\", \"antibody\": \"COV2-2130\"}, {\"library\": \"Lib-2\", \"antibody_sample\": \"2022-03-14_thaw-3_antibody_COV2-2130_19.95_1\", \"no-antibody_sample\": \"2022-03-14_thaw-3_no-antibody_control_1\", \"censored\": true, \"median\": 0.0, \"percentile_25\": 0.0, \"percentile_75\": 0.0094, \"min\": 0.0, \"max\": 1.0, \"antibody_library_sample\": \"Lib-2_2022-03-14_thaw-3_antibody_COV2-2130_19.95_1\", \"virus_batch\": \"thaw-3\", \"date\": \"2022-03-14\", \"antibody\": \"COV2-2130\"}, {\"library\": \"Lib-2\", \"antibody_sample\": \"2022-03-14_thaw-3_antibody_COV2-2130_19.95_1\", \"no-antibody_sample\": \"2022-03-14_thaw-3_no-antibody_control_1\", \"censored\": false, \"median\": 0.0, \"percentile_25\": 0.0, \"percentile_75\": 0.0094, \"min\": 0.0, \"max\": 5.0351, \"antibody_library_sample\": \"Lib-2_2022-03-14_thaw-3_antibody_COV2-2130_19.95_1\", \"virus_batch\": \"thaw-3\", \"date\": \"2022-03-14\", \"antibody\": \"COV2-2130\"}, {\"library\": \"Lib-2\", \"antibody_sample\": \"2022-03-14_thaw-3_antibody_COV2-2130_3.99_1\", \"no-antibody_sample\": \"2022-03-14_thaw-3_no-antibody_control_1\", \"censored\": true, \"median\": 0.0, \"percentile_25\": 0.0, \"percentile_75\": 0.0123, \"min\": 0.0, \"max\": 1.0, \"antibody_library_sample\": \"Lib-2_2022-03-14_thaw-3_antibody_COV2-2130_3.99_1\", \"virus_batch\": \"thaw-3\", \"date\": \"2022-03-14\", \"antibody\": \"COV2-2130\"}, {\"library\": \"Lib-2\", \"antibody_sample\": \"2022-03-14_thaw-3_antibody_COV2-2130_3.99_1\", \"no-antibody_sample\": \"2022-03-14_thaw-3_no-antibody_control_1\", \"censored\": false, \"median\": 0.0, \"percentile_25\": 0.0, \"percentile_75\": 0.0123, \"min\": 0.0, \"max\": 5.0464, \"antibody_library_sample\": \"Lib-2_2022-03-14_thaw-3_antibody_COV2-2130_3.99_1\", \"virus_batch\": \"thaw-3\", \"date\": \"2022-03-14\", \"antibody\": \"COV2-2130\"}]}}, {\"mode\": \"vega-lite\"});\n",
       "</script>"
      ],
      "text/plain": [
       "alt.LayerChart(...)"
      ]
     },
     "execution_count": 12,
     "metadata": {},
     "output_type": "execute_result"
    }
   ],
   "source": [
    "# get data to plot\n",
    "prob_escape_boxplot_df = (\n",
    "    prob_escape_filtered.melt(\n",
    "        id_vars=[\"library\", \"antibody_sample\", \"no-antibody_sample\"],\n",
    "        value_vars=[\"prob_escape\", \"prob_escape_uncensored\"],\n",
    "        var_name=\"censored\",\n",
    "        value_name=\"probability escape\",\n",
    "    )\n",
    "    .groupby(\n",
    "        [\"library\", \"antibody_sample\", \"no-antibody_sample\", \"censored\"],\n",
    "        as_index=False,\n",
    "    )\n",
    "    .aggregate(\n",
    "        median=pd.NamedAgg(\"probability escape\", \"median\"),\n",
    "        percentile_25=pd.NamedAgg(\"probability escape\", lambda s: s.quantile(0.25)),\n",
    "        percentile_75=pd.NamedAgg(\"probability escape\", lambda s: s.quantile(0.75)),\n",
    "        min=pd.NamedAgg(\"probability escape\", \"min\"),\n",
    "        max=pd.NamedAgg(\"probability escape\", \"max\"),\n",
    "    )\n",
    "    .assign(censored=lambda x: (x[\"censored\"] == \"prob_escape\"))\n",
    "    .merge(\n",
    "        antibody_selections[\n",
    "            [\n",
    "                \"antibody_sample\",\n",
    "                \"antibody_library_sample\",\n",
    "                \"virus_batch\",\n",
    "                \"date\",\n",
    "                \"library\",\n",
    "                \"antibody\",\n",
    "            ]\n",
    "        ],\n",
    "        how=\"left\",\n",
    "        on=[\"library\", \"antibody_sample\"],\n",
    "        validate=\"many_to_one\",\n",
    "    )\n",
    ")\n",
    "assert (\n",
    "    len(prob_escape_boxplot_df)\n",
    "    == 2 * prob_escape_boxplot_df[\"antibody_library_sample\"].nunique()\n",
    ")\n",
    "\n",
    "# make plot\n",
    "prob_escape_base = alt.Chart(prob_escape_boxplot_df).encode(\n",
    "    y=alt.Y(\"antibody_library_sample\", title=None, sort=sample_order),\n",
    "    tooltip=[\n",
    "        alt.Tooltip(c, format=\".3g\")\n",
    "        if prob_escape_boxplot_df[c].dtype == \"float\"\n",
    "        else c\n",
    "        for c in prob_escape_boxplot_df.columns\n",
    "        if c != \"antibody_library_sample\"\n",
    "    ],\n",
    ")\n",
    "\n",
    "prob_escape_quartile_bars = prob_escape_base.encode(\n",
    "    alt.X(\n",
    "        \"percentile_25\",\n",
    "        scale=alt.Scale(type=\"symlog\", constant=0.25),\n",
    "        title=\"probability escape\",\n",
    "    ),\n",
    "    alt.X2(\"percentile_75\"),\n",
    ").mark_bar(color=\"blue\")\n",
    "\n",
    "prob_escape_range_lines = prob_escape_base.encode(\n",
    "    alt.X(\"min\"),\n",
    "    alt.X2(\"max\"),\n",
    ").mark_rule(color=\"blue\", opacity=0.5)\n",
    "\n",
    "prob_escape_median_lines = prob_escape_base.encode(\n",
    "    alt.X(\"median\"), alt.X2(\"median\")\n",
    ").mark_bar(xOffset=1, x2Offset=-1, color=\"black\")\n",
    "\n",
    "prob_escape_chart = (\n",
    "    (prob_escape_quartile_bars + prob_escape_range_lines + prob_escape_median_lines)\n",
    "    .configure_axis(labelLimit=500)\n",
    "    .properties(width=350, height=alt.Step(14))\n",
    ")\n",
    "\n",
    "censored_dropdown_selection = alt.selection_point(\n",
    "    fields=[\"censored\"],\n",
    "    value=[{\"censored\": True}],\n",
    "    bind=alt.binding_select(\n",
    "        options=prob_escape_boxplot_df[\"censored\"].unique().tolist(),\n",
    "        name=\"censored\",\n",
    "    ),\n",
    ")\n",
    "\n",
    "for s in list(selections) + [censored_dropdown_selection]:\n",
    "    prob_escape_chart = prob_escape_chart.add_params(s).transform_filter(s)\n",
    "\n",
    "prob_escape_chart"
   ]
  },
  {
   "cell_type": "markdown",
   "id": "1276a54a-8b7e-4dd2-b4cd-73a5b4b28d57",
   "metadata": {
    "papermill": {
     "duration": 0.011419,
     "end_time": "2023-02-15T21:15:15.967013",
     "exception": false,
     "start_time": "2023-02-15T21:15:15.955594",
     "status": "completed"
    },
    "tags": []
   },
   "source": [
    "## Correlations in variant-level escape probabilities\n",
    "Analyze correlations of escape probabilities of different variants in same library:"
   ]
  },
  {
   "cell_type": "code",
   "execution_count": 13,
   "id": "cef2ce47-6554-4181-b463-2bd04233e2a6",
   "metadata": {
    "execution": {
     "iopub.execute_input": "2023-02-15T21:15:16.020287Z",
     "iopub.status.busy": "2023-02-15T21:15:16.020033Z",
     "iopub.status.idle": "2023-02-15T21:15:20.450647Z",
     "shell.execute_reply": "2023-02-15T21:15:20.449563Z"
    },
    "papermill": {
     "duration": 4.473665,
     "end_time": "2023-02-15T21:15:20.452375",
     "exception": false,
     "start_time": "2023-02-15T21:15:15.978710",
     "status": "completed"
    },
    "tags": []
   },
   "outputs": [
    {
     "name": "stderr",
     "output_type": "stream",
     "text": [
      "/fh/fast/bloom_j/computational_notebooks/bdadonai/2023/SARS-CoV-2_Omicron_BA.2_spike_DMS_COV2-2130/.snakemake/conda/45bc3d5d5f3c59dc3b1a5cd7008fb812_/lib/python3.11/site-packages/dms_variants/utils.py:360: FutureWarning: The default value of numeric_only in DataFrameGroupBy.corr is deprecated. In a future version, numeric_only will default to False. Either specify numeric_only or select only columns which should be valid for the function.\n"
     ]
    }
   ],
   "source": [
    "assert len(\n",
    "    prob_escape_filtered.groupby([\"library\", \"antibody_sample\", \"no-antibody_sample\"])\n",
    ") == len(prob_escape_filtered.groupby([\"library\", \"antibody_sample\"]))\n",
    "\n",
    "prob_escape_tidy = (\n",
    "    prob_escape_filtered.rename(\n",
    "        columns={\"prob_escape\": \"censored\", \"prob_escape_uncensored\": \"uncensored\"}\n",
    "    )\n",
    "    .melt(\n",
    "        id_vars=[\"antibody_sample\", \"barcode\", \"library\"],\n",
    "        value_vars=[\"censored\", \"uncensored\"],\n",
    "        value_name=\"prob_escape\",\n",
    "        var_name=\"censored\",\n",
    "    )\n",
    "    .assign(\n",
    "        censored=lambda x: x[\"censored\"].map({\"censored\": True, \"uncensored\": False})\n",
    "    )\n",
    ")\n",
    "\n",
    "corrs = (\n",
    "    dms_variants.utils.tidy_to_corr(\n",
    "        df=prob_escape_tidy,\n",
    "        sample_col=\"antibody_sample\",\n",
    "        label_col=\"barcode\",\n",
    "        value_col=\"prob_escape\",\n",
    "        group_cols=[\"library\", \"censored\"],\n",
    "    )\n",
    "    .assign(r2=lambda x: x[\"correlation\"] ** 2)\n",
    "    .drop(columns=\"correlation\")\n",
    ")\n",
    "\n",
    "# add other properties\n",
    "suffixes = [\"_1\", \"_2\"]\n",
    "for suffix in suffixes:\n",
    "    corrs = corrs.merge(\n",
    "        antibody_selections,\n",
    "        left_on=[\"library\", f\"antibody_sample{suffix}\"],\n",
    "        right_on=[\"library\", \"antibody_sample\"],\n",
    "        validate=\"many_to_one\",\n",
    "        suffixes=suffixes,\n",
    "    ).drop(\n",
    "        columns=[\n",
    "            \"antibody_library_sample\",\n",
    "            \"no-antibody_library_sample\",\n",
    "            \"no-antibody_sample\",\n",
    "            \"antibody_sample\",\n",
    "            \"replicate\",\n",
    "        ]\n",
    "    )\n",
    "\n",
    "# make columns identical for both samples drop suffix for selections\n",
    "for col in antibody_selections.columns:\n",
    "    if (\n",
    "        f\"{col}_1\" in corrs.columns\n",
    "        and f\"{col}_2\" in corrs.columns\n",
    "        and col != \"antibody_sample\"\n",
    "    ):\n",
    "        equal = corrs[f\"{col}_1\"] == corrs[f\"{col}_2\"]\n",
    "        corrs[col] = corrs[f\"{col}_1\"].where(equal, pd.NA)\n",
    "        corrs = corrs.drop(columns=[f\"{col}{suffix}\" for suffix in suffixes])"
   ]
  },
  {
   "cell_type": "code",
   "execution_count": 14,
   "id": "60493c42-5982-409d-9ce3-aa037a93742b",
   "metadata": {
    "execution": {
     "iopub.execute_input": "2023-02-15T21:15:20.480463Z",
     "iopub.status.busy": "2023-02-15T21:15:20.480055Z",
     "iopub.status.idle": "2023-02-15T21:15:20.636730Z",
     "shell.execute_reply": "2023-02-15T21:15:20.636165Z"
    },
    "papermill": {
     "duration": 0.171557,
     "end_time": "2023-02-15T21:15:20.638377",
     "exception": false,
     "start_time": "2023-02-15T21:15:20.466820",
     "status": "completed"
    },
    "tags": []
   },
   "outputs": [
    {
     "data": {
      "text/html": [
       "\n",
       "<div id=\"altair-viz-624af0982a4442b5bf30ac2c814aa8b4\"></div>\n",
       "<script type=\"text/javascript\">\n",
       "  var VEGA_DEBUG = (typeof VEGA_DEBUG == \"undefined\") ? {} : VEGA_DEBUG;\n",
       "  (function(spec, embedOpt){\n",
       "    let outputDiv = document.currentScript.previousElementSibling;\n",
       "    if (outputDiv.id !== \"altair-viz-624af0982a4442b5bf30ac2c814aa8b4\") {\n",
       "      outputDiv = document.getElementById(\"altair-viz-624af0982a4442b5bf30ac2c814aa8b4\");\n",
       "    }\n",
       "    const paths = {\n",
       "      \"vega\": \"https://cdn.jsdelivr.net/npm/vega@5?noext\",\n",
       "      \"vega-lib\": \"https://cdn.jsdelivr.net/npm/vega-lib?noext\",\n",
       "      \"vega-lite\": \"https://cdn.jsdelivr.net/npm/vega-lite@5.2.0?noext\",\n",
       "      \"vega-embed\": \"https://cdn.jsdelivr.net/npm/vega-embed@6?noext\",\n",
       "    };\n",
       "\n",
       "    function maybeLoadScript(lib, version) {\n",
       "      var key = `${lib.replace(\"-\", \"\")}_version`;\n",
       "      return (VEGA_DEBUG[key] == version) ?\n",
       "        Promise.resolve(paths[lib]) :\n",
       "        new Promise(function(resolve, reject) {\n",
       "          var s = document.createElement('script');\n",
       "          document.getElementsByTagName(\"head\")[0].appendChild(s);\n",
       "          s.async = true;\n",
       "          s.onload = () => {\n",
       "            VEGA_DEBUG[key] = version;\n",
       "            return resolve(paths[lib]);\n",
       "          };\n",
       "          s.onerror = () => reject(`Error loading script: ${paths[lib]}`);\n",
       "          s.src = paths[lib];\n",
       "        });\n",
       "    }\n",
       "\n",
       "    function showError(err) {\n",
       "      outputDiv.innerHTML = `<div class=\"error\" style=\"color:red;\">${err}</div>`;\n",
       "      throw err;\n",
       "    }\n",
       "\n",
       "    function displayChart(vegaEmbed) {\n",
       "      vegaEmbed(outputDiv, spec, embedOpt)\n",
       "        .catch(err => showError(`Javascript Error: ${err.message}<br>This usually means there's a typo in your chart specification. See the javascript console for the full traceback.`));\n",
       "    }\n",
       "\n",
       "    if(typeof define === \"function\" && define.amd) {\n",
       "      requirejs.config({paths});\n",
       "      require([\"vega-embed\"], displayChart, err => showError(`Error loading script: ${err.message}`));\n",
       "    } else {\n",
       "      maybeLoadScript(\"vega\", \"5\")\n",
       "        .then(() => maybeLoadScript(\"vega-lite\", \"5.2.0\"))\n",
       "        .then(() => maybeLoadScript(\"vega-embed\", \"6\"))\n",
       "        .catch(showError)\n",
       "        .then(() => displayChart(vegaEmbed));\n",
       "    }\n",
       "  })({\"config\": {\"view\": {\"continuousWidth\": 300, \"continuousHeight\": 300}, \"axis\": {\"labelLimit\": 500}}, \"data\": {\"name\": \"data-5b16b709ab40634c2ef96f60b07f44fb\"}, \"mark\": {\"type\": \"rect\", \"stroke\": \"black\"}, \"encoding\": {\"color\": {\"field\": \"r2\", \"scale\": {\"zero\": true}, \"type\": \"quantitative\"}, \"tooltip\": [{\"field\": \"library\", \"type\": \"nominal\"}, {\"field\": \"antibody_sample_1\", \"type\": \"nominal\"}, {\"field\": \"antibody_sample_2\", \"type\": \"nominal\"}, {\"field\": \"r2\", \"format\": \".3g\", \"type\": \"quantitative\"}], \"x\": {\"field\": \"antibody_sample_1\", \"title\": null, \"type\": \"nominal\"}, \"y\": {\"field\": \"antibody_sample_2\", \"title\": null, \"type\": \"nominal\"}}, \"height\": {\"step\": 15}, \"params\": [{\"name\": \"param_2\", \"select\": {\"type\": \"point\", \"fields\": [\"date\"]}, \"bind\": {\"input\": \"select\", \"options\": [null, \"2022-03-14\"], \"labels\": [\"all\", \"2022-03-14\"], \"name\": \"date\"}}, {\"name\": \"param_3\", \"select\": {\"type\": \"point\", \"fields\": [\"antibody\"]}, \"bind\": {\"input\": \"select\", \"options\": [null, \"COV2-2130\", \"2130-1-0114-112\"], \"labels\": [\"all\", \"COV2-2130\", \"2130-1-0114-112\"], \"name\": \"antibody\"}}, {\"name\": \"param_4\", \"select\": {\"type\": \"point\", \"fields\": [\"virus_batch\"]}, \"bind\": {\"input\": \"select\", \"options\": [null, \"thaw-3\"], \"labels\": [\"all\", \"thaw-3\"], \"name\": \"virus_batch\"}}, {\"name\": \"param_8\", \"select\": {\"type\": \"point\", \"fields\": [\"censored\"]}, \"bind\": {\"input\": \"select\", \"options\": [true, false], \"name\": \"censored\"}, \"value\": [{\"censored\": true}]}], \"title\": \"Lib-1\", \"transform\": [{\"filter\": {\"param\": \"param_2\"}}, {\"filter\": {\"param\": \"param_3\"}}, {\"filter\": {\"param\": \"param_4\"}}, {\"filter\": {\"param\": \"param_8\"}}], \"width\": {\"step\": 15}, \"$schema\": \"https://vega.github.io/schema/vega-lite/v5.2.0.json\", \"datasets\": {\"data-5b16b709ab40634c2ef96f60b07f44fb\": [{\"library\": \"Lib-1\", \"censored\": false, \"antibody_sample_1\": \"2022-03-14_thaw-3_antibody_2130-1-0114-112_1.76_1\", \"antibody_sample_2\": \"2022-03-14_thaw-3_antibody_2130-1-0114-112_1.76_1\", \"r2\": 1.0, \"antibody\": \"2130-1-0114-112\", \"antibody_concentration\": 1.76, \"virus_batch\": \"thaw-3\", \"date\": \"2022-03-14\", \"selection_group\": \"Lib-1_2022-03-14_thaw-3_2130-1-0114-112_1\"}, {\"library\": \"Lib-1\", \"censored\": true, \"antibody_sample_1\": \"2022-03-14_thaw-3_antibody_2130-1-0114-112_1.76_1\", \"antibody_sample_2\": \"2022-03-14_thaw-3_antibody_2130-1-0114-112_1.76_1\", \"r2\": 1.0, \"antibody\": \"2130-1-0114-112\", \"antibody_concentration\": 1.76, \"virus_batch\": \"thaw-3\", \"date\": \"2022-03-14\", \"selection_group\": \"Lib-1_2022-03-14_thaw-3_2130-1-0114-112_1\"}, {\"library\": \"Lib-1\", \"censored\": false, \"antibody_sample_1\": \"2022-03-14_thaw-3_antibody_2130-1-0114-112_43.94_1\", \"antibody_sample_2\": \"2022-03-14_thaw-3_antibody_2130-1-0114-112_1.76_1\", \"r2\": 0.00031060374945671696, \"antibody\": \"2130-1-0114-112\", \"antibody_concentration\": null, \"virus_batch\": \"thaw-3\", \"date\": \"2022-03-14\", \"selection_group\": \"Lib-1_2022-03-14_thaw-3_2130-1-0114-112_1\"}, {\"library\": \"Lib-1\", \"censored\": true, \"antibody_sample_1\": \"2022-03-14_thaw-3_antibody_2130-1-0114-112_43.94_1\", \"antibody_sample_2\": \"2022-03-14_thaw-3_antibody_2130-1-0114-112_1.76_1\", \"r2\": 0.004623957346902543, \"antibody\": \"2130-1-0114-112\", \"antibody_concentration\": null, \"virus_batch\": \"thaw-3\", \"date\": \"2022-03-14\", \"selection_group\": \"Lib-1_2022-03-14_thaw-3_2130-1-0114-112_1\"}, {\"library\": \"Lib-1\", \"censored\": false, \"antibody_sample_1\": \"2022-03-14_thaw-3_antibody_2130-1-0114-112_8.79_1\", \"antibody_sample_2\": \"2022-03-14_thaw-3_antibody_2130-1-0114-112_1.76_1\", \"r2\": 0.004813171929962139, \"antibody\": \"2130-1-0114-112\", \"antibody_concentration\": null, \"virus_batch\": \"thaw-3\", \"date\": \"2022-03-14\", \"selection_group\": \"Lib-1_2022-03-14_thaw-3_2130-1-0114-112_1\"}, {\"library\": \"Lib-1\", \"censored\": true, \"antibody_sample_1\": \"2022-03-14_thaw-3_antibody_2130-1-0114-112_8.79_1\", \"antibody_sample_2\": \"2022-03-14_thaw-3_antibody_2130-1-0114-112_1.76_1\", \"r2\": 3.730784568413469e-05, \"antibody\": \"2130-1-0114-112\", \"antibody_concentration\": null, \"virus_batch\": \"thaw-3\", \"date\": \"2022-03-14\", \"selection_group\": \"Lib-1_2022-03-14_thaw-3_2130-1-0114-112_1\"}, {\"library\": \"Lib-1\", \"censored\": false, \"antibody_sample_1\": \"2022-03-14_thaw-3_antibody_COV2-2130_0.8_1\", \"antibody_sample_2\": \"2022-03-14_thaw-3_antibody_2130-1-0114-112_1.76_1\", \"r2\": 0.013041705359248444, \"antibody\": null, \"antibody_concentration\": null, \"virus_batch\": \"thaw-3\", \"date\": \"2022-03-14\", \"selection_group\": null}, {\"library\": \"Lib-1\", \"censored\": true, \"antibody_sample_1\": \"2022-03-14_thaw-3_antibody_COV2-2130_0.8_1\", \"antibody_sample_2\": \"2022-03-14_thaw-3_antibody_2130-1-0114-112_1.76_1\", \"r2\": 0.0026586208124886514, \"antibody\": null, \"antibody_concentration\": null, \"virus_batch\": \"thaw-3\", \"date\": \"2022-03-14\", \"selection_group\": null}, {\"library\": \"Lib-1\", \"censored\": false, \"antibody_sample_1\": \"2022-03-14_thaw-3_antibody_COV2-2130_19.95_1\", \"antibody_sample_2\": \"2022-03-14_thaw-3_antibody_2130-1-0114-112_1.76_1\", \"r2\": 0.002005491686736125, \"antibody\": null, \"antibody_concentration\": null, \"virus_batch\": \"thaw-3\", \"date\": \"2022-03-14\", \"selection_group\": null}, {\"library\": \"Lib-1\", \"censored\": true, \"antibody_sample_1\": \"2022-03-14_thaw-3_antibody_COV2-2130_19.95_1\", \"antibody_sample_2\": \"2022-03-14_thaw-3_antibody_2130-1-0114-112_1.76_1\", \"r2\": 0.0012685513717528025, \"antibody\": null, \"antibody_concentration\": null, \"virus_batch\": \"thaw-3\", \"date\": \"2022-03-14\", \"selection_group\": null}, {\"library\": \"Lib-1\", \"censored\": false, \"antibody_sample_1\": \"2022-03-14_thaw-3_antibody_COV2-2130_3.99_1\", \"antibody_sample_2\": \"2022-03-14_thaw-3_antibody_2130-1-0114-112_1.76_1\", \"r2\": 0.0025108031037810513, \"antibody\": null, \"antibody_concentration\": null, \"virus_batch\": \"thaw-3\", \"date\": \"2022-03-14\", \"selection_group\": null}, {\"library\": \"Lib-1\", \"censored\": true, \"antibody_sample_1\": \"2022-03-14_thaw-3_antibody_COV2-2130_3.99_1\", \"antibody_sample_2\": \"2022-03-14_thaw-3_antibody_2130-1-0114-112_1.76_1\", \"r2\": 0.0007401262054812363, \"antibody\": null, \"antibody_concentration\": null, \"virus_batch\": \"thaw-3\", \"date\": \"2022-03-14\", \"selection_group\": null}, {\"library\": \"Lib-1\", \"censored\": false, \"antibody_sample_1\": \"2022-03-14_thaw-3_antibody_2130-1-0114-112_1.76_1\", \"antibody_sample_2\": \"2022-03-14_thaw-3_antibody_2130-1-0114-112_43.94_1\", \"r2\": 0.00031060374945671696, \"antibody\": \"2130-1-0114-112\", \"antibody_concentration\": null, \"virus_batch\": \"thaw-3\", \"date\": \"2022-03-14\", \"selection_group\": \"Lib-1_2022-03-14_thaw-3_2130-1-0114-112_1\"}, {\"library\": \"Lib-1\", \"censored\": true, \"antibody_sample_1\": \"2022-03-14_thaw-3_antibody_2130-1-0114-112_1.76_1\", \"antibody_sample_2\": \"2022-03-14_thaw-3_antibody_2130-1-0114-112_43.94_1\", \"r2\": 0.004623957346902543, \"antibody\": \"2130-1-0114-112\", \"antibody_concentration\": null, \"virus_batch\": \"thaw-3\", \"date\": \"2022-03-14\", \"selection_group\": \"Lib-1_2022-03-14_thaw-3_2130-1-0114-112_1\"}, {\"library\": \"Lib-1\", \"censored\": false, \"antibody_sample_1\": \"2022-03-14_thaw-3_antibody_2130-1-0114-112_43.94_1\", \"antibody_sample_2\": \"2022-03-14_thaw-3_antibody_2130-1-0114-112_43.94_1\", \"r2\": 1.0, \"antibody\": \"2130-1-0114-112\", \"antibody_concentration\": 43.94, \"virus_batch\": \"thaw-3\", \"date\": \"2022-03-14\", \"selection_group\": \"Lib-1_2022-03-14_thaw-3_2130-1-0114-112_1\"}, {\"library\": \"Lib-1\", \"censored\": true, \"antibody_sample_1\": \"2022-03-14_thaw-3_antibody_2130-1-0114-112_43.94_1\", \"antibody_sample_2\": \"2022-03-14_thaw-3_antibody_2130-1-0114-112_43.94_1\", \"r2\": 1.0, \"antibody\": \"2130-1-0114-112\", \"antibody_concentration\": 43.94, \"virus_batch\": \"thaw-3\", \"date\": \"2022-03-14\", \"selection_group\": \"Lib-1_2022-03-14_thaw-3_2130-1-0114-112_1\"}, {\"library\": \"Lib-1\", \"censored\": false, \"antibody_sample_1\": \"2022-03-14_thaw-3_antibody_2130-1-0114-112_8.79_1\", \"antibody_sample_2\": \"2022-03-14_thaw-3_antibody_2130-1-0114-112_43.94_1\", \"r2\": 0.13924220632100426, \"antibody\": \"2130-1-0114-112\", \"antibody_concentration\": null, \"virus_batch\": \"thaw-3\", \"date\": \"2022-03-14\", \"selection_group\": \"Lib-1_2022-03-14_thaw-3_2130-1-0114-112_1\"}, {\"library\": \"Lib-1\", \"censored\": true, \"antibody_sample_1\": \"2022-03-14_thaw-3_antibody_2130-1-0114-112_8.79_1\", \"antibody_sample_2\": \"2022-03-14_thaw-3_antibody_2130-1-0114-112_43.94_1\", \"r2\": 0.08762066450809432, \"antibody\": \"2130-1-0114-112\", \"antibody_concentration\": null, \"virus_batch\": \"thaw-3\", \"date\": \"2022-03-14\", \"selection_group\": \"Lib-1_2022-03-14_thaw-3_2130-1-0114-112_1\"}, {\"library\": \"Lib-1\", \"censored\": false, \"antibody_sample_1\": \"2022-03-14_thaw-3_antibody_COV2-2130_0.8_1\", \"antibody_sample_2\": \"2022-03-14_thaw-3_antibody_2130-1-0114-112_43.94_1\", \"r2\": 0.08078964566105167, \"antibody\": null, \"antibody_concentration\": null, \"virus_batch\": \"thaw-3\", \"date\": \"2022-03-14\", \"selection_group\": null}, {\"library\": \"Lib-1\", \"censored\": true, \"antibody_sample_1\": \"2022-03-14_thaw-3_antibody_COV2-2130_0.8_1\", \"antibody_sample_2\": \"2022-03-14_thaw-3_antibody_2130-1-0114-112_43.94_1\", \"r2\": 0.05202380892763838, \"antibody\": null, \"antibody_concentration\": null, \"virus_batch\": \"thaw-3\", \"date\": \"2022-03-14\", \"selection_group\": null}, {\"library\": \"Lib-1\", \"censored\": false, \"antibody_sample_1\": \"2022-03-14_thaw-3_antibody_COV2-2130_19.95_1\", \"antibody_sample_2\": \"2022-03-14_thaw-3_antibody_2130-1-0114-112_43.94_1\", \"r2\": 0.16100168142117033, \"antibody\": null, \"antibody_concentration\": null, \"virus_batch\": \"thaw-3\", \"date\": \"2022-03-14\", \"selection_group\": null}, {\"library\": \"Lib-1\", \"censored\": true, \"antibody_sample_1\": \"2022-03-14_thaw-3_antibody_COV2-2130_19.95_1\", \"antibody_sample_2\": \"2022-03-14_thaw-3_antibody_2130-1-0114-112_43.94_1\", \"r2\": 0.11548225185062368, \"antibody\": null, \"antibody_concentration\": null, \"virus_batch\": \"thaw-3\", \"date\": \"2022-03-14\", \"selection_group\": null}, {\"library\": \"Lib-1\", \"censored\": false, \"antibody_sample_1\": \"2022-03-14_thaw-3_antibody_COV2-2130_3.99_1\", \"antibody_sample_2\": \"2022-03-14_thaw-3_antibody_2130-1-0114-112_43.94_1\", \"r2\": 0.12748637323606044, \"antibody\": null, \"antibody_concentration\": null, \"virus_batch\": \"thaw-3\", \"date\": \"2022-03-14\", \"selection_group\": null}, {\"library\": \"Lib-1\", \"censored\": true, \"antibody_sample_1\": \"2022-03-14_thaw-3_antibody_COV2-2130_3.99_1\", \"antibody_sample_2\": \"2022-03-14_thaw-3_antibody_2130-1-0114-112_43.94_1\", \"r2\": 0.10238693956211611, \"antibody\": null, \"antibody_concentration\": null, \"virus_batch\": \"thaw-3\", \"date\": \"2022-03-14\", \"selection_group\": null}, {\"library\": \"Lib-1\", \"censored\": false, \"antibody_sample_1\": \"2022-03-14_thaw-3_antibody_2130-1-0114-112_1.76_1\", \"antibody_sample_2\": \"2022-03-14_thaw-3_antibody_2130-1-0114-112_8.79_1\", \"r2\": 0.004813171929962139, \"antibody\": \"2130-1-0114-112\", \"antibody_concentration\": null, \"virus_batch\": \"thaw-3\", \"date\": \"2022-03-14\", \"selection_group\": \"Lib-1_2022-03-14_thaw-3_2130-1-0114-112_1\"}, {\"library\": \"Lib-1\", \"censored\": true, \"antibody_sample_1\": \"2022-03-14_thaw-3_antibody_2130-1-0114-112_1.76_1\", \"antibody_sample_2\": \"2022-03-14_thaw-3_antibody_2130-1-0114-112_8.79_1\", \"r2\": 3.730784568413469e-05, \"antibody\": \"2130-1-0114-112\", \"antibody_concentration\": null, \"virus_batch\": \"thaw-3\", \"date\": \"2022-03-14\", \"selection_group\": \"Lib-1_2022-03-14_thaw-3_2130-1-0114-112_1\"}, {\"library\": \"Lib-1\", \"censored\": false, \"antibody_sample_1\": \"2022-03-14_thaw-3_antibody_2130-1-0114-112_43.94_1\", \"antibody_sample_2\": \"2022-03-14_thaw-3_antibody_2130-1-0114-112_8.79_1\", \"r2\": 0.13924220632100426, \"antibody\": \"2130-1-0114-112\", \"antibody_concentration\": null, \"virus_batch\": \"thaw-3\", \"date\": \"2022-03-14\", \"selection_group\": \"Lib-1_2022-03-14_thaw-3_2130-1-0114-112_1\"}, {\"library\": \"Lib-1\", \"censored\": true, \"antibody_sample_1\": \"2022-03-14_thaw-3_antibody_2130-1-0114-112_43.94_1\", \"antibody_sample_2\": \"2022-03-14_thaw-3_antibody_2130-1-0114-112_8.79_1\", \"r2\": 0.08762066450809432, \"antibody\": \"2130-1-0114-112\", \"antibody_concentration\": null, \"virus_batch\": \"thaw-3\", \"date\": \"2022-03-14\", \"selection_group\": \"Lib-1_2022-03-14_thaw-3_2130-1-0114-112_1\"}, {\"library\": \"Lib-1\", \"censored\": false, \"antibody_sample_1\": \"2022-03-14_thaw-3_antibody_2130-1-0114-112_8.79_1\", \"antibody_sample_2\": \"2022-03-14_thaw-3_antibody_2130-1-0114-112_8.79_1\", \"r2\": 1.0, \"antibody\": \"2130-1-0114-112\", \"antibody_concentration\": 8.79, \"virus_batch\": \"thaw-3\", \"date\": \"2022-03-14\", \"selection_group\": \"Lib-1_2022-03-14_thaw-3_2130-1-0114-112_1\"}, {\"library\": \"Lib-1\", \"censored\": true, \"antibody_sample_1\": \"2022-03-14_thaw-3_antibody_2130-1-0114-112_8.79_1\", \"antibody_sample_2\": \"2022-03-14_thaw-3_antibody_2130-1-0114-112_8.79_1\", \"r2\": 1.0, \"antibody\": \"2130-1-0114-112\", \"antibody_concentration\": 8.79, \"virus_batch\": \"thaw-3\", \"date\": \"2022-03-14\", \"selection_group\": \"Lib-1_2022-03-14_thaw-3_2130-1-0114-112_1\"}, {\"library\": \"Lib-1\", \"censored\": false, \"antibody_sample_1\": \"2022-03-14_thaw-3_antibody_COV2-2130_0.8_1\", \"antibody_sample_2\": \"2022-03-14_thaw-3_antibody_2130-1-0114-112_8.79_1\", \"r2\": 0.291445134504844, \"antibody\": null, \"antibody_concentration\": null, \"virus_batch\": \"thaw-3\", \"date\": \"2022-03-14\", \"selection_group\": null}, {\"library\": \"Lib-1\", \"censored\": true, \"antibody_sample_1\": \"2022-03-14_thaw-3_antibody_COV2-2130_0.8_1\", \"antibody_sample_2\": \"2022-03-14_thaw-3_antibody_2130-1-0114-112_8.79_1\", \"r2\": 0.16161564927686292, \"antibody\": null, \"antibody_concentration\": null, \"virus_batch\": \"thaw-3\", \"date\": \"2022-03-14\", \"selection_group\": null}, {\"library\": \"Lib-1\", \"censored\": false, \"antibody_sample_1\": \"2022-03-14_thaw-3_antibody_COV2-2130_19.95_1\", \"antibody_sample_2\": \"2022-03-14_thaw-3_antibody_2130-1-0114-112_8.79_1\", \"r2\": 0.33698359853313303, \"antibody\": null, \"antibody_concentration\": null, \"virus_batch\": \"thaw-3\", \"date\": \"2022-03-14\", \"selection_group\": null}, {\"library\": \"Lib-1\", \"censored\": true, \"antibody_sample_1\": \"2022-03-14_thaw-3_antibody_COV2-2130_19.95_1\", \"antibody_sample_2\": \"2022-03-14_thaw-3_antibody_2130-1-0114-112_8.79_1\", \"r2\": 0.21236054259190043, \"antibody\": null, \"antibody_concentration\": null, \"virus_batch\": \"thaw-3\", \"date\": \"2022-03-14\", \"selection_group\": null}, {\"library\": \"Lib-1\", \"censored\": false, \"antibody_sample_1\": \"2022-03-14_thaw-3_antibody_COV2-2130_3.99_1\", \"antibody_sample_2\": \"2022-03-14_thaw-3_antibody_2130-1-0114-112_8.79_1\", \"r2\": 0.3580971071036625, \"antibody\": null, \"antibody_concentration\": null, \"virus_batch\": \"thaw-3\", \"date\": \"2022-03-14\", \"selection_group\": null}, {\"library\": \"Lib-1\", \"censored\": true, \"antibody_sample_1\": \"2022-03-14_thaw-3_antibody_COV2-2130_3.99_1\", \"antibody_sample_2\": \"2022-03-14_thaw-3_antibody_2130-1-0114-112_8.79_1\", \"r2\": 0.21711066025141093, \"antibody\": null, \"antibody_concentration\": null, \"virus_batch\": \"thaw-3\", \"date\": \"2022-03-14\", \"selection_group\": null}, {\"library\": \"Lib-1\", \"censored\": false, \"antibody_sample_1\": \"2022-03-14_thaw-3_antibody_2130-1-0114-112_1.76_1\", \"antibody_sample_2\": \"2022-03-14_thaw-3_antibody_COV2-2130_0.8_1\", \"r2\": 0.013041705359248444, \"antibody\": null, \"antibody_concentration\": null, \"virus_batch\": \"thaw-3\", \"date\": \"2022-03-14\", \"selection_group\": null}, {\"library\": \"Lib-1\", \"censored\": true, \"antibody_sample_1\": \"2022-03-14_thaw-3_antibody_2130-1-0114-112_1.76_1\", \"antibody_sample_2\": \"2022-03-14_thaw-3_antibody_COV2-2130_0.8_1\", \"r2\": 0.0026586208124886514, \"antibody\": null, \"antibody_concentration\": null, \"virus_batch\": \"thaw-3\", \"date\": \"2022-03-14\", \"selection_group\": null}, {\"library\": \"Lib-1\", \"censored\": false, \"antibody_sample_1\": \"2022-03-14_thaw-3_antibody_2130-1-0114-112_43.94_1\", \"antibody_sample_2\": \"2022-03-14_thaw-3_antibody_COV2-2130_0.8_1\", \"r2\": 0.08078964566105167, \"antibody\": null, \"antibody_concentration\": null, \"virus_batch\": \"thaw-3\", \"date\": \"2022-03-14\", \"selection_group\": null}, {\"library\": \"Lib-1\", \"censored\": true, \"antibody_sample_1\": \"2022-03-14_thaw-3_antibody_2130-1-0114-112_43.94_1\", \"antibody_sample_2\": \"2022-03-14_thaw-3_antibody_COV2-2130_0.8_1\", \"r2\": 0.05202380892763838, \"antibody\": null, \"antibody_concentration\": null, \"virus_batch\": \"thaw-3\", \"date\": \"2022-03-14\", \"selection_group\": null}, {\"library\": \"Lib-1\", \"censored\": false, \"antibody_sample_1\": \"2022-03-14_thaw-3_antibody_2130-1-0114-112_8.79_1\", \"antibody_sample_2\": \"2022-03-14_thaw-3_antibody_COV2-2130_0.8_1\", \"r2\": 0.291445134504844, \"antibody\": null, \"antibody_concentration\": null, \"virus_batch\": \"thaw-3\", \"date\": \"2022-03-14\", \"selection_group\": null}, {\"library\": \"Lib-1\", \"censored\": true, \"antibody_sample_1\": \"2022-03-14_thaw-3_antibody_2130-1-0114-112_8.79_1\", \"antibody_sample_2\": \"2022-03-14_thaw-3_antibody_COV2-2130_0.8_1\", \"r2\": 0.16161564927686292, \"antibody\": null, \"antibody_concentration\": null, \"virus_batch\": \"thaw-3\", \"date\": \"2022-03-14\", \"selection_group\": null}, {\"library\": \"Lib-1\", \"censored\": false, \"antibody_sample_1\": \"2022-03-14_thaw-3_antibody_COV2-2130_0.8_1\", \"antibody_sample_2\": \"2022-03-14_thaw-3_antibody_COV2-2130_0.8_1\", \"r2\": 1.0, \"antibody\": \"COV2-2130\", \"antibody_concentration\": 0.8, \"virus_batch\": \"thaw-3\", \"date\": \"2022-03-14\", \"selection_group\": \"Lib-1_2022-03-14_thaw-3_COV2-2130_1\"}, {\"library\": \"Lib-1\", \"censored\": true, \"antibody_sample_1\": \"2022-03-14_thaw-3_antibody_COV2-2130_0.8_1\", \"antibody_sample_2\": \"2022-03-14_thaw-3_antibody_COV2-2130_0.8_1\", \"r2\": 1.0, \"antibody\": \"COV2-2130\", \"antibody_concentration\": 0.8, \"virus_batch\": \"thaw-3\", \"date\": \"2022-03-14\", \"selection_group\": \"Lib-1_2022-03-14_thaw-3_COV2-2130_1\"}, {\"library\": \"Lib-1\", \"censored\": false, \"antibody_sample_1\": \"2022-03-14_thaw-3_antibody_COV2-2130_19.95_1\", \"antibody_sample_2\": \"2022-03-14_thaw-3_antibody_COV2-2130_0.8_1\", \"r2\": 0.30052469358585504, \"antibody\": \"COV2-2130\", \"antibody_concentration\": null, \"virus_batch\": \"thaw-3\", \"date\": \"2022-03-14\", \"selection_group\": \"Lib-1_2022-03-14_thaw-3_COV2-2130_1\"}, {\"library\": \"Lib-1\", \"censored\": true, \"antibody_sample_1\": \"2022-03-14_thaw-3_antibody_COV2-2130_19.95_1\", \"antibody_sample_2\": \"2022-03-14_thaw-3_antibody_COV2-2130_0.8_1\", \"r2\": 0.16232155705990897, \"antibody\": \"COV2-2130\", \"antibody_concentration\": null, \"virus_batch\": \"thaw-3\", \"date\": \"2022-03-14\", \"selection_group\": \"Lib-1_2022-03-14_thaw-3_COV2-2130_1\"}, {\"library\": \"Lib-1\", \"censored\": false, \"antibody_sample_1\": \"2022-03-14_thaw-3_antibody_COV2-2130_3.99_1\", \"antibody_sample_2\": \"2022-03-14_thaw-3_antibody_COV2-2130_0.8_1\", \"r2\": 0.4131604521373801, \"antibody\": \"COV2-2130\", \"antibody_concentration\": null, \"virus_batch\": \"thaw-3\", \"date\": \"2022-03-14\", \"selection_group\": \"Lib-1_2022-03-14_thaw-3_COV2-2130_1\"}, {\"library\": \"Lib-1\", \"censored\": true, \"antibody_sample_1\": \"2022-03-14_thaw-3_antibody_COV2-2130_3.99_1\", \"antibody_sample_2\": \"2022-03-14_thaw-3_antibody_COV2-2130_0.8_1\", \"r2\": 0.20780672277518214, \"antibody\": \"COV2-2130\", \"antibody_concentration\": null, \"virus_batch\": \"thaw-3\", \"date\": \"2022-03-14\", \"selection_group\": \"Lib-1_2022-03-14_thaw-3_COV2-2130_1\"}, {\"library\": \"Lib-1\", \"censored\": false, \"antibody_sample_1\": \"2022-03-14_thaw-3_antibody_2130-1-0114-112_1.76_1\", \"antibody_sample_2\": \"2022-03-14_thaw-3_antibody_COV2-2130_19.95_1\", \"r2\": 0.002005491686736125, \"antibody\": null, \"antibody_concentration\": null, \"virus_batch\": \"thaw-3\", \"date\": \"2022-03-14\", \"selection_group\": null}, {\"library\": \"Lib-1\", \"censored\": true, \"antibody_sample_1\": \"2022-03-14_thaw-3_antibody_2130-1-0114-112_1.76_1\", \"antibody_sample_2\": \"2022-03-14_thaw-3_antibody_COV2-2130_19.95_1\", \"r2\": 0.0012685513717528025, \"antibody\": null, \"antibody_concentration\": null, \"virus_batch\": \"thaw-3\", \"date\": \"2022-03-14\", \"selection_group\": null}, {\"library\": \"Lib-1\", \"censored\": false, \"antibody_sample_1\": \"2022-03-14_thaw-3_antibody_2130-1-0114-112_43.94_1\", \"antibody_sample_2\": \"2022-03-14_thaw-3_antibody_COV2-2130_19.95_1\", \"r2\": 0.16100168142117033, \"antibody\": null, \"antibody_concentration\": null, \"virus_batch\": \"thaw-3\", \"date\": \"2022-03-14\", \"selection_group\": null}, {\"library\": \"Lib-1\", \"censored\": true, \"antibody_sample_1\": \"2022-03-14_thaw-3_antibody_2130-1-0114-112_43.94_1\", \"antibody_sample_2\": \"2022-03-14_thaw-3_antibody_COV2-2130_19.95_1\", \"r2\": 0.11548225185062368, \"antibody\": null, \"antibody_concentration\": null, \"virus_batch\": \"thaw-3\", \"date\": \"2022-03-14\", \"selection_group\": null}, {\"library\": \"Lib-1\", \"censored\": false, \"antibody_sample_1\": \"2022-03-14_thaw-3_antibody_2130-1-0114-112_8.79_1\", \"antibody_sample_2\": \"2022-03-14_thaw-3_antibody_COV2-2130_19.95_1\", \"r2\": 0.33698359853313303, \"antibody\": null, \"antibody_concentration\": null, \"virus_batch\": \"thaw-3\", \"date\": \"2022-03-14\", \"selection_group\": null}, {\"library\": \"Lib-1\", \"censored\": true, \"antibody_sample_1\": \"2022-03-14_thaw-3_antibody_2130-1-0114-112_8.79_1\", \"antibody_sample_2\": \"2022-03-14_thaw-3_antibody_COV2-2130_19.95_1\", \"r2\": 0.21236054259190043, \"antibody\": null, \"antibody_concentration\": null, \"virus_batch\": \"thaw-3\", \"date\": \"2022-03-14\", \"selection_group\": null}, {\"library\": \"Lib-1\", \"censored\": false, \"antibody_sample_1\": \"2022-03-14_thaw-3_antibody_COV2-2130_0.8_1\", \"antibody_sample_2\": \"2022-03-14_thaw-3_antibody_COV2-2130_19.95_1\", \"r2\": 0.30052469358585504, \"antibody\": \"COV2-2130\", \"antibody_concentration\": null, \"virus_batch\": \"thaw-3\", \"date\": \"2022-03-14\", \"selection_group\": \"Lib-1_2022-03-14_thaw-3_COV2-2130_1\"}, {\"library\": \"Lib-1\", \"censored\": true, \"antibody_sample_1\": \"2022-03-14_thaw-3_antibody_COV2-2130_0.8_1\", \"antibody_sample_2\": \"2022-03-14_thaw-3_antibody_COV2-2130_19.95_1\", \"r2\": 0.16232155705990897, \"antibody\": \"COV2-2130\", \"antibody_concentration\": null, \"virus_batch\": \"thaw-3\", \"date\": \"2022-03-14\", \"selection_group\": \"Lib-1_2022-03-14_thaw-3_COV2-2130_1\"}, {\"library\": \"Lib-1\", \"censored\": false, \"antibody_sample_1\": \"2022-03-14_thaw-3_antibody_COV2-2130_19.95_1\", \"antibody_sample_2\": \"2022-03-14_thaw-3_antibody_COV2-2130_19.95_1\", \"r2\": 1.0, \"antibody\": \"COV2-2130\", \"antibody_concentration\": 19.95, \"virus_batch\": \"thaw-3\", \"date\": \"2022-03-14\", \"selection_group\": \"Lib-1_2022-03-14_thaw-3_COV2-2130_1\"}, {\"library\": \"Lib-1\", \"censored\": true, \"antibody_sample_1\": \"2022-03-14_thaw-3_antibody_COV2-2130_19.95_1\", \"antibody_sample_2\": \"2022-03-14_thaw-3_antibody_COV2-2130_19.95_1\", \"r2\": 1.0, \"antibody\": \"COV2-2130\", \"antibody_concentration\": 19.95, \"virus_batch\": \"thaw-3\", \"date\": \"2022-03-14\", \"selection_group\": \"Lib-1_2022-03-14_thaw-3_COV2-2130_1\"}, {\"library\": \"Lib-1\", \"censored\": false, \"antibody_sample_1\": \"2022-03-14_thaw-3_antibody_COV2-2130_3.99_1\", \"antibody_sample_2\": \"2022-03-14_thaw-3_antibody_COV2-2130_19.95_1\", \"r2\": 0.461122144308708, \"antibody\": \"COV2-2130\", \"antibody_concentration\": null, \"virus_batch\": \"thaw-3\", \"date\": \"2022-03-14\", \"selection_group\": \"Lib-1_2022-03-14_thaw-3_COV2-2130_1\"}, {\"library\": \"Lib-1\", \"censored\": true, \"antibody_sample_1\": \"2022-03-14_thaw-3_antibody_COV2-2130_3.99_1\", \"antibody_sample_2\": \"2022-03-14_thaw-3_antibody_COV2-2130_19.95_1\", \"r2\": 0.28753961187464344, \"antibody\": \"COV2-2130\", \"antibody_concentration\": null, \"virus_batch\": \"thaw-3\", \"date\": \"2022-03-14\", \"selection_group\": \"Lib-1_2022-03-14_thaw-3_COV2-2130_1\"}, {\"library\": \"Lib-1\", \"censored\": false, \"antibody_sample_1\": \"2022-03-14_thaw-3_antibody_2130-1-0114-112_1.76_1\", \"antibody_sample_2\": \"2022-03-14_thaw-3_antibody_COV2-2130_3.99_1\", \"r2\": 0.0025108031037810513, \"antibody\": null, \"antibody_concentration\": null, \"virus_batch\": \"thaw-3\", \"date\": \"2022-03-14\", \"selection_group\": null}, {\"library\": \"Lib-1\", \"censored\": true, \"antibody_sample_1\": \"2022-03-14_thaw-3_antibody_2130-1-0114-112_1.76_1\", \"antibody_sample_2\": \"2022-03-14_thaw-3_antibody_COV2-2130_3.99_1\", \"r2\": 0.0007401262054812363, \"antibody\": null, \"antibody_concentration\": null, \"virus_batch\": \"thaw-3\", \"date\": \"2022-03-14\", \"selection_group\": null}, {\"library\": \"Lib-1\", \"censored\": false, \"antibody_sample_1\": \"2022-03-14_thaw-3_antibody_2130-1-0114-112_43.94_1\", \"antibody_sample_2\": \"2022-03-14_thaw-3_antibody_COV2-2130_3.99_1\", \"r2\": 0.12748637323606044, \"antibody\": null, \"antibody_concentration\": null, \"virus_batch\": \"thaw-3\", \"date\": \"2022-03-14\", \"selection_group\": null}, {\"library\": \"Lib-1\", \"censored\": true, \"antibody_sample_1\": \"2022-03-14_thaw-3_antibody_2130-1-0114-112_43.94_1\", \"antibody_sample_2\": \"2022-03-14_thaw-3_antibody_COV2-2130_3.99_1\", \"r2\": 0.10238693956211611, \"antibody\": null, \"antibody_concentration\": null, \"virus_batch\": \"thaw-3\", \"date\": \"2022-03-14\", \"selection_group\": null}, {\"library\": \"Lib-1\", \"censored\": false, \"antibody_sample_1\": \"2022-03-14_thaw-3_antibody_2130-1-0114-112_8.79_1\", \"antibody_sample_2\": \"2022-03-14_thaw-3_antibody_COV2-2130_3.99_1\", \"r2\": 0.3580971071036625, \"antibody\": null, \"antibody_concentration\": null, \"virus_batch\": \"thaw-3\", \"date\": \"2022-03-14\", \"selection_group\": null}, {\"library\": \"Lib-1\", \"censored\": true, \"antibody_sample_1\": \"2022-03-14_thaw-3_antibody_2130-1-0114-112_8.79_1\", \"antibody_sample_2\": \"2022-03-14_thaw-3_antibody_COV2-2130_3.99_1\", \"r2\": 0.21711066025141093, \"antibody\": null, \"antibody_concentration\": null, \"virus_batch\": \"thaw-3\", \"date\": \"2022-03-14\", \"selection_group\": null}, {\"library\": \"Lib-1\", \"censored\": false, \"antibody_sample_1\": \"2022-03-14_thaw-3_antibody_COV2-2130_0.8_1\", \"antibody_sample_2\": \"2022-03-14_thaw-3_antibody_COV2-2130_3.99_1\", \"r2\": 0.4131604521373801, \"antibody\": \"COV2-2130\", \"antibody_concentration\": null, \"virus_batch\": \"thaw-3\", \"date\": \"2022-03-14\", \"selection_group\": \"Lib-1_2022-03-14_thaw-3_COV2-2130_1\"}, {\"library\": \"Lib-1\", \"censored\": true, \"antibody_sample_1\": \"2022-03-14_thaw-3_antibody_COV2-2130_0.8_1\", \"antibody_sample_2\": \"2022-03-14_thaw-3_antibody_COV2-2130_3.99_1\", \"r2\": 0.20780672277518214, \"antibody\": \"COV2-2130\", \"antibody_concentration\": null, \"virus_batch\": \"thaw-3\", \"date\": \"2022-03-14\", \"selection_group\": \"Lib-1_2022-03-14_thaw-3_COV2-2130_1\"}, {\"library\": \"Lib-1\", \"censored\": false, \"antibody_sample_1\": \"2022-03-14_thaw-3_antibody_COV2-2130_19.95_1\", \"antibody_sample_2\": \"2022-03-14_thaw-3_antibody_COV2-2130_3.99_1\", \"r2\": 0.461122144308708, \"antibody\": \"COV2-2130\", \"antibody_concentration\": null, \"virus_batch\": \"thaw-3\", \"date\": \"2022-03-14\", \"selection_group\": \"Lib-1_2022-03-14_thaw-3_COV2-2130_1\"}, {\"library\": \"Lib-1\", \"censored\": true, \"antibody_sample_1\": \"2022-03-14_thaw-3_antibody_COV2-2130_19.95_1\", \"antibody_sample_2\": \"2022-03-14_thaw-3_antibody_COV2-2130_3.99_1\", \"r2\": 0.28753961187464344, \"antibody\": \"COV2-2130\", \"antibody_concentration\": null, \"virus_batch\": \"thaw-3\", \"date\": \"2022-03-14\", \"selection_group\": \"Lib-1_2022-03-14_thaw-3_COV2-2130_1\"}, {\"library\": \"Lib-1\", \"censored\": false, \"antibody_sample_1\": \"2022-03-14_thaw-3_antibody_COV2-2130_3.99_1\", \"antibody_sample_2\": \"2022-03-14_thaw-3_antibody_COV2-2130_3.99_1\", \"r2\": 1.0, \"antibody\": \"COV2-2130\", \"antibody_concentration\": 3.99, \"virus_batch\": \"thaw-3\", \"date\": \"2022-03-14\", \"selection_group\": \"Lib-1_2022-03-14_thaw-3_COV2-2130_1\"}, {\"library\": \"Lib-1\", \"censored\": true, \"antibody_sample_1\": \"2022-03-14_thaw-3_antibody_COV2-2130_3.99_1\", \"antibody_sample_2\": \"2022-03-14_thaw-3_antibody_COV2-2130_3.99_1\", \"r2\": 1.0, \"antibody\": \"COV2-2130\", \"antibody_concentration\": 3.99, \"virus_batch\": \"thaw-3\", \"date\": \"2022-03-14\", \"selection_group\": \"Lib-1_2022-03-14_thaw-3_COV2-2130_1\"}]}}, {\"mode\": \"vega-lite\"});\n",
       "</script>"
      ],
      "text/plain": [
       "alt.Chart(...)"
      ]
     },
     "metadata": {},
     "output_type": "display_data"
    },
    {
     "data": {
      "text/html": [
       "\n",
       "<div id=\"altair-viz-40365a17564e447685d3d455920137be\"></div>\n",
       "<script type=\"text/javascript\">\n",
       "  var VEGA_DEBUG = (typeof VEGA_DEBUG == \"undefined\") ? {} : VEGA_DEBUG;\n",
       "  (function(spec, embedOpt){\n",
       "    let outputDiv = document.currentScript.previousElementSibling;\n",
       "    if (outputDiv.id !== \"altair-viz-40365a17564e447685d3d455920137be\") {\n",
       "      outputDiv = document.getElementById(\"altair-viz-40365a17564e447685d3d455920137be\");\n",
       "    }\n",
       "    const paths = {\n",
       "      \"vega\": \"https://cdn.jsdelivr.net/npm/vega@5?noext\",\n",
       "      \"vega-lib\": \"https://cdn.jsdelivr.net/npm/vega-lib?noext\",\n",
       "      \"vega-lite\": \"https://cdn.jsdelivr.net/npm/vega-lite@5.2.0?noext\",\n",
       "      \"vega-embed\": \"https://cdn.jsdelivr.net/npm/vega-embed@6?noext\",\n",
       "    };\n",
       "\n",
       "    function maybeLoadScript(lib, version) {\n",
       "      var key = `${lib.replace(\"-\", \"\")}_version`;\n",
       "      return (VEGA_DEBUG[key] == version) ?\n",
       "        Promise.resolve(paths[lib]) :\n",
       "        new Promise(function(resolve, reject) {\n",
       "          var s = document.createElement('script');\n",
       "          document.getElementsByTagName(\"head\")[0].appendChild(s);\n",
       "          s.async = true;\n",
       "          s.onload = () => {\n",
       "            VEGA_DEBUG[key] = version;\n",
       "            return resolve(paths[lib]);\n",
       "          };\n",
       "          s.onerror = () => reject(`Error loading script: ${paths[lib]}`);\n",
       "          s.src = paths[lib];\n",
       "        });\n",
       "    }\n",
       "\n",
       "    function showError(err) {\n",
       "      outputDiv.innerHTML = `<div class=\"error\" style=\"color:red;\">${err}</div>`;\n",
       "      throw err;\n",
       "    }\n",
       "\n",
       "    function displayChart(vegaEmbed) {\n",
       "      vegaEmbed(outputDiv, spec, embedOpt)\n",
       "        .catch(err => showError(`Javascript Error: ${err.message}<br>This usually means there's a typo in your chart specification. See the javascript console for the full traceback.`));\n",
       "    }\n",
       "\n",
       "    if(typeof define === \"function\" && define.amd) {\n",
       "      requirejs.config({paths});\n",
       "      require([\"vega-embed\"], displayChart, err => showError(`Error loading script: ${err.message}`));\n",
       "    } else {\n",
       "      maybeLoadScript(\"vega\", \"5\")\n",
       "        .then(() => maybeLoadScript(\"vega-lite\", \"5.2.0\"))\n",
       "        .then(() => maybeLoadScript(\"vega-embed\", \"6\"))\n",
       "        .catch(showError)\n",
       "        .then(() => displayChart(vegaEmbed));\n",
       "    }\n",
       "  })({\"config\": {\"view\": {\"continuousWidth\": 300, \"continuousHeight\": 300}, \"axis\": {\"labelLimit\": 500}}, \"data\": {\"name\": \"data-da692b259bc5a6f53736a3807830f4ac\"}, \"mark\": {\"type\": \"rect\", \"stroke\": \"black\"}, \"encoding\": {\"color\": {\"field\": \"r2\", \"scale\": {\"zero\": true}, \"type\": \"quantitative\"}, \"tooltip\": [{\"field\": \"library\", \"type\": \"nominal\"}, {\"field\": \"antibody_sample_1\", \"type\": \"nominal\"}, {\"field\": \"antibody_sample_2\", \"type\": \"nominal\"}, {\"field\": \"r2\", \"format\": \".3g\", \"type\": \"quantitative\"}], \"x\": {\"field\": \"antibody_sample_1\", \"title\": null, \"type\": \"nominal\"}, \"y\": {\"field\": \"antibody_sample_2\", \"title\": null, \"type\": \"nominal\"}}, \"height\": {\"step\": 15}, \"params\": [{\"name\": \"param_2\", \"select\": {\"type\": \"point\", \"fields\": [\"date\"]}, \"bind\": {\"input\": \"select\", \"options\": [null, \"2022-03-14\"], \"labels\": [\"all\", \"2022-03-14\"], \"name\": \"date\"}}, {\"name\": \"param_3\", \"select\": {\"type\": \"point\", \"fields\": [\"antibody\"]}, \"bind\": {\"input\": \"select\", \"options\": [null, \"COV2-2130\", \"2130-1-0114-112\"], \"labels\": [\"all\", \"COV2-2130\", \"2130-1-0114-112\"], \"name\": \"antibody\"}}, {\"name\": \"param_4\", \"select\": {\"type\": \"point\", \"fields\": [\"virus_batch\"]}, \"bind\": {\"input\": \"select\", \"options\": [null, \"thaw-3\"], \"labels\": [\"all\", \"thaw-3\"], \"name\": \"virus_batch\"}}, {\"name\": \"param_8\", \"select\": {\"type\": \"point\", \"fields\": [\"censored\"]}, \"bind\": {\"input\": \"select\", \"options\": [true, false], \"name\": \"censored\"}, \"value\": [{\"censored\": true}]}], \"title\": \"Lib-2\", \"transform\": [{\"filter\": {\"param\": \"param_2\"}}, {\"filter\": {\"param\": \"param_3\"}}, {\"filter\": {\"param\": \"param_4\"}}, {\"filter\": {\"param\": \"param_8\"}}], \"width\": {\"step\": 15}, \"$schema\": \"https://vega.github.io/schema/vega-lite/v5.2.0.json\", \"datasets\": {\"data-da692b259bc5a6f53736a3807830f4ac\": [{\"library\": \"Lib-2\", \"censored\": false, \"antibody_sample_1\": \"2022-03-14_thaw-3_antibody_2130-1-0114-112_1.76_1\", \"antibody_sample_2\": \"2022-03-14_thaw-3_antibody_2130-1-0114-112_1.76_1\", \"r2\": 1.0, \"antibody\": \"2130-1-0114-112\", \"antibody_concentration\": 1.76, \"virus_batch\": \"thaw-3\", \"date\": \"2022-03-14\", \"selection_group\": \"Lib-2_2022-03-14_thaw-3_2130-1-0114-112_1\"}, {\"library\": \"Lib-2\", \"censored\": true, \"antibody_sample_1\": \"2022-03-14_thaw-3_antibody_2130-1-0114-112_1.76_1\", \"antibody_sample_2\": \"2022-03-14_thaw-3_antibody_2130-1-0114-112_1.76_1\", \"r2\": 1.0, \"antibody\": \"2130-1-0114-112\", \"antibody_concentration\": 1.76, \"virus_batch\": \"thaw-3\", \"date\": \"2022-03-14\", \"selection_group\": \"Lib-2_2022-03-14_thaw-3_2130-1-0114-112_1\"}, {\"library\": \"Lib-2\", \"censored\": false, \"antibody_sample_1\": \"2022-03-14_thaw-3_antibody_2130-1-0114-112_43.94_1\", \"antibody_sample_2\": \"2022-03-14_thaw-3_antibody_2130-1-0114-112_1.76_1\", \"r2\": 7.02240125170993e-05, \"antibody\": \"2130-1-0114-112\", \"antibody_concentration\": null, \"virus_batch\": \"thaw-3\", \"date\": \"2022-03-14\", \"selection_group\": \"Lib-2_2022-03-14_thaw-3_2130-1-0114-112_1\"}, {\"library\": \"Lib-2\", \"censored\": true, \"antibody_sample_1\": \"2022-03-14_thaw-3_antibody_2130-1-0114-112_43.94_1\", \"antibody_sample_2\": \"2022-03-14_thaw-3_antibody_2130-1-0114-112_1.76_1\", \"r2\": 0.004823888503468254, \"antibody\": \"2130-1-0114-112\", \"antibody_concentration\": null, \"virus_batch\": \"thaw-3\", \"date\": \"2022-03-14\", \"selection_group\": \"Lib-2_2022-03-14_thaw-3_2130-1-0114-112_1\"}, {\"library\": \"Lib-2\", \"censored\": false, \"antibody_sample_1\": \"2022-03-14_thaw-3_antibody_2130-1-0114-112_8.79_1\", \"antibody_sample_2\": \"2022-03-14_thaw-3_antibody_2130-1-0114-112_1.76_1\", \"r2\": 0.0012369905271685422, \"antibody\": \"2130-1-0114-112\", \"antibody_concentration\": null, \"virus_batch\": \"thaw-3\", \"date\": \"2022-03-14\", \"selection_group\": \"Lib-2_2022-03-14_thaw-3_2130-1-0114-112_1\"}, {\"library\": \"Lib-2\", \"censored\": true, \"antibody_sample_1\": \"2022-03-14_thaw-3_antibody_2130-1-0114-112_8.79_1\", \"antibody_sample_2\": \"2022-03-14_thaw-3_antibody_2130-1-0114-112_1.76_1\", \"r2\": 0.002056886243917432, \"antibody\": \"2130-1-0114-112\", \"antibody_concentration\": null, \"virus_batch\": \"thaw-3\", \"date\": \"2022-03-14\", \"selection_group\": \"Lib-2_2022-03-14_thaw-3_2130-1-0114-112_1\"}, {\"library\": \"Lib-2\", \"censored\": false, \"antibody_sample_1\": \"2022-03-14_thaw-3_antibody_COV2-2130_0.8_1\", \"antibody_sample_2\": \"2022-03-14_thaw-3_antibody_2130-1-0114-112_1.76_1\", \"r2\": 0.011162932036143401, \"antibody\": null, \"antibody_concentration\": null, \"virus_batch\": \"thaw-3\", \"date\": \"2022-03-14\", \"selection_group\": null}, {\"library\": \"Lib-2\", \"censored\": true, \"antibody_sample_1\": \"2022-03-14_thaw-3_antibody_COV2-2130_0.8_1\", \"antibody_sample_2\": \"2022-03-14_thaw-3_antibody_2130-1-0114-112_1.76_1\", \"r2\": 0.0006524994435776017, \"antibody\": null, \"antibody_concentration\": null, \"virus_batch\": \"thaw-3\", \"date\": \"2022-03-14\", \"selection_group\": null}, {\"library\": \"Lib-2\", \"censored\": false, \"antibody_sample_1\": \"2022-03-14_thaw-3_antibody_COV2-2130_19.95_1\", \"antibody_sample_2\": \"2022-03-14_thaw-3_antibody_2130-1-0114-112_1.76_1\", \"r2\": 0.002407473393810412, \"antibody\": null, \"antibody_concentration\": null, \"virus_batch\": \"thaw-3\", \"date\": \"2022-03-14\", \"selection_group\": null}, {\"library\": \"Lib-2\", \"censored\": true, \"antibody_sample_1\": \"2022-03-14_thaw-3_antibody_COV2-2130_19.95_1\", \"antibody_sample_2\": \"2022-03-14_thaw-3_antibody_2130-1-0114-112_1.76_1\", \"r2\": 0.0008978474037016578, \"antibody\": null, \"antibody_concentration\": null, \"virus_batch\": \"thaw-3\", \"date\": \"2022-03-14\", \"selection_group\": null}, {\"library\": \"Lib-2\", \"censored\": false, \"antibody_sample_1\": \"2022-03-14_thaw-3_antibody_COV2-2130_3.99_1\", \"antibody_sample_2\": \"2022-03-14_thaw-3_antibody_2130-1-0114-112_1.76_1\", \"r2\": 0.0030195639178771687, \"antibody\": null, \"antibody_concentration\": null, \"virus_batch\": \"thaw-3\", \"date\": \"2022-03-14\", \"selection_group\": null}, {\"library\": \"Lib-2\", \"censored\": true, \"antibody_sample_1\": \"2022-03-14_thaw-3_antibody_COV2-2130_3.99_1\", \"antibody_sample_2\": \"2022-03-14_thaw-3_antibody_2130-1-0114-112_1.76_1\", \"r2\": 0.001278334699763052, \"antibody\": null, \"antibody_concentration\": null, \"virus_batch\": \"thaw-3\", \"date\": \"2022-03-14\", \"selection_group\": null}, {\"library\": \"Lib-2\", \"censored\": false, \"antibody_sample_1\": \"2022-03-14_thaw-3_antibody_2130-1-0114-112_1.76_1\", \"antibody_sample_2\": \"2022-03-14_thaw-3_antibody_2130-1-0114-112_43.94_1\", \"r2\": 7.02240125170993e-05, \"antibody\": \"2130-1-0114-112\", \"antibody_concentration\": null, \"virus_batch\": \"thaw-3\", \"date\": \"2022-03-14\", \"selection_group\": \"Lib-2_2022-03-14_thaw-3_2130-1-0114-112_1\"}, {\"library\": \"Lib-2\", \"censored\": true, \"antibody_sample_1\": \"2022-03-14_thaw-3_antibody_2130-1-0114-112_1.76_1\", \"antibody_sample_2\": \"2022-03-14_thaw-3_antibody_2130-1-0114-112_43.94_1\", \"r2\": 0.004823888503468254, \"antibody\": \"2130-1-0114-112\", \"antibody_concentration\": null, \"virus_batch\": \"thaw-3\", \"date\": \"2022-03-14\", \"selection_group\": \"Lib-2_2022-03-14_thaw-3_2130-1-0114-112_1\"}, {\"library\": \"Lib-2\", \"censored\": false, \"antibody_sample_1\": \"2022-03-14_thaw-3_antibody_2130-1-0114-112_43.94_1\", \"antibody_sample_2\": \"2022-03-14_thaw-3_antibody_2130-1-0114-112_43.94_1\", \"r2\": 1.0, \"antibody\": \"2130-1-0114-112\", \"antibody_concentration\": 43.94, \"virus_batch\": \"thaw-3\", \"date\": \"2022-03-14\", \"selection_group\": \"Lib-2_2022-03-14_thaw-3_2130-1-0114-112_1\"}, {\"library\": \"Lib-2\", \"censored\": true, \"antibody_sample_1\": \"2022-03-14_thaw-3_antibody_2130-1-0114-112_43.94_1\", \"antibody_sample_2\": \"2022-03-14_thaw-3_antibody_2130-1-0114-112_43.94_1\", \"r2\": 1.0, \"antibody\": \"2130-1-0114-112\", \"antibody_concentration\": 43.94, \"virus_batch\": \"thaw-3\", \"date\": \"2022-03-14\", \"selection_group\": \"Lib-2_2022-03-14_thaw-3_2130-1-0114-112_1\"}, {\"library\": \"Lib-2\", \"censored\": false, \"antibody_sample_1\": \"2022-03-14_thaw-3_antibody_2130-1-0114-112_8.79_1\", \"antibody_sample_2\": \"2022-03-14_thaw-3_antibody_2130-1-0114-112_43.94_1\", \"r2\": 0.17444677499505545, \"antibody\": \"2130-1-0114-112\", \"antibody_concentration\": null, \"virus_batch\": \"thaw-3\", \"date\": \"2022-03-14\", \"selection_group\": \"Lib-2_2022-03-14_thaw-3_2130-1-0114-112_1\"}, {\"library\": \"Lib-2\", \"censored\": true, \"antibody_sample_1\": \"2022-03-14_thaw-3_antibody_2130-1-0114-112_8.79_1\", \"antibody_sample_2\": \"2022-03-14_thaw-3_antibody_2130-1-0114-112_43.94_1\", \"r2\": 0.14402572790874296, \"antibody\": \"2130-1-0114-112\", \"antibody_concentration\": null, \"virus_batch\": \"thaw-3\", \"date\": \"2022-03-14\", \"selection_group\": \"Lib-2_2022-03-14_thaw-3_2130-1-0114-112_1\"}, {\"library\": \"Lib-2\", \"censored\": false, \"antibody_sample_1\": \"2022-03-14_thaw-3_antibody_COV2-2130_0.8_1\", \"antibody_sample_2\": \"2022-03-14_thaw-3_antibody_2130-1-0114-112_43.94_1\", \"r2\": 0.0751868618698284, \"antibody\": null, \"antibody_concentration\": null, \"virus_batch\": \"thaw-3\", \"date\": \"2022-03-14\", \"selection_group\": null}, {\"library\": \"Lib-2\", \"censored\": true, \"antibody_sample_1\": \"2022-03-14_thaw-3_antibody_COV2-2130_0.8_1\", \"antibody_sample_2\": \"2022-03-14_thaw-3_antibody_2130-1-0114-112_43.94_1\", \"r2\": 0.07562349274830127, \"antibody\": null, \"antibody_concentration\": null, \"virus_batch\": \"thaw-3\", \"date\": \"2022-03-14\", \"selection_group\": null}, {\"library\": \"Lib-2\", \"censored\": false, \"antibody_sample_1\": \"2022-03-14_thaw-3_antibody_COV2-2130_19.95_1\", \"antibody_sample_2\": \"2022-03-14_thaw-3_antibody_2130-1-0114-112_43.94_1\", \"r2\": 0.13254751148451885, \"antibody\": null, \"antibody_concentration\": null, \"virus_batch\": \"thaw-3\", \"date\": \"2022-03-14\", \"selection_group\": null}, {\"library\": \"Lib-2\", \"censored\": true, \"antibody_sample_1\": \"2022-03-14_thaw-3_antibody_COV2-2130_19.95_1\", \"antibody_sample_2\": \"2022-03-14_thaw-3_antibody_2130-1-0114-112_43.94_1\", \"r2\": 0.11860786995391831, \"antibody\": null, \"antibody_concentration\": null, \"virus_batch\": \"thaw-3\", \"date\": \"2022-03-14\", \"selection_group\": null}, {\"library\": \"Lib-2\", \"censored\": false, \"antibody_sample_1\": \"2022-03-14_thaw-3_antibody_COV2-2130_3.99_1\", \"antibody_sample_2\": \"2022-03-14_thaw-3_antibody_2130-1-0114-112_43.94_1\", \"r2\": 0.10244672436194209, \"antibody\": null, \"antibody_concentration\": null, \"virus_batch\": \"thaw-3\", \"date\": \"2022-03-14\", \"selection_group\": null}, {\"library\": \"Lib-2\", \"censored\": true, \"antibody_sample_1\": \"2022-03-14_thaw-3_antibody_COV2-2130_3.99_1\", \"antibody_sample_2\": \"2022-03-14_thaw-3_antibody_2130-1-0114-112_43.94_1\", \"r2\": 0.10084023982621429, \"antibody\": null, \"antibody_concentration\": null, \"virus_batch\": \"thaw-3\", \"date\": \"2022-03-14\", \"selection_group\": null}, {\"library\": \"Lib-2\", \"censored\": false, \"antibody_sample_1\": \"2022-03-14_thaw-3_antibody_2130-1-0114-112_1.76_1\", \"antibody_sample_2\": \"2022-03-14_thaw-3_antibody_2130-1-0114-112_8.79_1\", \"r2\": 0.0012369905271685422, \"antibody\": \"2130-1-0114-112\", \"antibody_concentration\": null, \"virus_batch\": \"thaw-3\", \"date\": \"2022-03-14\", \"selection_group\": \"Lib-2_2022-03-14_thaw-3_2130-1-0114-112_1\"}, {\"library\": \"Lib-2\", \"censored\": true, \"antibody_sample_1\": \"2022-03-14_thaw-3_antibody_2130-1-0114-112_1.76_1\", \"antibody_sample_2\": \"2022-03-14_thaw-3_antibody_2130-1-0114-112_8.79_1\", \"r2\": 0.002056886243917432, \"antibody\": \"2130-1-0114-112\", \"antibody_concentration\": null, \"virus_batch\": \"thaw-3\", \"date\": \"2022-03-14\", \"selection_group\": \"Lib-2_2022-03-14_thaw-3_2130-1-0114-112_1\"}, {\"library\": \"Lib-2\", \"censored\": false, \"antibody_sample_1\": \"2022-03-14_thaw-3_antibody_2130-1-0114-112_43.94_1\", \"antibody_sample_2\": \"2022-03-14_thaw-3_antibody_2130-1-0114-112_8.79_1\", \"r2\": 0.17444677499505545, \"antibody\": \"2130-1-0114-112\", \"antibody_concentration\": null, \"virus_batch\": \"thaw-3\", \"date\": \"2022-03-14\", \"selection_group\": \"Lib-2_2022-03-14_thaw-3_2130-1-0114-112_1\"}, {\"library\": \"Lib-2\", \"censored\": true, \"antibody_sample_1\": \"2022-03-14_thaw-3_antibody_2130-1-0114-112_43.94_1\", \"antibody_sample_2\": \"2022-03-14_thaw-3_antibody_2130-1-0114-112_8.79_1\", \"r2\": 0.14402572790874296, \"antibody\": \"2130-1-0114-112\", \"antibody_concentration\": null, \"virus_batch\": \"thaw-3\", \"date\": \"2022-03-14\", \"selection_group\": \"Lib-2_2022-03-14_thaw-3_2130-1-0114-112_1\"}, {\"library\": \"Lib-2\", \"censored\": false, \"antibody_sample_1\": \"2022-03-14_thaw-3_antibody_2130-1-0114-112_8.79_1\", \"antibody_sample_2\": \"2022-03-14_thaw-3_antibody_2130-1-0114-112_8.79_1\", \"r2\": 1.0, \"antibody\": \"2130-1-0114-112\", \"antibody_concentration\": 8.79, \"virus_batch\": \"thaw-3\", \"date\": \"2022-03-14\", \"selection_group\": \"Lib-2_2022-03-14_thaw-3_2130-1-0114-112_1\"}, {\"library\": \"Lib-2\", \"censored\": true, \"antibody_sample_1\": \"2022-03-14_thaw-3_antibody_2130-1-0114-112_8.79_1\", \"antibody_sample_2\": \"2022-03-14_thaw-3_antibody_2130-1-0114-112_8.79_1\", \"r2\": 1.0, \"antibody\": \"2130-1-0114-112\", \"antibody_concentration\": 8.79, \"virus_batch\": \"thaw-3\", \"date\": \"2022-03-14\", \"selection_group\": \"Lib-2_2022-03-14_thaw-3_2130-1-0114-112_1\"}, {\"library\": \"Lib-2\", \"censored\": false, \"antibody_sample_1\": \"2022-03-14_thaw-3_antibody_COV2-2130_0.8_1\", \"antibody_sample_2\": \"2022-03-14_thaw-3_antibody_2130-1-0114-112_8.79_1\", \"r2\": 0.21821798429007203, \"antibody\": null, \"antibody_concentration\": null, \"virus_batch\": \"thaw-3\", \"date\": \"2022-03-14\", \"selection_group\": null}, {\"library\": \"Lib-2\", \"censored\": true, \"antibody_sample_1\": \"2022-03-14_thaw-3_antibody_COV2-2130_0.8_1\", \"antibody_sample_2\": \"2022-03-14_thaw-3_antibody_2130-1-0114-112_8.79_1\", \"r2\": 0.1682705592628771, \"antibody\": null, \"antibody_concentration\": null, \"virus_batch\": \"thaw-3\", \"date\": \"2022-03-14\", \"selection_group\": null}, {\"library\": \"Lib-2\", \"censored\": false, \"antibody_sample_1\": \"2022-03-14_thaw-3_antibody_COV2-2130_19.95_1\", \"antibody_sample_2\": \"2022-03-14_thaw-3_antibody_2130-1-0114-112_8.79_1\", \"r2\": 0.2696380284560717, \"antibody\": null, \"antibody_concentration\": null, \"virus_batch\": \"thaw-3\", \"date\": \"2022-03-14\", \"selection_group\": null}, {\"library\": \"Lib-2\", \"censored\": true, \"antibody_sample_1\": \"2022-03-14_thaw-3_antibody_COV2-2130_19.95_1\", \"antibody_sample_2\": \"2022-03-14_thaw-3_antibody_2130-1-0114-112_8.79_1\", \"r2\": 0.22089109084235664, \"antibody\": null, \"antibody_concentration\": null, \"virus_batch\": \"thaw-3\", \"date\": \"2022-03-14\", \"selection_group\": null}, {\"library\": \"Lib-2\", \"censored\": false, \"antibody_sample_1\": \"2022-03-14_thaw-3_antibody_COV2-2130_3.99_1\", \"antibody_sample_2\": \"2022-03-14_thaw-3_antibody_2130-1-0114-112_8.79_1\", \"r2\": 0.25227289704080325, \"antibody\": null, \"antibody_concentration\": null, \"virus_batch\": \"thaw-3\", \"date\": \"2022-03-14\", \"selection_group\": null}, {\"library\": \"Lib-2\", \"censored\": true, \"antibody_sample_1\": \"2022-03-14_thaw-3_antibody_COV2-2130_3.99_1\", \"antibody_sample_2\": \"2022-03-14_thaw-3_antibody_2130-1-0114-112_8.79_1\", \"r2\": 0.210406370689643, \"antibody\": null, \"antibody_concentration\": null, \"virus_batch\": \"thaw-3\", \"date\": \"2022-03-14\", \"selection_group\": null}, {\"library\": \"Lib-2\", \"censored\": false, \"antibody_sample_1\": \"2022-03-14_thaw-3_antibody_2130-1-0114-112_1.76_1\", \"antibody_sample_2\": \"2022-03-14_thaw-3_antibody_COV2-2130_0.8_1\", \"r2\": 0.011162932036143401, \"antibody\": null, \"antibody_concentration\": null, \"virus_batch\": \"thaw-3\", \"date\": \"2022-03-14\", \"selection_group\": null}, {\"library\": \"Lib-2\", \"censored\": true, \"antibody_sample_1\": \"2022-03-14_thaw-3_antibody_2130-1-0114-112_1.76_1\", \"antibody_sample_2\": \"2022-03-14_thaw-3_antibody_COV2-2130_0.8_1\", \"r2\": 0.0006524994435776017, \"antibody\": null, \"antibody_concentration\": null, \"virus_batch\": \"thaw-3\", \"date\": \"2022-03-14\", \"selection_group\": null}, {\"library\": \"Lib-2\", \"censored\": false, \"antibody_sample_1\": \"2022-03-14_thaw-3_antibody_2130-1-0114-112_43.94_1\", \"antibody_sample_2\": \"2022-03-14_thaw-3_antibody_COV2-2130_0.8_1\", \"r2\": 0.0751868618698284, \"antibody\": null, \"antibody_concentration\": null, \"virus_batch\": \"thaw-3\", \"date\": \"2022-03-14\", \"selection_group\": null}, {\"library\": \"Lib-2\", \"censored\": true, \"antibody_sample_1\": \"2022-03-14_thaw-3_antibody_2130-1-0114-112_43.94_1\", \"antibody_sample_2\": \"2022-03-14_thaw-3_antibody_COV2-2130_0.8_1\", \"r2\": 0.07562349274830127, \"antibody\": null, \"antibody_concentration\": null, \"virus_batch\": \"thaw-3\", \"date\": \"2022-03-14\", \"selection_group\": null}, {\"library\": \"Lib-2\", \"censored\": false, \"antibody_sample_1\": \"2022-03-14_thaw-3_antibody_2130-1-0114-112_8.79_1\", \"antibody_sample_2\": \"2022-03-14_thaw-3_antibody_COV2-2130_0.8_1\", \"r2\": 0.21821798429007203, \"antibody\": null, \"antibody_concentration\": null, \"virus_batch\": \"thaw-3\", \"date\": \"2022-03-14\", \"selection_group\": null}, {\"library\": \"Lib-2\", \"censored\": true, \"antibody_sample_1\": \"2022-03-14_thaw-3_antibody_2130-1-0114-112_8.79_1\", \"antibody_sample_2\": \"2022-03-14_thaw-3_antibody_COV2-2130_0.8_1\", \"r2\": 0.1682705592628771, \"antibody\": null, \"antibody_concentration\": null, \"virus_batch\": \"thaw-3\", \"date\": \"2022-03-14\", \"selection_group\": null}, {\"library\": \"Lib-2\", \"censored\": false, \"antibody_sample_1\": \"2022-03-14_thaw-3_antibody_COV2-2130_0.8_1\", \"antibody_sample_2\": \"2022-03-14_thaw-3_antibody_COV2-2130_0.8_1\", \"r2\": 1.0, \"antibody\": \"COV2-2130\", \"antibody_concentration\": 0.8, \"virus_batch\": \"thaw-3\", \"date\": \"2022-03-14\", \"selection_group\": \"Lib-2_2022-03-14_thaw-3_COV2-2130_1\"}, {\"library\": \"Lib-2\", \"censored\": true, \"antibody_sample_1\": \"2022-03-14_thaw-3_antibody_COV2-2130_0.8_1\", \"antibody_sample_2\": \"2022-03-14_thaw-3_antibody_COV2-2130_0.8_1\", \"r2\": 1.0, \"antibody\": \"COV2-2130\", \"antibody_concentration\": 0.8, \"virus_batch\": \"thaw-3\", \"date\": \"2022-03-14\", \"selection_group\": \"Lib-2_2022-03-14_thaw-3_COV2-2130_1\"}, {\"library\": \"Lib-2\", \"censored\": false, \"antibody_sample_1\": \"2022-03-14_thaw-3_antibody_COV2-2130_19.95_1\", \"antibody_sample_2\": \"2022-03-14_thaw-3_antibody_COV2-2130_0.8_1\", \"r2\": 0.2558799805199367, \"antibody\": \"COV2-2130\", \"antibody_concentration\": null, \"virus_batch\": \"thaw-3\", \"date\": \"2022-03-14\", \"selection_group\": \"Lib-2_2022-03-14_thaw-3_COV2-2130_1\"}, {\"library\": \"Lib-2\", \"censored\": true, \"antibody_sample_1\": \"2022-03-14_thaw-3_antibody_COV2-2130_19.95_1\", \"antibody_sample_2\": \"2022-03-14_thaw-3_antibody_COV2-2130_0.8_1\", \"r2\": 0.1914271525817086, \"antibody\": \"COV2-2130\", \"antibody_concentration\": null, \"virus_batch\": \"thaw-3\", \"date\": \"2022-03-14\", \"selection_group\": \"Lib-2_2022-03-14_thaw-3_COV2-2130_1\"}, {\"library\": \"Lib-2\", \"censored\": false, \"antibody_sample_1\": \"2022-03-14_thaw-3_antibody_COV2-2130_3.99_1\", \"antibody_sample_2\": \"2022-03-14_thaw-3_antibody_COV2-2130_0.8_1\", \"r2\": 0.3232365436045782, \"antibody\": \"COV2-2130\", \"antibody_concentration\": null, \"virus_batch\": \"thaw-3\", \"date\": \"2022-03-14\", \"selection_group\": \"Lib-2_2022-03-14_thaw-3_COV2-2130_1\"}, {\"library\": \"Lib-2\", \"censored\": true, \"antibody_sample_1\": \"2022-03-14_thaw-3_antibody_COV2-2130_3.99_1\", \"antibody_sample_2\": \"2022-03-14_thaw-3_antibody_COV2-2130_0.8_1\", \"r2\": 0.22064461404840288, \"antibody\": \"COV2-2130\", \"antibody_concentration\": null, \"virus_batch\": \"thaw-3\", \"date\": \"2022-03-14\", \"selection_group\": \"Lib-2_2022-03-14_thaw-3_COV2-2130_1\"}, {\"library\": \"Lib-2\", \"censored\": false, \"antibody_sample_1\": \"2022-03-14_thaw-3_antibody_2130-1-0114-112_1.76_1\", \"antibody_sample_2\": \"2022-03-14_thaw-3_antibody_COV2-2130_19.95_1\", \"r2\": 0.002407473393810412, \"antibody\": null, \"antibody_concentration\": null, \"virus_batch\": \"thaw-3\", \"date\": \"2022-03-14\", \"selection_group\": null}, {\"library\": \"Lib-2\", \"censored\": true, \"antibody_sample_1\": \"2022-03-14_thaw-3_antibody_2130-1-0114-112_1.76_1\", \"antibody_sample_2\": \"2022-03-14_thaw-3_antibody_COV2-2130_19.95_1\", \"r2\": 0.0008978474037016578, \"antibody\": null, \"antibody_concentration\": null, \"virus_batch\": \"thaw-3\", \"date\": \"2022-03-14\", \"selection_group\": null}, {\"library\": \"Lib-2\", \"censored\": false, \"antibody_sample_1\": \"2022-03-14_thaw-3_antibody_2130-1-0114-112_43.94_1\", \"antibody_sample_2\": \"2022-03-14_thaw-3_antibody_COV2-2130_19.95_1\", \"r2\": 0.13254751148451885, \"antibody\": null, \"antibody_concentration\": null, \"virus_batch\": \"thaw-3\", \"date\": \"2022-03-14\", \"selection_group\": null}, {\"library\": \"Lib-2\", \"censored\": true, \"antibody_sample_1\": \"2022-03-14_thaw-3_antibody_2130-1-0114-112_43.94_1\", \"antibody_sample_2\": \"2022-03-14_thaw-3_antibody_COV2-2130_19.95_1\", \"r2\": 0.11860786995391831, \"antibody\": null, \"antibody_concentration\": null, \"virus_batch\": \"thaw-3\", \"date\": \"2022-03-14\", \"selection_group\": null}, {\"library\": \"Lib-2\", \"censored\": false, \"antibody_sample_1\": \"2022-03-14_thaw-3_antibody_2130-1-0114-112_8.79_1\", \"antibody_sample_2\": \"2022-03-14_thaw-3_antibody_COV2-2130_19.95_1\", \"r2\": 0.2696380284560717, \"antibody\": null, \"antibody_concentration\": null, \"virus_batch\": \"thaw-3\", \"date\": \"2022-03-14\", \"selection_group\": null}, {\"library\": \"Lib-2\", \"censored\": true, \"antibody_sample_1\": \"2022-03-14_thaw-3_antibody_2130-1-0114-112_8.79_1\", \"antibody_sample_2\": \"2022-03-14_thaw-3_antibody_COV2-2130_19.95_1\", \"r2\": 0.22089109084235664, \"antibody\": null, \"antibody_concentration\": null, \"virus_batch\": \"thaw-3\", \"date\": \"2022-03-14\", \"selection_group\": null}, {\"library\": \"Lib-2\", \"censored\": false, \"antibody_sample_1\": \"2022-03-14_thaw-3_antibody_COV2-2130_0.8_1\", \"antibody_sample_2\": \"2022-03-14_thaw-3_antibody_COV2-2130_19.95_1\", \"r2\": 0.2558799805199367, \"antibody\": \"COV2-2130\", \"antibody_concentration\": null, \"virus_batch\": \"thaw-3\", \"date\": \"2022-03-14\", \"selection_group\": \"Lib-2_2022-03-14_thaw-3_COV2-2130_1\"}, {\"library\": \"Lib-2\", \"censored\": true, \"antibody_sample_1\": \"2022-03-14_thaw-3_antibody_COV2-2130_0.8_1\", \"antibody_sample_2\": \"2022-03-14_thaw-3_antibody_COV2-2130_19.95_1\", \"r2\": 0.1914271525817086, \"antibody\": \"COV2-2130\", \"antibody_concentration\": null, \"virus_batch\": \"thaw-3\", \"date\": \"2022-03-14\", \"selection_group\": \"Lib-2_2022-03-14_thaw-3_COV2-2130_1\"}, {\"library\": \"Lib-2\", \"censored\": false, \"antibody_sample_1\": \"2022-03-14_thaw-3_antibody_COV2-2130_19.95_1\", \"antibody_sample_2\": \"2022-03-14_thaw-3_antibody_COV2-2130_19.95_1\", \"r2\": 1.0, \"antibody\": \"COV2-2130\", \"antibody_concentration\": 19.95, \"virus_batch\": \"thaw-3\", \"date\": \"2022-03-14\", \"selection_group\": \"Lib-2_2022-03-14_thaw-3_COV2-2130_1\"}, {\"library\": \"Lib-2\", \"censored\": true, \"antibody_sample_1\": \"2022-03-14_thaw-3_antibody_COV2-2130_19.95_1\", \"antibody_sample_2\": \"2022-03-14_thaw-3_antibody_COV2-2130_19.95_1\", \"r2\": 1.0, \"antibody\": \"COV2-2130\", \"antibody_concentration\": 19.95, \"virus_batch\": \"thaw-3\", \"date\": \"2022-03-14\", \"selection_group\": \"Lib-2_2022-03-14_thaw-3_COV2-2130_1\"}, {\"library\": \"Lib-2\", \"censored\": false, \"antibody_sample_1\": \"2022-03-14_thaw-3_antibody_COV2-2130_3.99_1\", \"antibody_sample_2\": \"2022-03-14_thaw-3_antibody_COV2-2130_19.95_1\", \"r2\": 0.3254483709655495, \"antibody\": \"COV2-2130\", \"antibody_concentration\": null, \"virus_batch\": \"thaw-3\", \"date\": \"2022-03-14\", \"selection_group\": \"Lib-2_2022-03-14_thaw-3_COV2-2130_1\"}, {\"library\": \"Lib-2\", \"censored\": true, \"antibody_sample_1\": \"2022-03-14_thaw-3_antibody_COV2-2130_3.99_1\", \"antibody_sample_2\": \"2022-03-14_thaw-3_antibody_COV2-2130_19.95_1\", \"r2\": 0.2474461171471305, \"antibody\": \"COV2-2130\", \"antibody_concentration\": null, \"virus_batch\": \"thaw-3\", \"date\": \"2022-03-14\", \"selection_group\": \"Lib-2_2022-03-14_thaw-3_COV2-2130_1\"}, {\"library\": \"Lib-2\", \"censored\": false, \"antibody_sample_1\": \"2022-03-14_thaw-3_antibody_2130-1-0114-112_1.76_1\", \"antibody_sample_2\": \"2022-03-14_thaw-3_antibody_COV2-2130_3.99_1\", \"r2\": 0.0030195639178771687, \"antibody\": null, \"antibody_concentration\": null, \"virus_batch\": \"thaw-3\", \"date\": \"2022-03-14\", \"selection_group\": null}, {\"library\": \"Lib-2\", \"censored\": true, \"antibody_sample_1\": \"2022-03-14_thaw-3_antibody_2130-1-0114-112_1.76_1\", \"antibody_sample_2\": \"2022-03-14_thaw-3_antibody_COV2-2130_3.99_1\", \"r2\": 0.001278334699763052, \"antibody\": null, \"antibody_concentration\": null, \"virus_batch\": \"thaw-3\", \"date\": \"2022-03-14\", \"selection_group\": null}, {\"library\": \"Lib-2\", \"censored\": false, \"antibody_sample_1\": \"2022-03-14_thaw-3_antibody_2130-1-0114-112_43.94_1\", \"antibody_sample_2\": \"2022-03-14_thaw-3_antibody_COV2-2130_3.99_1\", \"r2\": 0.10244672436194209, \"antibody\": null, \"antibody_concentration\": null, \"virus_batch\": \"thaw-3\", \"date\": \"2022-03-14\", \"selection_group\": null}, {\"library\": \"Lib-2\", \"censored\": true, \"antibody_sample_1\": \"2022-03-14_thaw-3_antibody_2130-1-0114-112_43.94_1\", \"antibody_sample_2\": \"2022-03-14_thaw-3_antibody_COV2-2130_3.99_1\", \"r2\": 0.10084023982621429, \"antibody\": null, \"antibody_concentration\": null, \"virus_batch\": \"thaw-3\", \"date\": \"2022-03-14\", \"selection_group\": null}, {\"library\": \"Lib-2\", \"censored\": false, \"antibody_sample_1\": \"2022-03-14_thaw-3_antibody_2130-1-0114-112_8.79_1\", \"antibody_sample_2\": \"2022-03-14_thaw-3_antibody_COV2-2130_3.99_1\", \"r2\": 0.25227289704080325, \"antibody\": null, \"antibody_concentration\": null, \"virus_batch\": \"thaw-3\", \"date\": \"2022-03-14\", \"selection_group\": null}, {\"library\": \"Lib-2\", \"censored\": true, \"antibody_sample_1\": \"2022-03-14_thaw-3_antibody_2130-1-0114-112_8.79_1\", \"antibody_sample_2\": \"2022-03-14_thaw-3_antibody_COV2-2130_3.99_1\", \"r2\": 0.210406370689643, \"antibody\": null, \"antibody_concentration\": null, \"virus_batch\": \"thaw-3\", \"date\": \"2022-03-14\", \"selection_group\": null}, {\"library\": \"Lib-2\", \"censored\": false, \"antibody_sample_1\": \"2022-03-14_thaw-3_antibody_COV2-2130_0.8_1\", \"antibody_sample_2\": \"2022-03-14_thaw-3_antibody_COV2-2130_3.99_1\", \"r2\": 0.3232365436045782, \"antibody\": \"COV2-2130\", \"antibody_concentration\": null, \"virus_batch\": \"thaw-3\", \"date\": \"2022-03-14\", \"selection_group\": \"Lib-2_2022-03-14_thaw-3_COV2-2130_1\"}, {\"library\": \"Lib-2\", \"censored\": true, \"antibody_sample_1\": \"2022-03-14_thaw-3_antibody_COV2-2130_0.8_1\", \"antibody_sample_2\": \"2022-03-14_thaw-3_antibody_COV2-2130_3.99_1\", \"r2\": 0.22064461404840288, \"antibody\": \"COV2-2130\", \"antibody_concentration\": null, \"virus_batch\": \"thaw-3\", \"date\": \"2022-03-14\", \"selection_group\": \"Lib-2_2022-03-14_thaw-3_COV2-2130_1\"}, {\"library\": \"Lib-2\", \"censored\": false, \"antibody_sample_1\": \"2022-03-14_thaw-3_antibody_COV2-2130_19.95_1\", \"antibody_sample_2\": \"2022-03-14_thaw-3_antibody_COV2-2130_3.99_1\", \"r2\": 0.3254483709655495, \"antibody\": \"COV2-2130\", \"antibody_concentration\": null, \"virus_batch\": \"thaw-3\", \"date\": \"2022-03-14\", \"selection_group\": \"Lib-2_2022-03-14_thaw-3_COV2-2130_1\"}, {\"library\": \"Lib-2\", \"censored\": true, \"antibody_sample_1\": \"2022-03-14_thaw-3_antibody_COV2-2130_19.95_1\", \"antibody_sample_2\": \"2022-03-14_thaw-3_antibody_COV2-2130_3.99_1\", \"r2\": 0.2474461171471305, \"antibody\": \"COV2-2130\", \"antibody_concentration\": null, \"virus_batch\": \"thaw-3\", \"date\": \"2022-03-14\", \"selection_group\": \"Lib-2_2022-03-14_thaw-3_COV2-2130_1\"}, {\"library\": \"Lib-2\", \"censored\": false, \"antibody_sample_1\": \"2022-03-14_thaw-3_antibody_COV2-2130_3.99_1\", \"antibody_sample_2\": \"2022-03-14_thaw-3_antibody_COV2-2130_3.99_1\", \"r2\": 1.0, \"antibody\": \"COV2-2130\", \"antibody_concentration\": 3.99, \"virus_batch\": \"thaw-3\", \"date\": \"2022-03-14\", \"selection_group\": \"Lib-2_2022-03-14_thaw-3_COV2-2130_1\"}, {\"library\": \"Lib-2\", \"censored\": true, \"antibody_sample_1\": \"2022-03-14_thaw-3_antibody_COV2-2130_3.99_1\", \"antibody_sample_2\": \"2022-03-14_thaw-3_antibody_COV2-2130_3.99_1\", \"r2\": 1.0, \"antibody\": \"COV2-2130\", \"antibody_concentration\": 3.99, \"virus_batch\": \"thaw-3\", \"date\": \"2022-03-14\", \"selection_group\": \"Lib-2_2022-03-14_thaw-3_COV2-2130_1\"}]}}, {\"mode\": \"vega-lite\"});\n",
       "</script>"
      ],
      "text/plain": [
       "alt.Chart(...)"
      ]
     },
     "metadata": {},
     "output_type": "display_data"
    }
   ],
   "source": [
    "for library, library_corr in corrs.groupby(\"library\"):\n",
    "    corr_chart = (\n",
    "        alt.Chart(library_corr)\n",
    "        .encode(\n",
    "            alt.X(\"antibody_sample_1\", title=None),\n",
    "            alt.Y(\"antibody_sample_2\", title=None),\n",
    "            color=alt.Color(\"r2\", scale=alt.Scale(zero=True)),\n",
    "            tooltip=[\n",
    "                alt.Tooltip(c, format=\".3g\") if c == \"r2\" else c\n",
    "                for c in [\"library\", \"antibody_sample_1\", \"antibody_sample_2\", \"r2\"]\n",
    "            ],\n",
    "        )\n",
    "        .mark_rect(stroke=\"black\")\n",
    "        .properties(width=alt.Step(15), height=alt.Step(15), title=library)\n",
    "        .configure_axis(labelLimit=500)\n",
    "    )\n",
    "    for s, name in list(zip(selections, selection_names)) + [\n",
    "        (censored_dropdown_selection, \"censored\")\n",
    "    ]:\n",
    "        if name != \"library\":\n",
    "            corr_chart = corr_chart.add_params(s).transform_filter(s)\n",
    "    display(corr_chart)"
   ]
  }
 ],
 "metadata": {
  "kernelspec": {
   "display_name": "Python 3 (ipykernel)",
   "language": "python",
   "name": "python3"
  },
  "language_info": {
   "codemirror_mode": {
    "name": "ipython",
    "version": 3
   },
   "file_extension": ".py",
   "mimetype": "text/x-python",
   "name": "python",
   "nbconvert_exporter": "python",
   "pygments_lexer": "ipython3",
   "version": "3.11.0"
  },
  "papermill": {
   "default_parameters": {},
   "duration": 16.288627,
   "end_time": "2023-02-15T21:15:21.480655",
   "environment_variables": {},
   "exception": null,
   "input_path": "dms-vep-pipeline/notebooks/analyze_prob_escape.ipynb",
   "output_path": "results/notebooks/analyze_prob_escape.ipynb",
   "parameters": {},
   "start_time": "2023-02-15T21:15:05.192028",
   "version": "2.3.4"
  }
 },
 "nbformat": 4,
 "nbformat_minor": 5
}